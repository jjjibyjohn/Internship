{
 "cells": [
  {
   "cell_type": "code",
   "execution_count": 1,
   "id": "02c6849c",
   "metadata": {},
   "outputs": [
    {
     "name": "stdout",
     "output_type": "stream",
     "text": [
      "Enter the string: standard\n",
      "Count of all characters in string is :\n",
      " {'s': 1, 't': 1, 'a': 2, 'n': 1, 'd': 2, 'r': 1}\n"
     ]
    }
   ],
   "source": [
    "## Program to count the frequency of each character of a string\n",
    "\n",
    "# Get count of each element in string\n",
    "freq = {}\n",
    "\n",
    "# input string \n",
    "tis_str = str(input(\"Enter the string: \"))  \n",
    "\n",
    "for i in tis_str:\n",
    "    if i in freq:\n",
    "        freq[i] += 1\n",
    "    else:\n",
    "        freq[i] = 1\n",
    "# printing result \n",
    "print (\"Count of all characters in string is :\\n \" + str(freq))"
   ]
  },
  {
   "cell_type": "code",
   "execution_count": null,
   "id": "a26892d9",
   "metadata": {},
   "outputs": [],
   "source": []
  }
 ],
 "metadata": {
  "kernelspec": {
   "display_name": "Python 3",
   "language": "python",
   "name": "python3"
  },
  "language_info": {
   "codemirror_mode": {
    "name": "ipython",
    "version": 3
   },
   "file_extension": ".py",
   "mimetype": "text/x-python",
   "name": "python",
   "nbconvert_exporter": "python",
   "pygments_lexer": "ipython3",
   "version": "3.8.8"
  }
 },
 "nbformat": 4,
 "nbformat_minor": 5
}
