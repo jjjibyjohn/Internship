{
 "cells": [
  {
   "cell_type": "code",
   "execution_count": 518,
   "id": "277e4d49",
   "metadata": {},
   "outputs": [],
   "source": [
    "import numpy as np\n",
    "import pandas as pd\n",
    "import seaborn as sns\n",
    "import matplotlib.pyplot as plt\n",
    "from sklearn.preprocessing import LabelEncoder, StandardScaler\n",
    "from sklearn.model_selection import train_test_split, GridSearchCV, cross_val_score\n",
    "from sklearn.linear_model import LinearRegression\n",
    "from sklearn.metrics import r2_score, mean_squared_error, mean_absolute_error\n",
    "from sklearn.svm import SVR\n",
    "from sklearn.neighbors import KNeighborsRegressor\n",
    "from sklearn.ensemble import RandomForestRegressor\n",
    "from sklearn.tree import DecisionTreeRegressor\n",
    "from xgboost import XGBRegressor\n",
    "import joblib\n",
    "\n",
    "import warnings\n",
    "warnings.filterwarnings('ignore')"
   ]
  },
  {
   "cell_type": "markdown",
   "id": "ca9ef481",
   "metadata": {},
   "source": [
    "# Data Collection"
   ]
  },
  {
   "cell_type": "code",
   "execution_count": 442,
   "id": "c646bc58",
   "metadata": {},
   "outputs": [],
   "source": [
    "df = pd.read_csv(r\"C:\\Users\\jjjib\\Desktop\\Projects\\FlipRobo\\Car Price 31-03\\Data_Car.csv\")"
   ]
  },
  {
   "cell_type": "markdown",
   "id": "f35d0d2f",
   "metadata": {},
   "source": [
    "# Data Understanding"
   ]
  },
  {
   "cell_type": "code",
   "execution_count": 443,
   "id": "057cc90d",
   "metadata": {},
   "outputs": [
    {
     "data": {
      "text/html": [
       "<div>\n",
       "<style scoped>\n",
       "    .dataframe tbody tr th:only-of-type {\n",
       "        vertical-align: middle;\n",
       "    }\n",
       "\n",
       "    .dataframe tbody tr th {\n",
       "        vertical-align: top;\n",
       "    }\n",
       "\n",
       "    .dataframe thead th {\n",
       "        text-align: right;\n",
       "    }\n",
       "</style>\n",
       "<table border=\"1\" class=\"dataframe\">\n",
       "  <thead>\n",
       "    <tr style=\"text-align: right;\">\n",
       "      <th></th>\n",
       "      <th>Unnamed: 0</th>\n",
       "      <th>Brand</th>\n",
       "      <th>Model</th>\n",
       "      <th>Variant</th>\n",
       "      <th>Year</th>\n",
       "      <th>Location</th>\n",
       "      <th>Ownership</th>\n",
       "      <th>KM Driven</th>\n",
       "      <th>Fuel</th>\n",
       "      <th>Transmission</th>\n",
       "      <th>Price</th>\n",
       "    </tr>\n",
       "  </thead>\n",
       "  <tbody>\n",
       "    <tr>\n",
       "      <th>0</th>\n",
       "      <td>0</td>\n",
       "      <td>Maruti</td>\n",
       "      <td>Ignis</td>\n",
       "      <td>1.2 AMT Zeta BSIV</td>\n",
       "      <td>2021</td>\n",
       "      <td>HR</td>\n",
       "      <td>1st</td>\n",
       "      <td>3,010</td>\n",
       "      <td>Petrol</td>\n",
       "      <td>Automatic</td>\n",
       "      <td>7,21,000</td>\n",
       "    </tr>\n",
       "    <tr>\n",
       "      <th>1</th>\n",
       "      <td>1</td>\n",
       "      <td>Maruti</td>\n",
       "      <td>Alto</td>\n",
       "      <td>LXi</td>\n",
       "      <td>2020</td>\n",
       "      <td>UP</td>\n",
       "      <td>1st</td>\n",
       "      <td>7,326</td>\n",
       "      <td>Petrol</td>\n",
       "      <td>Manual</td>\n",
       "      <td>3,82,000</td>\n",
       "    </tr>\n",
       "    <tr>\n",
       "      <th>2</th>\n",
       "      <td>2</td>\n",
       "      <td>Maruti</td>\n",
       "      <td>Baleno</td>\n",
       "      <td>1.2 Zeta</td>\n",
       "      <td>2019</td>\n",
       "      <td>HR</td>\n",
       "      <td>1st</td>\n",
       "      <td>17,032</td>\n",
       "      <td>Petrol</td>\n",
       "      <td>Manual</td>\n",
       "      <td>7,13,000</td>\n",
       "    </tr>\n",
       "    <tr>\n",
       "      <th>3</th>\n",
       "      <td>3</td>\n",
       "      <td>Toyota</td>\n",
       "      <td>Innova</td>\n",
       "      <td>2.8 ZX AT BSIV</td>\n",
       "      <td>2017</td>\n",
       "      <td>HR</td>\n",
       "      <td>1st</td>\n",
       "      <td>83,409</td>\n",
       "      <td>Diesel</td>\n",
       "      <td>Automatic</td>\n",
       "      <td>19,76,000</td>\n",
       "    </tr>\n",
       "    <tr>\n",
       "      <th>4</th>\n",
       "      <td>4</td>\n",
       "      <td>Hyundai</td>\n",
       "      <td>Grand</td>\n",
       "      <td>Magna</td>\n",
       "      <td>2017</td>\n",
       "      <td>DL</td>\n",
       "      <td>2nd</td>\n",
       "      <td>17,032</td>\n",
       "      <td>Petrol</td>\n",
       "      <td>Manual</td>\n",
       "      <td>4,36,000</td>\n",
       "    </tr>\n",
       "  </tbody>\n",
       "</table>\n",
       "</div>"
      ],
      "text/plain": [
       "   Unnamed: 0    Brand   Model            Variant  Year Location Ownership  \\\n",
       "0           0   Maruti   Ignis  1.2 AMT Zeta BSIV  2021       HR       1st   \n",
       "1           1   Maruti    Alto                LXi  2020       UP       1st   \n",
       "2           2   Maruti  Baleno           1.2 Zeta  2019       HR       1st   \n",
       "3           3   Toyota  Innova     2.8 ZX AT BSIV  2017       HR       1st   \n",
       "4           4  Hyundai   Grand              Magna  2017       DL       2nd   \n",
       "\n",
       "  KM Driven    Fuel Transmission      Price  \n",
       "0     3,010  Petrol    Automatic   7,21,000  \n",
       "1     7,326  Petrol       Manual   3,82,000  \n",
       "2    17,032  Petrol       Manual   7,13,000  \n",
       "3    83,409  Diesel    Automatic  19,76,000  \n",
       "4    17,032  Petrol       Manual   4,36,000  "
      ]
     },
     "execution_count": 443,
     "metadata": {},
     "output_type": "execute_result"
    }
   ],
   "source": [
    "#Visualizing the dataset \n",
    "df.head()"
   ]
  },
  {
   "cell_type": "code",
   "execution_count": 444,
   "id": "2fe604f9",
   "metadata": {},
   "outputs": [
    {
     "name": "stdout",
     "output_type": "stream",
     "text": [
      "<class 'pandas.core.frame.DataFrame'>\n",
      "RangeIndex: 5113 entries, 0 to 5112\n",
      "Data columns (total 11 columns):\n",
      " #   Column        Non-Null Count  Dtype \n",
      "---  ------        --------------  ----- \n",
      " 0   Unnamed: 0    5113 non-null   int64 \n",
      " 1   Brand         5113 non-null   object\n",
      " 2   Model         5113 non-null   object\n",
      " 3   Variant       5109 non-null   object\n",
      " 4   Year          5113 non-null   int64 \n",
      " 5   Location      5113 non-null   object\n",
      " 6   Ownership     5113 non-null   object\n",
      " 7   KM Driven     5113 non-null   object\n",
      " 8   Fuel          5113 non-null   object\n",
      " 9   Transmission  5090 non-null   object\n",
      " 10  Price         5113 non-null   object\n",
      "dtypes: int64(2), object(9)\n",
      "memory usage: 439.5+ KB\n"
     ]
    }
   ],
   "source": [
    "#Basic info of the dataset\n",
    "df.info()"
   ]
  },
  {
   "cell_type": "markdown",
   "id": "1eab7fb4",
   "metadata": {},
   "source": [
    "Here we note that, there are null values present in the data set in two columns 'Variant' and 'Transmission'. Also, the column 'price' should be a float type instead of the shown object type. We shall treat for it in the EDA."
   ]
  },
  {
   "cell_type": "code",
   "execution_count": 445,
   "id": "66860807",
   "metadata": {},
   "outputs": [],
   "source": [
    "#Converting non number data into nullvalues\n",
    "df = df.replace('-',np.NAN)"
   ]
  },
  {
   "cell_type": "code",
   "execution_count": 446,
   "id": "cfb9aa3b",
   "metadata": {},
   "outputs": [
    {
     "data": {
      "text/plain": [
       "Unnamed: 0       0\n",
       "Brand            0\n",
       "Model            5\n",
       "Variant          9\n",
       "Year             0\n",
       "Location         5\n",
       "Ownership        5\n",
       "KM Driven        0\n",
       "Fuel             0\n",
       "Transmission    85\n",
       "Price            0\n",
       "dtype: int64"
      ]
     },
     "execution_count": 446,
     "metadata": {},
     "output_type": "execute_result"
    }
   ],
   "source": [
    "df.isnull().sum()"
   ]
  },
  {
   "cell_type": "code",
   "execution_count": 447,
   "id": "b8656897",
   "metadata": {},
   "outputs": [
    {
     "data": {
      "text/plain": [
       "Index(['Unnamed: 0', 'Brand', 'Model', 'Variant', 'Year', 'Location',\n",
       "       'Ownership', 'KM Driven', 'Fuel', 'Transmission', 'Price'],\n",
       "      dtype='object')"
      ]
     },
     "execution_count": 447,
     "metadata": {},
     "output_type": "execute_result"
    }
   ],
   "source": [
    "df.columns #Calling all the column names of the dataset"
   ]
  },
  {
   "cell_type": "code",
   "execution_count": 448,
   "id": "83fd65a8",
   "metadata": {},
   "outputs": [
    {
     "data": {
      "text/plain": [
       "(5113, 11)"
      ]
     },
     "execution_count": 448,
     "metadata": {},
     "output_type": "execute_result"
    }
   ],
   "source": [
    "df.shape #Looking into the shape of the dataset"
   ]
  },
  {
   "cell_type": "code",
   "execution_count": 449,
   "id": "001db5b5",
   "metadata": {},
   "outputs": [
    {
     "data": {
      "text/plain": [
       "Unnamed: 0       0\n",
       "Brand            0\n",
       "Model            5\n",
       "Variant          9\n",
       "Year             0\n",
       "Location         5\n",
       "Ownership        5\n",
       "KM Driven        0\n",
       "Fuel             0\n",
       "Transmission    85\n",
       "Price            0\n",
       "dtype: int64"
      ]
     },
     "execution_count": 449,
     "metadata": {},
     "output_type": "execute_result"
    }
   ],
   "source": [
    "df.isnull().sum() #Checking for null values again"
   ]
  },
  {
   "cell_type": "code",
   "execution_count": 450,
   "id": "5ad891e5",
   "metadata": {},
   "outputs": [
    {
     "data": {
      "text/plain": [
       "<AxesSubplot:>"
      ]
     },
     "execution_count": 450,
     "metadata": {},
     "output_type": "execute_result"
    },
    {
     "data": {
      "image/png": "[encoded data removed]",
      "text/plain": [
       "<Figure size 432x288 with 2 Axes>"
      ]
     },
     "metadata": {
      "needs_background": "light"
     },
     "output_type": "display_data"
    }
   ],
   "source": [
    "sns.heatmap(df.isnull()) #Visualization of null values"
   ]
  },
  {
   "cell_type": "markdown",
   "id": "d2d86249",
   "metadata": {},
   "source": [
    "# Exploratory Data Analysis"
   ]
  },
  {
   "cell_type": "markdown",
   "id": "1e518a24",
   "metadata": {},
   "source": [
    "We drop the unnamed column as it is just present as an index"
   ]
  },
  {
   "cell_type": "code",
   "execution_count": 451,
   "id": "393ea691",
   "metadata": {},
   "outputs": [],
   "source": [
    "df.drop(columns='Unnamed: 0',inplace=True)"
   ]
  },
  {
   "cell_type": "markdown",
   "id": "41ec6a1f",
   "metadata": {},
   "source": [
    "Let us now look into all the columns one at a time, beginning with the target column price"
   ]
  },
  {
   "cell_type": "code",
   "execution_count": 452,
   "id": "03552c88",
   "metadata": {},
   "outputs": [],
   "source": [
    "#Converting Price column into numerical values\n",
    "for i in range(0,len(df['Price'])):\n",
    "    try:\n",
    "        df['Price'][i] = float(df['Price'][i])*100000\n",
    "    except:\n",
    "        df['Price'][i] = df['Price'][i].replace(',','')\n",
    "        df['Price'][i] = df['Price'][i].replace('*','')"
   ]
  },
  {
   "cell_type": "code",
   "execution_count": 453,
   "id": "f2a21010",
   "metadata": {},
   "outputs": [],
   "source": [
    "#Converting into float type \n",
    "df['Price'] = df['Price'].astype(float)"
   ]
  },
  {
   "cell_type": "code",
   "execution_count": 454,
   "id": "2d0a94f7",
   "metadata": {},
   "outputs": [
    {
     "data": {
      "text/plain": [
       "<AxesSubplot:xlabel='Price'>"
      ]
     },
     "execution_count": 454,
     "metadata": {},
     "output_type": "execute_result"
    },
    {
     "data": {
      "image/png": "[encoded data removed]",
      "text/plain": [
       "<Figure size 432x288 with 1 Axes>"
      ]
     },
     "metadata": {
      "needs_background": "light"
     },
     "output_type": "display_data"
    }
   ],
   "source": [
    "#Data visualization of the target column\n",
    "sns.violinplot(df['Price'])"
   ]
  },
  {
   "cell_type": "markdown",
   "id": "001f2ac9",
   "metadata": {},
   "source": [
    "Next column we look into is the 'Brand' "
   ]
  },
  {
   "cell_type": "code",
   "execution_count": 455,
   "id": "de006612",
   "metadata": {},
   "outputs": [
    {
     "data": {
      "text/plain": [
       "(array([ 0,  1,  2,  3,  4,  5,  6,  7,  8,  9, 10, 11, 12, 13, 14, 15, 16,\n",
       "        17, 18, 19, 20, 21, 22, 23, 24, 25, 26, 27, 28, 29, 30, 31, 32, 33,\n",
       "        34, 35, 36, 37, 38, 39]),\n",
       " [Text(0, 0, 'Maruti'),\n",
       "  Text(1, 0, 'Toyota'),\n",
       "  Text(2, 0, 'Hyundai'),\n",
       "  Text(3, 0, 'Renault'),\n",
       "  Text(4, 0, 'Chevrolet'),\n",
       "  Text(5, 0, 'Ford'),\n",
       "  Text(6, 0, 'Bmw'),\n",
       "  Text(7, 0, 'Mercedes-benz'),\n",
       "  Text(8, 0, 'Jeep'),\n",
       "  Text(9, 0, 'Honda'),\n",
       "  Text(10, 0, 'Skoda'),\n",
       "  Text(11, 0, 'MG'),\n",
       "  Text(12, 0, 'Datsun'),\n",
       "  Text(13, 0, 'Tata'),\n",
       "  Text(14, 0, 'Nissan'),\n",
       "  Text(15, 0, 'Mahindra'),\n",
       "  Text(16, 0, 'Volkswagen'),\n",
       "  Text(17, 0, 'Kia'),\n",
       "  Text(18, 0, 'Audi'),\n",
       "  Text(19, 0, 'Jaguar'),\n",
       "  Text(20, 0, 'Mitsubishi'),\n",
       "  Text(21, 0, 'Mg'),\n",
       "  Text(22, 0, 'Porsche'),\n",
       "  Text(23, 0, 'Land'),\n",
       "  Text(24, 0, 'Volvo'),\n",
       "  Text(25, 0, 'Isuzu'),\n",
       "  Text(26, 0, 'Mini'),\n",
       "  Text(27, 0, 'Mercedes-Benz'),\n",
       "  Text(28, 0, 'Maserati'),\n",
       "  Text(29, 0, 'Bentley'),\n",
       "  Text(30, 0, 'Force'),\n",
       "  Text(31, 0, 'BMW'),\n",
       "  Text(32, 0, 'Mercedes'),\n",
       "  Text(33, 0, 'KIA'),\n",
       "  Text(34, 0, 'Maruti Suzuki'),\n",
       "  Text(35, 0, 'Land Rover'),\n",
       "  Text(36, 0, 'MINI'),\n",
       "  Text(37, 0, 'Ssangyong'),\n",
       "  Text(38, 0, 'Rolls-Royce'),\n",
       "  Text(39, 0, 'Lamborghini')])"
      ]
     },
     "execution_count": 455,
     "metadata": {},
     "output_type": "execute_result"
    },
    {
     "data": {
      "image/png": "[encoded data removed]",
      "text/plain": [
       "<Figure size 432x288 with 1 Axes>"
      ]
     },
     "metadata": {
      "needs_background": "light"
     },
     "output_type": "display_data"
    }
   ],
   "source": [
    "#Data visualization of the column\n",
    "sns.countplot(df['Brand'])\n",
    "plt.xticks(rotation=90)"
   ]
  },
  {
   "cell_type": "code",
   "execution_count": 456,
   "id": "16ddb2d7",
   "metadata": {},
   "outputs": [
    {
     "data": {
      "text/plain": [
       "40"
      ]
     },
     "execution_count": 456,
     "metadata": {},
     "output_type": "execute_result"
    }
   ],
   "source": [
    "df['Brand'].nunique()"
   ]
  },
  {
   "cell_type": "markdown",
   "id": "f34247e9",
   "metadata": {},
   "source": [
    "We see few brands have been repeated, we shall treat them"
   ]
  },
  {
   "cell_type": "code",
   "execution_count": 457,
   "id": "10773824",
   "metadata": {},
   "outputs": [],
   "source": [
    "df['Brand'] = df['Brand'].replace({'Mercedes-benz':'Mercedes-Benz', 'Mercedes':'Mercedes-Benz', 'Mg':'MG', 'Land':'Land Rover', 'Mini':'MINI', 'Maruti':'Maruti Suzuki'})"
   ]
  },
  {
   "cell_type": "markdown",
   "id": "b2cd5fa3",
   "metadata": {},
   "source": [
    "Next column we look into is the 'Model'"
   ]
  },
  {
   "cell_type": "code",
   "execution_count": 458,
   "id": "925f0763",
   "metadata": {},
   "outputs": [
    {
     "data": {
      "image/png": "[encoded data removed]",
      "text/plain": [
       "<Figure size 432x288 with 1 Axes>"
      ]
     },
     "metadata": {
      "needs_background": "light"
     },
     "output_type": "display_data"
    }
   ],
   "source": [
    "#Data visualization of the column\n",
    "plt.plot(figsize=(100,50))\n",
    "sns.countplot(df['Model'])\n",
    "plt.xticks(rotation=90)\n",
    "plt.show()"
   ]
  },
  {
   "cell_type": "code",
   "execution_count": 459,
   "id": "d2014b80",
   "metadata": {},
   "outputs": [
    {
     "data": {
      "text/plain": [
       "array(['Ignis', 'Alto', 'Baleno', 'Innova', 'Grand', 'EON', 'i20', 'KWID',\n",
       "       'Ciaz', 'Swift', 'Cruze', 'Ecosport', 'Z4', 'Gls', 'Compass',\n",
       "       'Santro', 'S-Presso', 'Etios', 'Amaze', 'WR-V', 'Ertiga', 'Brio',\n",
       "       'Verna', 'Vitara', 'Creta', 'Rapid', 'Hector', 'City', 'RediGO',\n",
       "       'Tiago', 'Kicks', 'Jazz', 'Xcent', 'TUV', 'Fortuner', 'Glanza',\n",
       "       'Celerio', 'Polo', 'GO', 'Thar', 'Figo', 'Yaris', 'Platinum',\n",
       "       'Urban', 'Wagon', 'Corolla', 'i10', 'Ameo', 'Micra', 'Seltos',\n",
       "       'Sx4', 'Superb', 'Accord', 'SX4', 'Gla', 'Accent', 'Q5', 'S-class',\n",
       "       'Kwid', 'A4', 'Indigo', 'Xf', 'Pajero', 'Scorpio', 'Sunny', 'I20',\n",
       "       'Venue', 'Sonet', 'E-class', 'Triber', 'C-class', 'Magnite',\n",
       "       'Cayenne', 'Kodiaq', 'Q3', 'Go', 'Q7', '3', 'Endeavour', 'Glc',\n",
       "       'Macan', 'A3', 'Wr-v', 'Rover', 'S5', 'I10', 'Beat', 'Xuv500',\n",
       "       'F-pace', 'Br-v', 'S90', 'Santa', 'Gle', '5', 'Q8', 'Vento',\n",
       "       'Fiesta', 'Zen', 'A6', 'Slk-class', 'X3', 'Xc40', 'Tuv', 'KUV100',\n",
       "       'Mustang', 'Kiger', 'Xc60', 'Duster', 'X5', 'Camry', 'Xuv300',\n",
       "       'Xc90', '7', 'Gl-class', 'Safari', 'D-max', 'Tucson', 'A-star',\n",
       "       'Xe', 'S60', 'X1', 'Cooper', 'X6', 'Cr-v', 'Bolero', 'Astor',\n",
       "       'Aveo', 'Nuvosport', 'Civic', 'Esteem', 'Outlander', 'Ssangyong',\n",
       "       'Alcazar', 'Eeco', 'Mobilio', 'Beetle', 'Cla', 'New', 'Octavia',\n",
       "       'Eon', 'Xj', 'Harrier', 'Quanto', 'M-class', 'Xylo', 'M-Class',\n",
       "       '1', 'Hexa', 'Kuv', 'Terrano', 'Ritz', 'Omni', 'Panamera',\n",
       "       'A-class', 'Taigun', 'X4', 'M', 'Nexon', 'Zest', 'X7', 'Yeti',\n",
       "       'Indica', 'Passat', '911', 'Mu', '718', 'Optra', 'Elantra',\n",
       "       'Fabia', 'Ghibli', 'Cayman', 'Xl6', 'A', 'Laura', 'EcoSport',\n",
       "       'Marazzo', 'Sonata', 'Redigo', 'S-Cross', 'S-presso', 'Carnival',\n",
       "       'Teana', 'Continental', 'One', 'Nano', 'XUV500', 'A5', 'Sumo',\n",
       "       'A7', 'Tigor', 'Swift Dzire', 'Alto K10', 'Grand i10',\n",
       "       'Wagon R 1.0', 'Elite i20', 'Vitara Brezza', 'Corolla Altis',\n",
       "       'NEW SANTRO', 'New Elantra', 'i20 Active', 'Tucson New', 'TIGOR',\n",
       "       'Benz Class', 'TUV300', 'Innova Crysta', 'S Cross', '3 Series',\n",
       "       'New Wagon-R', 'Celerio X', 'New Figo', 'GRAND I10 NIOS',\n",
       "       'S PRESSO', 'YARIS', 'Redi Go', 'Figo Aspire', 'TIGUAN', 'Dzire',\n",
       "       'IGNIS', 'CRV', 'VENUE', 'HECTOR', 'NEXON', 'A Star', 'Etios Liva',\n",
       "       '5 Series', 'Alto 800', 'Zen Estilo', 'SONET', 'Santro Xing',\n",
       "       'XJ L', 'City ZX', 'Captur', 'Wagon R', '800', 'Santa Fe',\n",
       "       'Sonata Transform', 'Fiesta Classic', 'Enjoy', 'Kuv100', 'Fluence',\n",
       "       'Aveo U VA', 'Indica Vista', 'Ikon', 'Renault Logan', 'Prado',\n",
       "       'XJ', 'XF', 'GL-Class', 'CR-V', 'DZire', '3-Series',\n",
       "       'D-Max V-Cross', 'S5 Sportback', 'XUV300', 'GLE', 'GLA', 'Bolt',\n",
       "       'S-Class', 'Hector Plus', 'Swift DZire', 'XL6', 'GLS', 'E-Class',\n",
       "       'Freelander', '5-Series', 'CLA', 'Land Cruiser',\n",
       "       'Range Rover Sport', 'A-Class Sedan', 'XC90', 'F-Pace',\n",
       "       'Range Rover', 'XE', 'Discovery', 'C-Class', 'GLC',\n",
       "       'Range Rover Velar', 'XC40', 'Countryman', 'F-type',\n",
       "       'Grand i10 NIOS', 'Aura', 'Aspire', 'BR-V', 'XUV700',\n",
       "       'Discovery Sport', 'A8', 'Jetta', 'Estilo', 'Rexton', 'A-Class',\n",
       "       'Ghost', '7-Series', 'V-Class', 'Evoque', 'XC60',\n",
       "       'E-Class Cabriolet', 'GLC Coupe', nan, 'Vellfire', 'Boxster',\n",
       "       'SLC', 'Commuter', 'S80', 'Urban Cruiser', 'M3', 'SLK-Class',\n",
       "       'Gallardo', 'Huracan', 'G-Class', 'Levante', 'C-Class Cabriolet',\n",
       "       'Sail Sedan', 'Kizashi', 'S4', 'B-class', 'Q2', 'Viano', 'Gloster'],\n",
       "      dtype=object)"
      ]
     },
     "execution_count": 459,
     "metadata": {},
     "output_type": "execute_result"
    }
   ],
   "source": [
    "#Finding number of unique values\n",
    "df['Model'].unique()"
   ]
  },
  {
   "cell_type": "markdown",
   "id": "6afb04df",
   "metadata": {},
   "source": [
    "We see few models have been repeated, we shall treat them"
   ]
  },
  {
   "cell_type": "code",
   "execution_count": 460,
   "id": "18794003",
   "metadata": {},
   "outputs": [],
   "source": [
    "df['Model'] = df['Model'].replace({'EON':'Eon', 'Grand':'Grand i10', 'KWID':'Kwid', 'GO':'Go', 'I10':'i10', 'Sx4':'SX4', 'Gla':'GLA', 'I20':'i20', 'Xuv500':'XUV500', 'Tuv':'TUV', 'Xuv300':'XUV300', 'Kuv':'KUV', 'One':'1-Series', 'Kuv100':'KUV100', '3':'3-Series', '5':'5-Series', 'Xc60':'XC60', 'Xc90':'XC90', '7':'7-Series', 'Xj':'XJ', 'Xl6':'XL6', 'A':'A-Class', 'NEW SANTRO':'Santro', 'New Elantra':'Elantra', '3 Series':'3-Series', 'IGNIS':'Ignis', '5 Series':'5-Series', 'CRV':'CR-V'})"
   ]
  },
  {
   "cell_type": "markdown",
   "id": "8fd7ab36",
   "metadata": {},
   "source": [
    "Next column we look into is the 'Variant'"
   ]
  },
  {
   "cell_type": "code",
   "execution_count": 461,
   "id": "500735df",
   "metadata": {},
   "outputs": [
    {
     "data": {
      "text/plain": [
       "2184"
      ]
     },
     "execution_count": 461,
     "metadata": {},
     "output_type": "execute_result"
    }
   ],
   "source": [
    "df['Variant'].nunique()"
   ]
  },
  {
   "cell_type": "code",
   "execution_count": 462,
   "id": "4fd79522",
   "metadata": {},
   "outputs": [
    {
     "data": {
      "text/plain": [
       "\"['350d Grand Edition']\""
      ]
     },
     "execution_count": 462,
     "metadata": {},
     "output_type": "execute_result"
    }
   ],
   "source": [
    "df['Variant'].unique()[17]"
   ]
  },
  {
   "cell_type": "markdown",
   "id": "78045c1a",
   "metadata": {},
   "source": [
    "We see that some data are in list form and hence read unique. We shall treat it"
   ]
  },
  {
   "cell_type": "code",
   "execution_count": 463,
   "id": "4eb3b0dd",
   "metadata": {},
   "outputs": [],
   "source": [
    "for i in range(0, len(df['Variant'])):\n",
    "    df['Variant'][i] = str(df['Variant'][i]).replace(\"['\",\"\")\n",
    "    df['Variant'][i] = str(df['Variant'][i]).replace(\"']\",\"\")"
   ]
  },
  {
   "cell_type": "markdown",
   "id": "09ea9f5e",
   "metadata": {},
   "source": [
    "Next column we look into is the 'year'"
   ]
  },
  {
   "cell_type": "code",
   "execution_count": 464,
   "id": "dcfaee20",
   "metadata": {},
   "outputs": [
    {
     "data": {
      "text/plain": [
       "<AxesSubplot:xlabel='Year', ylabel='Density'>"
      ]
     },
     "execution_count": 464,
     "metadata": {},
     "output_type": "execute_result"
    },
    {
     "data": {
      "image/png": "[encoded data removed]",
      "text/plain": [
       "<Figure size 432x288 with 1 Axes>"
      ]
     },
     "metadata": {
      "needs_background": "light"
     },
     "output_type": "display_data"
    }
   ],
   "source": [
    "#Data visualization of the column\n",
    "sns.distplot(df['Year'])"
   ]
  },
  {
   "cell_type": "markdown",
   "id": "aa7df8ff",
   "metadata": {},
   "source": [
    "Next column we look into is the 'Location'"
   ]
  },
  {
   "cell_type": "code",
   "execution_count": 465,
   "id": "f0ef8ab2",
   "metadata": {},
   "outputs": [
    {
     "data": {
      "text/plain": [
       "array(['HR', 'UP', 'DL', '2', '11', '10', 'N/', 'PB', 'KA', 'HP', 'GJ',\n",
       "       'JK', 'PY', 'TS', 'AP', 'CH', 'JH', 'DK', 'MH', nan, 'UK', 'CG',\n",
       "       'PN', 'HW', 'OD', 'BR', 'RJ', 'Dl', 'Delhi', 'Faridabad',\n",
       "       'Gurgaon', 'Noida', 'Lucknow', 'Ghaziabad', 'Chandigarh', 'Mohali',\n",
       "       'Agra', 'Dehradun'], dtype=object)"
      ]
     },
     "execution_count": 465,
     "metadata": {},
     "output_type": "execute_result"
    }
   ],
   "source": [
    "df['Location'].unique()"
   ]
  },
  {
   "cell_type": "code",
   "execution_count": 466,
   "id": "cdf0afb4",
   "metadata": {},
   "outputs": [],
   "source": [
    "df['Location'] = df['Location'].replace({'Gurgaon':'HR', 'Chandigarh':'CH', 'Dehradun':'UK', 'Faridabad':'UP','Noida':'UP', 'Lucknow':'UP', 'Ghaziabad':'UP', 'Mohali':'UP', 'Agra':'UP', 'Delhi':'DL','Dl':'DL', 'HW':'HR', 'N/':'DL','10':'DL','11':'DL','2 ':'DL','DK':'DL'})"
   ]
  },
  {
   "cell_type": "code",
   "execution_count": 467,
   "id": "e7677230",
   "metadata": {},
   "outputs": [
    {
     "data": {
      "text/plain": [
       "<AxesSubplot:xlabel='Location', ylabel='count'>"
      ]
     },
     "execution_count": 467,
     "metadata": {},
     "output_type": "execute_result"
    },
    {
     "data": {
      "image/png": "[encoded data removed]",
      "text/plain": [
       "<Figure size 432x288 with 1 Axes>"
      ]
     },
     "metadata": {
      "needs_background": "light"
     },
     "output_type": "display_data"
    }
   ],
   "source": [
    "#Data visualization of the column\n",
    "sns.countplot(df['Location'])"
   ]
  },
  {
   "cell_type": "markdown",
   "id": "bc1f3e89",
   "metadata": {},
   "source": [
    "Next column we look into is the 'Ownership'"
   ]
  },
  {
   "cell_type": "code",
   "execution_count": 468,
   "id": "cd0cdc3a",
   "metadata": {},
   "outputs": [
    {
     "data": {
      "text/plain": [
       "array(['1st', '2nd', 'First', 'Second', 'Third', 'Fourth', 'Unregistered',\n",
       "       '3rd', '4th', '5th', '4 or More', 'UnRegistered Car', nan],\n",
       "      dtype=object)"
      ]
     },
     "execution_count": 468,
     "metadata": {},
     "output_type": "execute_result"
    }
   ],
   "source": [
    "df['Ownership'].unique()"
   ]
  },
  {
   "cell_type": "code",
   "execution_count": 469,
   "id": "73d1f7b3",
   "metadata": {},
   "outputs": [],
   "source": [
    "df['Ownership'] = df['Ownership'].replace({'1st':'1','First':'1','2nd':'2','Second':'2','3rd':'3','Third':'3','Fourth':'4+','4 or More':'4+','4th':'4+','5th':'4+','UnRegistered Car':'U','Unregistered':'U'})"
   ]
  },
  {
   "cell_type": "code",
   "execution_count": 470,
   "id": "6ed1d845",
   "metadata": {},
   "outputs": [
    {
     "data": {
      "text/plain": [
       "<AxesSubplot:xlabel='Ownership', ylabel='count'>"
      ]
     },
     "execution_count": 470,
     "metadata": {},
     "output_type": "execute_result"
    },
    {
     "data": {
      "image/png": "[encoded data removed]",
      "text/plain": [
       "<Figure size 432x288 with 1 Axes>"
      ]
     },
     "metadata": {
      "needs_background": "light"
     },
     "output_type": "display_data"
    }
   ],
   "source": [
    "#Data visualization of the column\n",
    "sns.countplot(df['Ownership'])"
   ]
  },
  {
   "cell_type": "markdown",
   "id": "2806f718",
   "metadata": {},
   "source": [
    "Next column we look into is the 'KM Driven'"
   ]
  },
  {
   "cell_type": "code",
   "execution_count": 471,
   "id": "0856b670",
   "metadata": {},
   "outputs": [
    {
     "data": {
      "text/plain": [
       "dtype('O')"
      ]
     },
     "execution_count": 471,
     "metadata": {},
     "output_type": "execute_result"
    }
   ],
   "source": [
    "df['KM Driven'].dtype"
   ]
  },
  {
   "cell_type": "markdown",
   "id": "9fa81e36",
   "metadata": {},
   "source": [
    "We see that it is object type. Hence we shall convert into numerical value"
   ]
  },
  {
   "cell_type": "code",
   "execution_count": 472,
   "id": "6d993db0",
   "metadata": {},
   "outputs": [],
   "source": [
    "for i in range(0,len(df['KM Driven'])):\n",
    "    df['KM Driven'][i] = df['KM Driven'][i].replace(',','')"
   ]
  },
  {
   "cell_type": "code",
   "execution_count": 473,
   "id": "971c463f",
   "metadata": {},
   "outputs": [],
   "source": [
    "#Converting the column to integer type\n",
    "df['KM Driven'] = df['KM Driven'].astype(int)"
   ]
  },
  {
   "cell_type": "code",
   "execution_count": 474,
   "id": "4e08e5db",
   "metadata": {},
   "outputs": [
    {
     "data": {
      "text/plain": [
       "<AxesSubplot:xlabel='KM Driven', ylabel='Density'>"
      ]
     },
     "execution_count": 474,
     "metadata": {},
     "output_type": "execute_result"
    },
    {
     "data": {
      "image/png": "[encoded data removed]",
      "text/plain": [
       "<Figure size 432x288 with 1 Axes>"
      ]
     },
     "metadata": {
      "needs_background": "light"
     },
     "output_type": "display_data"
    }
   ],
   "source": [
    "#Data visualization of the column\n",
    "sns.distplot(df['KM Driven'])"
   ]
  },
  {
   "cell_type": "markdown",
   "id": "2722c930",
   "metadata": {},
   "source": [
    "Next column we look into is the 'Fuel'"
   ]
  },
  {
   "cell_type": "code",
   "execution_count": 475,
   "id": "1f84a2c6",
   "metadata": {},
   "outputs": [
    {
     "data": {
      "text/plain": [
       "array(['Petrol', 'Diesel', 'CNG', 'Electric(Battery)', 'LPG',\n",
       "       'Petrol + CNG', 'Petrol + LPG', 'Hybrid'], dtype=object)"
      ]
     },
     "execution_count": 475,
     "metadata": {},
     "output_type": "execute_result"
    }
   ],
   "source": [
    "df['Fuel'].unique()"
   ]
  },
  {
   "cell_type": "code",
   "execution_count": 476,
   "id": "1f44ffb8",
   "metadata": {},
   "outputs": [],
   "source": [
    "df['Fuel'] = df['Fuel'].replace({'Petrol + CNG':'CNG','LPG':'CNG','Petrol + LPG':'CNG'})"
   ]
  },
  {
   "cell_type": "code",
   "execution_count": 477,
   "id": "a05f20ac",
   "metadata": {},
   "outputs": [
    {
     "data": {
      "text/plain": [
       "array(['Petrol', 'Diesel', 'CNG', 'Electric(Battery)', 'Hybrid'],\n",
       "      dtype=object)"
      ]
     },
     "execution_count": 477,
     "metadata": {},
     "output_type": "execute_result"
    }
   ],
   "source": [
    "df['Fuel'].unique()"
   ]
  },
  {
   "cell_type": "code",
   "execution_count": 478,
   "id": "3a414966",
   "metadata": {},
   "outputs": [
    {
     "data": {
      "text/plain": [
       "<AxesSubplot:xlabel='Fuel', ylabel='count'>"
      ]
     },
     "execution_count": 478,
     "metadata": {},
     "output_type": "execute_result"
    },
    {
     "data": {
      "image/png": "[encoded data removed]",
      "text/plain": [
       "<Figure size 432x288 with 1 Axes>"
      ]
     },
     "metadata": {
      "needs_background": "light"
     },
     "output_type": "display_data"
    }
   ],
   "source": [
    "#Data visualization of the column\n",
    "sns.countplot(df['Fuel'])"
   ]
  },
  {
   "cell_type": "markdown",
   "id": "52282304",
   "metadata": {},
   "source": [
    "Next column we look into is the 'Transmission'"
   ]
  },
  {
   "cell_type": "code",
   "execution_count": 479,
   "id": "9f36628d",
   "metadata": {},
   "outputs": [
    {
     "data": {
      "text/plain": [
       "array(['Automatic', 'Manual', 'MANUAL', 'AUTOMATIC', nan], dtype=object)"
      ]
     },
     "execution_count": 479,
     "metadata": {},
     "output_type": "execute_result"
    }
   ],
   "source": [
    "df['Transmission'].unique()"
   ]
  },
  {
   "cell_type": "code",
   "execution_count": 480,
   "id": "060364f6",
   "metadata": {},
   "outputs": [
    {
     "data": {
      "text/plain": [
       "Manual       2284\n",
       "Automatic    1693\n",
       "MANUAL        960\n",
       "AUTOMATIC      91\n",
       "Name: Transmission, dtype: int64"
      ]
     },
     "execution_count": 480,
     "metadata": {},
     "output_type": "execute_result"
    }
   ],
   "source": [
    "df['Transmission'].value_counts()"
   ]
  },
  {
   "cell_type": "code",
   "execution_count": 481,
   "id": "6ef5a9a7",
   "metadata": {},
   "outputs": [],
   "source": [
    "df['Transmission'] = df['Transmission'].replace({'AUTOMATIC':'Automatic','MANUAL':'Manual'})"
   ]
  },
  {
   "cell_type": "code",
   "execution_count": 482,
   "id": "0a632c3c",
   "metadata": {},
   "outputs": [
    {
     "data": {
      "text/plain": [
       "<AxesSubplot:xlabel='Transmission', ylabel='count'>"
      ]
     },
     "execution_count": 482,
     "metadata": {},
     "output_type": "execute_result"
    },
    {
     "data": {
      "image/png": "[encoded data removed]",
      "text/plain": [
       "<Figure size 432x288 with 1 Axes>"
      ]
     },
     "metadata": {
      "needs_background": "light"
     },
     "output_type": "display_data"
    }
   ],
   "source": [
    "#Data visualization of the column\n",
    "sns.countplot(df['Transmission'])"
   ]
  },
  {
   "cell_type": "markdown",
   "id": "b5863701",
   "metadata": {},
   "source": [
    "Dropping all the null values from the data set"
   ]
  },
  {
   "cell_type": "code",
   "execution_count": 483,
   "id": "77bd1423",
   "metadata": {},
   "outputs": [],
   "source": [
    "#Dropping the rows with null values\n",
    "df2 = df.dropna()"
   ]
  },
  {
   "cell_type": "code",
   "execution_count": 484,
   "id": "e8bf4f8e",
   "metadata": {},
   "outputs": [
    {
     "data": {
      "text/plain": [
       "Brand           0\n",
       "Model           0\n",
       "Variant         0\n",
       "Year            0\n",
       "Location        0\n",
       "Ownership       0\n",
       "KM Driven       0\n",
       "Fuel            0\n",
       "Transmission    0\n",
       "Price           0\n",
       "dtype: int64"
      ]
     },
     "execution_count": 484,
     "metadata": {},
     "output_type": "execute_result"
    }
   ],
   "source": [
    "df2.isnull().sum()"
   ]
  },
  {
   "cell_type": "code",
   "execution_count": 485,
   "id": "2defff44",
   "metadata": {},
   "outputs": [
    {
     "name": "stdout",
     "output_type": "stream",
     "text": [
      "Percentage loss of data =\t 1.8580089966751419 %\n"
     ]
    }
   ],
   "source": [
    "print('Percentage loss of data =\\t', ((df.shape[0]-df2.shape[0])/df.shape[0])*100, '%')"
   ]
  },
  {
   "cell_type": "markdown",
   "id": "719d3c9b",
   "metadata": {},
   "source": [
    "Encoding all the categorical data"
   ]
  },
  {
   "cell_type": "code",
   "execution_count": 486,
   "id": "52e9c852",
   "metadata": {},
   "outputs": [],
   "source": [
    "#Encoding data using LabelEncoder\n",
    "le = LabelEncoder()\n",
    "for i in df2.columns:\n",
    "    if (i not in ['Year','KM Driven','Price']):\n",
    "        df2[i] = le.fit_transform(df2[i])"
   ]
  },
  {
   "cell_type": "markdown",
   "id": "5685931d",
   "metadata": {},
   "source": [
    "# Correlation"
   ]
  },
  {
   "cell_type": "markdown",
   "id": "d3d95063",
   "metadata": {},
   "source": [
    "Now, since all the data has been transformed into numeric values. Let us check for the correlation to the target column"
   ]
  },
  {
   "cell_type": "code",
   "execution_count": 487,
   "id": "387a0858",
   "metadata": {},
   "outputs": [
    {
     "data": {
      "text/html": [
       "<div>\n",
       "<style scoped>\n",
       "    .dataframe tbody tr th:only-of-type {\n",
       "        vertical-align: middle;\n",
       "    }\n",
       "\n",
       "    .dataframe tbody tr th {\n",
       "        vertical-align: top;\n",
       "    }\n",
       "\n",
       "    .dataframe thead th {\n",
       "        text-align: right;\n",
       "    }\n",
       "</style>\n",
       "<table border=\"1\" class=\"dataframe\">\n",
       "  <thead>\n",
       "    <tr style=\"text-align: right;\">\n",
       "      <th></th>\n",
       "      <th>Brand</th>\n",
       "      <th>Model</th>\n",
       "      <th>Variant</th>\n",
       "      <th>Year</th>\n",
       "      <th>Location</th>\n",
       "      <th>Ownership</th>\n",
       "      <th>KM Driven</th>\n",
       "      <th>Fuel</th>\n",
       "      <th>Transmission</th>\n",
       "      <th>Price</th>\n",
       "    </tr>\n",
       "  </thead>\n",
       "  <tbody>\n",
       "    <tr>\n",
       "      <th>Brand</th>\n",
       "      <td>1.000000</td>\n",
       "      <td>0.130123</td>\n",
       "      <td>0.065576</td>\n",
       "      <td>0.034068</td>\n",
       "      <td>0.026849</td>\n",
       "      <td>-0.029931</td>\n",
       "      <td>0.066386</td>\n",
       "      <td>-0.069366</td>\n",
       "      <td>0.042888</td>\n",
       "      <td>0.008921</td>\n",
       "    </tr>\n",
       "    <tr>\n",
       "      <th>Model</th>\n",
       "      <td>0.130123</td>\n",
       "      <td>1.000000</td>\n",
       "      <td>0.246449</td>\n",
       "      <td>-0.095644</td>\n",
       "      <td>0.004943</td>\n",
       "      <td>0.013700</td>\n",
       "      <td>0.058425</td>\n",
       "      <td>-0.080409</td>\n",
       "      <td>0.115730</td>\n",
       "      <td>-0.122888</td>\n",
       "    </tr>\n",
       "    <tr>\n",
       "      <th>Variant</th>\n",
       "      <td>0.065576</td>\n",
       "      <td>0.246449</td>\n",
       "      <td>1.000000</td>\n",
       "      <td>0.005169</td>\n",
       "      <td>0.007606</td>\n",
       "      <td>-0.020570</td>\n",
       "      <td>-0.041508</td>\n",
       "      <td>0.055613</td>\n",
       "      <td>0.076462</td>\n",
       "      <td>-0.117869</td>\n",
       "    </tr>\n",
       "    <tr>\n",
       "      <th>Year</th>\n",
       "      <td>0.034068</td>\n",
       "      <td>-0.095644</td>\n",
       "      <td>0.005169</td>\n",
       "      <td>1.000000</td>\n",
       "      <td>0.003832</td>\n",
       "      <td>-0.283111</td>\n",
       "      <td>-0.448915</td>\n",
       "      <td>0.010187</td>\n",
       "      <td>-0.150516</td>\n",
       "      <td>0.349898</td>\n",
       "    </tr>\n",
       "    <tr>\n",
       "      <th>Location</th>\n",
       "      <td>0.026849</td>\n",
       "      <td>0.004943</td>\n",
       "      <td>0.007606</td>\n",
       "      <td>0.003832</td>\n",
       "      <td>1.000000</td>\n",
       "      <td>-0.002842</td>\n",
       "      <td>0.012080</td>\n",
       "      <td>0.014288</td>\n",
       "      <td>-0.033385</td>\n",
       "      <td>0.050369</td>\n",
       "    </tr>\n",
       "    <tr>\n",
       "      <th>Ownership</th>\n",
       "      <td>-0.029931</td>\n",
       "      <td>0.013700</td>\n",
       "      <td>-0.020570</td>\n",
       "      <td>-0.283111</td>\n",
       "      <td>-0.002842</td>\n",
       "      <td>1.000000</td>\n",
       "      <td>0.112221</td>\n",
       "      <td>-0.021110</td>\n",
       "      <td>0.021694</td>\n",
       "      <td>-0.042879</td>\n",
       "    </tr>\n",
       "    <tr>\n",
       "      <th>KM Driven</th>\n",
       "      <td>0.066386</td>\n",
       "      <td>0.058425</td>\n",
       "      <td>-0.041508</td>\n",
       "      <td>-0.448915</td>\n",
       "      <td>0.012080</td>\n",
       "      <td>0.112221</td>\n",
       "      <td>1.000000</td>\n",
       "      <td>-0.223740</td>\n",
       "      <td>0.111127</td>\n",
       "      <td>-0.220731</td>\n",
       "    </tr>\n",
       "    <tr>\n",
       "      <th>Fuel</th>\n",
       "      <td>-0.069366</td>\n",
       "      <td>-0.080409</td>\n",
       "      <td>0.055613</td>\n",
       "      <td>0.010187</td>\n",
       "      <td>0.014288</td>\n",
       "      <td>-0.021110</td>\n",
       "      <td>-0.223740</td>\n",
       "      <td>1.000000</td>\n",
       "      <td>0.003689</td>\n",
       "      <td>-0.109078</td>\n",
       "    </tr>\n",
       "    <tr>\n",
       "      <th>Transmission</th>\n",
       "      <td>0.042888</td>\n",
       "      <td>0.115730</td>\n",
       "      <td>0.076462</td>\n",
       "      <td>-0.150516</td>\n",
       "      <td>-0.033385</td>\n",
       "      <td>0.021694</td>\n",
       "      <td>0.111127</td>\n",
       "      <td>0.003689</td>\n",
       "      <td>1.000000</td>\n",
       "      <td>-0.286980</td>\n",
       "    </tr>\n",
       "    <tr>\n",
       "      <th>Price</th>\n",
       "      <td>0.008921</td>\n",
       "      <td>-0.122888</td>\n",
       "      <td>-0.117869</td>\n",
       "      <td>0.349898</td>\n",
       "      <td>0.050369</td>\n",
       "      <td>-0.042879</td>\n",
       "      <td>-0.220731</td>\n",
       "      <td>-0.109078</td>\n",
       "      <td>-0.286980</td>\n",
       "      <td>1.000000</td>\n",
       "    </tr>\n",
       "  </tbody>\n",
       "</table>\n",
       "</div>"
      ],
      "text/plain": [
       "                 Brand     Model   Variant      Year  Location  Ownership  \\\n",
       "Brand         1.000000  0.130123  0.065576  0.034068  0.026849  -0.029931   \n",
       "Model         0.130123  1.000000  0.246449 -0.095644  0.004943   0.013700   \n",
       "Variant       0.065576  0.246449  1.000000  0.005169  0.007606  -0.020570   \n",
       "Year          0.034068 -0.095644  0.005169  1.000000  0.003832  -0.283111   \n",
       "Location      0.026849  0.004943  0.007606  0.003832  1.000000  -0.002842   \n",
       "Ownership    -0.029931  0.013700 -0.020570 -0.283111 -0.002842   1.000000   \n",
       "KM Driven     0.066386  0.058425 -0.041508 -0.448915  0.012080   0.112221   \n",
       "Fuel         -0.069366 -0.080409  0.055613  0.010187  0.014288  -0.021110   \n",
       "Transmission  0.042888  0.115730  0.076462 -0.150516 -0.033385   0.021694   \n",
       "Price         0.008921 -0.122888 -0.117869  0.349898  0.050369  -0.042879   \n",
       "\n",
       "              KM Driven      Fuel  Transmission     Price  \n",
       "Brand          0.066386 -0.069366      0.042888  0.008921  \n",
       "Model          0.058425 -0.080409      0.115730 -0.122888  \n",
       "Variant       -0.041508  0.055613      0.076462 -0.117869  \n",
       "Year          -0.448915  0.010187     -0.150516  0.349898  \n",
       "Location       0.012080  0.014288     -0.033385  0.050369  \n",
       "Ownership      0.112221 -0.021110      0.021694 -0.042879  \n",
       "KM Driven      1.000000 -0.223740      0.111127 -0.220731  \n",
       "Fuel          -0.223740  1.000000      0.003689 -0.109078  \n",
       "Transmission   0.111127  0.003689      1.000000 -0.286980  \n",
       "Price         -0.220731 -0.109078     -0.286980  1.000000  "
      ]
     },
     "execution_count": 487,
     "metadata": {},
     "output_type": "execute_result"
    }
   ],
   "source": [
    "df2.corr() #Correlation matrix"
   ]
  },
  {
   "cell_type": "code",
   "execution_count": 488,
   "id": "cd39b818",
   "metadata": {},
   "outputs": [
    {
     "data": {
      "image/png": "[encoded data removed]",
      "text/plain": [
       "<Figure size 1440x1440 with 2 Axes>"
      ]
     },
     "metadata": {
      "needs_background": "light"
     },
     "output_type": "display_data"
    }
   ],
   "source": [
    "#Visualization for correlation matrix\n",
    "plt.figure(figsize=(20,20))\n",
    "sns.heatmap(df2.corr(),annot=True) \n",
    "plt.show()"
   ]
  },
  {
   "cell_type": "code",
   "execution_count": 489,
   "id": "dacdf27b",
   "metadata": {},
   "outputs": [
    {
     "data": {
      "text/plain": [
       "Transmission   -0.286980\n",
       "KM Driven      -0.220731\n",
       "Model          -0.122888\n",
       "Variant        -0.117869\n",
       "Fuel           -0.109078\n",
       "Ownership      -0.042879\n",
       "Brand           0.008921\n",
       "Location        0.050369\n",
       "Year            0.349898\n",
       "Price           1.000000\n",
       "Name: Price, dtype: float64"
      ]
     },
     "execution_count": 489,
     "metadata": {},
     "output_type": "execute_result"
    }
   ],
   "source": [
    "#Correlation wrt target column\n",
    "df2.corr()['Price'].sort_values()"
   ]
  },
  {
   "cell_type": "markdown",
   "id": "295efe9c",
   "metadata": {},
   "source": [
    "We see that the column 'Year' has a high correlation to the target"
   ]
  },
  {
   "cell_type": "markdown",
   "id": "027e44ec",
   "metadata": {},
   "source": [
    "# Skewness"
   ]
  },
  {
   "cell_type": "markdown",
   "id": "3144f133",
   "metadata": {},
   "source": [
    "Now, we split the data into feature and target columns"
   ]
  },
  {
   "cell_type": "code",
   "execution_count": 490,
   "id": "11a1705e",
   "metadata": {},
   "outputs": [],
   "source": [
    "#Target = Price\n",
    "x = df2.drop(columns='Price')\n",
    "y = df2['Price']"
   ]
  },
  {
   "cell_type": "code",
   "execution_count": 491,
   "id": "ba1b75c6",
   "metadata": {},
   "outputs": [
    {
     "name": "stdout",
     "output_type": "stream",
     "text": [
      "-0.5262272265450021\n",
      "9.172380703966658\n"
     ]
    }
   ],
   "source": [
    "for i in df2.columns:\n",
    "    if (i in ['Year','KM Driven']):\n",
    "        print(x[i].skew())"
   ]
  },
  {
   "cell_type": "markdown",
   "id": "94a170ab",
   "metadata": {},
   "source": [
    "Treating skewness using sqrt method"
   ]
  },
  {
   "cell_type": "code",
   "execution_count": 492,
   "id": "b5169e7a",
   "metadata": {},
   "outputs": [],
   "source": [
    "for i in df2.columns:\n",
    "    if (i in ['Year','KM Driven']):\n",
    "        if np.abs(x[i].skew())>1:\n",
    "            x[i] = np.sqrt(x[i])       "
   ]
  },
  {
   "cell_type": "code",
   "execution_count": 493,
   "id": "3688eea4",
   "metadata": {},
   "outputs": [
    {
     "name": "stdout",
     "output_type": "stream",
     "text": [
      "-0.5262272265450021\n",
      "0.8483025224835526\n"
     ]
    }
   ],
   "source": [
    "for i in df2.columns:\n",
    "    if (i in ['Year','KM Driven']):\n",
    "        print(x[i].skew())"
   ]
  },
  {
   "cell_type": "markdown",
   "id": "e10cb43d",
   "metadata": {},
   "source": [
    "# Scaling the data for model"
   ]
  },
  {
   "cell_type": "code",
   "execution_count": 495,
   "id": "40ab5dd1",
   "metadata": {},
   "outputs": [],
   "source": [
    "sc = StandardScaler()\n",
    "x = sc.fit_transform(x)"
   ]
  },
  {
   "cell_type": "markdown",
   "id": "afc3448a",
   "metadata": {},
   "source": [
    "# Random State"
   ]
  },
  {
   "cell_type": "code",
   "execution_count": 510,
   "id": "1e2ba20b",
   "metadata": {},
   "outputs": [
    {
     "name": "stdout",
     "output_type": "stream",
     "text": [
      "Max accuracy: \t 0.3253665955269889\n",
      "Random State: \t 73\n"
     ]
    }
   ],
   "source": [
    "maxRS = 0\n",
    "maxAcc = 0\n",
    "for i in range(0,100):\n",
    "    x_train, x_test, y_train, y_test = train_test_split(x, y, test_size=0.25, random_state=i)\n",
    "    lr = LinearRegression()\n",
    "    lr.fit(x_train,y_train)\n",
    "    pred = lr.predict(x_test)\n",
    "    acc = r2_score(y_test, pred)\n",
    "    if acc>maxAcc:\n",
    "        maxAcc = acc\n",
    "        maxRS = i\n",
    "print(\"Max accuracy: \\t\", maxAcc)\n",
    "print(\"Random State: \\t\", maxRS)"
   ]
  },
  {
   "cell_type": "markdown",
   "id": "a3b771bd",
   "metadata": {},
   "source": [
    "Now since we got the best random state for data modelling, we create the test train models"
   ]
  },
  {
   "cell_type": "code",
   "execution_count": 511,
   "id": "a1b73156",
   "metadata": {},
   "outputs": [],
   "source": [
    "x_train, x_test, y_train, y_test = train_test_split(x, y, test_size=0.20, random_state=maxRS)"
   ]
  },
  {
   "cell_type": "markdown",
   "id": "d37fdd85",
   "metadata": {},
   "source": [
    "# Model Predictions"
   ]
  },
  {
   "cell_type": "markdown",
   "id": "f2e089b0",
   "metadata": {},
   "source": [
    "Linear Regression"
   ]
  },
  {
   "cell_type": "code",
   "execution_count": 512,
   "id": "29b4d84b",
   "metadata": {},
   "outputs": [
    {
     "name": "stdout",
     "output_type": "stream",
     "text": [
      "r2 score: \t 32.03908702544157\n",
      "Mean Square Error : \t 2123486184354.144\n",
      "Root Mean Square Error : \t 1457218.6467219475\n"
     ]
    }
   ],
   "source": [
    "lr = LinearRegression()\n",
    "lr.fit(x_train,y_train)\n",
    "pred = lr.predict(x_test)\n",
    "print(\"r2 score: \\t\", r2_score(y_test,pred)*100)\n",
    "print(\"Mean Square Error : \\t\", mean_squared_error(y_test,pred))\n",
    "print(\"Root Mean Square Error : \\t\", np.sqrt(mean_squared_error(y_test,pred)))"
   ]
  },
  {
   "cell_type": "markdown",
   "id": "62bb4357",
   "metadata": {},
   "source": [
    "KNN Regressor"
   ]
  },
  {
   "cell_type": "code",
   "execution_count": 513,
   "id": "a77ffa7a",
   "metadata": {},
   "outputs": [
    {
     "name": "stdout",
     "output_type": "stream",
     "text": [
      "r2 score: \t 47.58832150631967\n",
      "Mean Square Error : \t 1637639494657.841\n",
      "Root Mean Square Error : \t 1279702.8931192744\n"
     ]
    }
   ],
   "source": [
    "knn = KNeighborsRegressor()\n",
    "knn.fit(x_train,y_train)\n",
    "pred = knn.predict(x_test)\n",
    "print(\"r2 score: \\t\", r2_score(y_test,pred)*100)\n",
    "print(\"Mean Square Error : \\t\", mean_squared_error(y_test,pred))\n",
    "print(\"Root Mean Square Error : \\t\", np.sqrt(mean_squared_error(y_test,pred)))"
   ]
  },
  {
   "cell_type": "markdown",
   "id": "bf24a504",
   "metadata": {},
   "source": [
    "SUPPORT VECTOR MACHINES"
   ]
  },
  {
   "cell_type": "code",
   "execution_count": 514,
   "id": "1ad2bd2d",
   "metadata": {},
   "outputs": [
    {
     "name": "stdout",
     "output_type": "stream",
     "text": [
      "r2 score: \t -18.134801794437138\n",
      "Mean Square Error : \t 3691204377960.791\n",
      "Root Mean Square Error : \t 1921250.732715746\n"
     ]
    }
   ],
   "source": [
    "svr = SVR()\n",
    "svr.fit(x_train,y_train)\n",
    "pred = svr.predict(x_test)\n",
    "print(\"r2 score: \\t\", r2_score(y_test,pred)*100)\n",
    "print(\"Mean Square Error : \\t\", mean_squared_error(y_test,pred))\n",
    "print(\"Root Mean Square Error : \\t\", np.sqrt(mean_squared_error(y_test,pred)))"
   ]
  },
  {
   "cell_type": "markdown",
   "id": "f80506f1",
   "metadata": {},
   "source": [
    "Random Forest Regressor"
   ]
  },
  {
   "cell_type": "code",
   "execution_count": 515,
   "id": "de26cff9",
   "metadata": {},
   "outputs": [
    {
     "name": "stdout",
     "output_type": "stream",
     "text": [
      "r2 score: \t 70.3309377218229\n",
      "Mean Square Error : \t 927030569380.9155\n",
      "Root Mean Square Error : \t 962824.2671333724\n"
     ]
    }
   ],
   "source": [
    "rf = RandomForestRegressor()\n",
    "rf.fit(x_train,y_train)\n",
    "pred = rf.predict(x_test)\n",
    "print(\"r2 score: \\t\", r2_score(y_test,pred)*100)\n",
    "print(\"Mean Square Error : \\t\", mean_squared_error(y_test,pred))\n",
    "print(\"Root Mean Square Error : \\t\", np.sqrt(mean_squared_error(y_test,pred)))"
   ]
  },
  {
   "cell_type": "markdown",
   "id": "724d10f9",
   "metadata": {},
   "source": [
    "Decision Tree Regressor"
   ]
  },
  {
   "cell_type": "code",
   "execution_count": 516,
   "id": "f294575f",
   "metadata": {},
   "outputs": [
    {
     "name": "stdout",
     "output_type": "stream",
     "text": [
      "r2 score: \t 22.763594152970732\n",
      "Mean Square Error : \t 2413305436416.5845\n",
      "Root Mean Square Error : \t 1553481.7142202172\n"
     ]
    }
   ],
   "source": [
    "dt = DecisionTreeRegressor()\n",
    "dt.fit(x_train,y_train)\n",
    "pred = dt.predict(x_test)\n",
    "print(\"r2 score: \\t\", r2_score(y_test,pred)*100)\n",
    "print(\"Mean Square Error : \\t\", mean_squared_error(y_test,pred))\n",
    "print(\"Root Mean Square Error : \\t\", np.sqrt(mean_squared_error(y_test,pred)))"
   ]
  },
  {
   "cell_type": "markdown",
   "id": "eb450045",
   "metadata": {},
   "source": [
    "XGB Regressor"
   ]
  },
  {
   "cell_type": "code",
   "execution_count": 521,
   "id": "6098b7b8",
   "metadata": {},
   "outputs": [
    {
     "name": "stdout",
     "output_type": "stream",
     "text": [
      "r2 score: \t 81.22307028598064\n",
      "Mean Square Error : \t 586698281219.9042\n",
      "Root Mean Square Error : \t 765962.3236295008\n"
     ]
    }
   ],
   "source": [
    "xgb = XGBRegressor()\n",
    "xgb.fit(x_train,y_train)\n",
    "pred = xgb.predict(x_test)\n",
    "print(\"r2 score: \\t\", r2_score(y_test,pred)*100)\n",
    "print(\"Mean Square Error : \\t\", mean_squared_error(y_test,pred))\n",
    "print(\"Root Mean Square Error : \\t\", np.sqrt(mean_squared_error(y_test,pred)))"
   ]
  },
  {
   "cell_type": "markdown",
   "id": "c6015c47",
   "metadata": {},
   "source": [
    "Out of all the models Random Forest Regressor and XGB Regressor has the highest r2_score"
   ]
  },
  {
   "cell_type": "markdown",
   "id": "1bd269e7",
   "metadata": {},
   "source": [
    "# Cross validation"
   ]
  },
  {
   "cell_type": "code",
   "execution_count": 522,
   "id": "b595ec32",
   "metadata": {},
   "outputs": [
    {
     "name": "stdout",
     "output_type": "stream",
     "text": [
      "Cross validation score of Linear Regression is: \t -0.5978985663900878\n"
     ]
    }
   ],
   "source": [
    "scr1 = cross_val_score(lr, x, y, cv=5, scoring='r2')\n",
    "print(\"Cross validation score of Linear Regression is: \\t\", scr1.mean())"
   ]
  },
  {
   "cell_type": "code",
   "execution_count": 524,
   "id": "0c2dd487",
   "metadata": {},
   "outputs": [
    {
     "name": "stdout",
     "output_type": "stream",
     "text": [
      "Cross validation score of Decision Tree Regressor is: \t -1.2144155356648905\n"
     ]
    }
   ],
   "source": [
    "scr2 = cross_val_score(dt, x, y, cv=5)\n",
    "print(\"Cross validation score of Decision Tree Regressor is: \\t\", scr2.mean())"
   ]
  },
  {
   "cell_type": "code",
   "execution_count": 525,
   "id": "d5d2ad1d",
   "metadata": {},
   "outputs": [
    {
     "name": "stdout",
     "output_type": "stream",
     "text": [
      "Cross validation score of Random Forest Regressor is: \t 0.2641424730770606\n"
     ]
    }
   ],
   "source": [
    "scr3 = cross_val_score(rf, x, y, cv=5)\n",
    "print(\"Cross validation score of Random Forest Regressor is: \\t\", scr3.mean())"
   ]
  },
  {
   "cell_type": "code",
   "execution_count": 526,
   "id": "2d799607",
   "metadata": {},
   "outputs": [
    {
     "name": "stdout",
     "output_type": "stream",
     "text": [
      "Cross validation score of KNeighbour Regressor is: \t -0.3889670660932756\n"
     ]
    }
   ],
   "source": [
    "scr4 = cross_val_score(knn, x, y, cv=5)\n",
    "print(\"Cross validation score of KNeighbour Regressor is: \\t\", scr4.mean())"
   ]
  },
  {
   "cell_type": "code",
   "execution_count": 527,
   "id": "40c5d5dd",
   "metadata": {},
   "outputs": [
    {
     "name": "stdout",
     "output_type": "stream",
     "text": [
      "Cross validation score of SVM is: \t -0.23368945257149734\n"
     ]
    }
   ],
   "source": [
    "scr5 = cross_val_score(svr, x, y, cv=5)\n",
    "print(\"Cross validation score of SVM is: \\t\", scr5.mean())"
   ]
  },
  {
   "cell_type": "code",
   "execution_count": 529,
   "id": "54f62a4b",
   "metadata": {},
   "outputs": [
    {
     "name": "stdout",
     "output_type": "stream",
     "text": [
      "Cross validation score of XGB is: \t 0.14631444101172297\n"
     ]
    }
   ],
   "source": [
    "scr6 = cross_val_score(xgb, x, y, cv=5)\n",
    "print(\"Cross validation score of XGB is: \\t\", scr6.mean())"
   ]
  },
  {
   "cell_type": "markdown",
   "id": "83379919",
   "metadata": {},
   "source": [
    "We see that the Random Forest Regressor performs the best in cross validation"
   ]
  },
  {
   "cell_type": "markdown",
   "id": "407f489b",
   "metadata": {},
   "source": [
    "# Hyper Parameter Tuning"
   ]
  },
  {
   "cell_type": "code",
   "execution_count": 530,
   "id": "df10815d",
   "metadata": {},
   "outputs": [
    {
     "data": {
      "text/plain": [
       "{'bootstrap': True,\n",
       " 'ccp_alpha': 0.0,\n",
       " 'criterion': 'squared_error',\n",
       " 'max_depth': None,\n",
       " 'max_features': 'auto',\n",
       " 'max_leaf_nodes': None,\n",
       " 'max_samples': None,\n",
       " 'min_impurity_decrease': 0.0,\n",
       " 'min_samples_leaf': 1,\n",
       " 'min_samples_split': 2,\n",
       " 'min_weight_fraction_leaf': 0.0,\n",
       " 'n_estimators': 100,\n",
       " 'n_jobs': None,\n",
       " 'oob_score': False,\n",
       " 'random_state': None,\n",
       " 'verbose': 0,\n",
       " 'warm_start': False}"
      ]
     },
     "execution_count": 530,
     "metadata": {},
     "output_type": "execute_result"
    }
   ],
   "source": [
    "GridSearchCV.get_params(rf)"
   ]
  },
  {
   "cell_type": "code",
   "execution_count": 531,
   "id": "d52de0ca",
   "metadata": {},
   "outputs": [],
   "source": [
    "parameters = {'bootstrap': [True,False],\n",
    "              'max_depth': [10, 20, None],\n",
    "              'min_samples_leaf': [1,2,4],\n",
    "              'min_samples_split': [2,5,10],\n",
    "              'n_estimators': [100,200]}"
   ]
  },
  {
   "cell_type": "code",
   "execution_count": 532,
   "id": "e32fd5fc",
   "metadata": {},
   "outputs": [],
   "source": [
    "gcv = GridSearchCV(rf, parameters, cv=5, scoring='r2')"
   ]
  },
  {
   "cell_type": "code",
   "execution_count": 533,
   "id": "f0296e7c",
   "metadata": {},
   "outputs": [
    {
     "data": {
      "text/plain": [
       "GridSearchCV(cv=5, estimator=RandomForestRegressor(),\n",
       "             param_grid={'bootstrap': [True, False],\n",
       "                         'max_depth': [10, 20, None],\n",
       "                         'min_samples_leaf': [1, 2, 4],\n",
       "                         'min_samples_split': [2, 5, 10],\n",
       "                         'n_estimators': [100, 200]},\n",
       "             scoring='r2')"
      ]
     },
     "execution_count": 533,
     "metadata": {},
     "output_type": "execute_result"
    }
   ],
   "source": [
    "gcv.fit(x_train,y_train)"
   ]
  },
  {
   "cell_type": "code",
   "execution_count": 534,
   "id": "eb5d5b4b",
   "metadata": {},
   "outputs": [
    {
     "name": "stdout",
     "output_type": "stream",
     "text": [
      "Tuned Hyperparameters : {'bootstrap': True, 'max_depth': None, 'min_samples_leaf': 1, 'min_samples_split': 2, 'n_estimators': 100}\n",
      "Accuracy : 0.807585094828854\n"
     ]
    }
   ],
   "source": [
    "print(\"Tuned Hyperparameters :\", gcv.best_params_)\n",
    "print(\"Accuracy :\",gcv.best_score_)"
   ]
  },
  {
   "cell_type": "code",
   "execution_count": 538,
   "id": "a4c5e3ef",
   "metadata": {},
   "outputs": [
    {
     "data": {
      "text/plain": [
       "0.697963508574505"
      ]
     },
     "execution_count": 538,
     "metadata": {},
     "output_type": "execute_result"
    }
   ],
   "source": [
    "gcv_pred = gcv.best_estimator_.predict(x_test)\n",
    "r2_score(y_test,gcv_pred)"
   ]
  },
  {
   "cell_type": "markdown",
   "id": "038a8d2b",
   "metadata": {},
   "source": [
    "The best estimator gives the accuracy of 69.79% and hence we shall save previous model."
   ]
  },
  {
   "cell_type": "markdown",
   "id": "e0711e92",
   "metadata": {},
   "source": [
    "# Saving the best model"
   ]
  },
  {
   "cell_type": "code",
   "execution_count": 540,
   "id": "bc0b758e",
   "metadata": {},
   "outputs": [
    {
     "data": {
      "text/plain": [
       "['Car_Price.pkl']"
      ]
     },
     "execution_count": 540,
     "metadata": {},
     "output_type": "execute_result"
    }
   ],
   "source": [
    "joblib.dump(rf,\"Car_Price.pkl\")"
   ]
  },
  {
   "cell_type": "code",
   "execution_count": null,
   "id": "eefeaab3",
   "metadata": {},
   "outputs": [],
   "source": []
  }
 ],
 "metadata": {
  "kernelspec": {
   "display_name": "Python 3",
   "language": "python",
   "name": "python3"
  },
  "language_info": {
   "codemirror_mode": {
    "name": "ipython",
    "version": 3
   },
   "file_extension": ".py",
   "mimetype": "text/x-python",
   "name": "python",
   "nbconvert_exporter": "python",
   "pygments_lexer": "ipython3",
   "version": "3.8.8"
  }
 },
 "nbformat": 4,
 "nbformat_minor": 5
}
