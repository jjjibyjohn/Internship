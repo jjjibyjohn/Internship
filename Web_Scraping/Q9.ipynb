{
 "cells": [
  {
   "cell_type": "markdown",
   "id": "a461e274",
   "metadata": {},
   "source": [
    "# 9. Write a python program to scrape details from dineout.co.in"
   ]
  },
  {
   "cell_type": "code",
   "execution_count": 1,
   "id": "8b57dac1",
   "metadata": {},
   "outputs": [],
   "source": [
    "from bs4 import BeautifulSoup"
   ]
  },
  {
   "cell_type": "code",
   "execution_count": 2,
   "id": "8a51192f",
   "metadata": {},
   "outputs": [],
   "source": [
    "import requests"
   ]
  },
  {
   "cell_type": "code",
   "execution_count": 3,
   "id": "415bb23f",
   "metadata": {},
   "outputs": [],
   "source": [
    "url = 'https://www.dineout.co.in/delhi-restaurants'"
   ]
  },
  {
   "cell_type": "code",
   "execution_count": 4,
   "id": "8d72be77",
   "metadata": {},
   "outputs": [],
   "source": [
    "site = requests.get(url)"
   ]
  },
  {
   "cell_type": "code",
   "execution_count": 5,
   "id": "ec4890da",
   "metadata": {},
   "outputs": [
    {
     "data": {
      "text/plain": [
       "<Response [200]>"
      ]
     },
     "execution_count": 5,
     "metadata": {},
     "output_type": "execute_result"
    }
   ],
   "source": [
    "site"
   ]
  },
  {
   "cell_type": "code",
   "execution_count": 6,
   "id": "38b23b8d",
   "metadata": {},
   "outputs": [],
   "source": [
    "bs = BeautifulSoup(site.content)"
   ]
  },
  {
   "cell_type": "markdown",
   "id": "268e2cf3",
   "metadata": {},
   "source": [
    "## (i) Restaurant name"
   ]
  },
  {
   "cell_type": "code",
   "execution_count": 7,
   "id": "86f645c2",
   "metadata": {},
   "outputs": [],
   "source": [
    "name = []"
   ]
  },
  {
   "cell_type": "code",
   "execution_count": 8,
   "id": "358b3a89",
   "metadata": {},
   "outputs": [],
   "source": [
    "for i in bs.find_all('a',class_='restnt-name ellipsis'):\n",
    "    name.append(i.text)"
   ]
  },
  {
   "cell_type": "code",
   "execution_count": 9,
   "id": "72f4bb17",
   "metadata": {},
   "outputs": [
    {
     "data": {
      "text/plain": [
       "['Local',\n",
       " 'Tamasha',\n",
       " 'The G.T. ROAD',\n",
       " 'Unplugged Courtyard',\n",
       " 'The Junkyard Cafe',\n",
       " 'Ministry Of Beer',\n",
       " 'Out Of The Box Courtyard',\n",
       " 'Connaught Clubhouse Microbrewery',\n",
       " 'Padmanabham',\n",
       " 'Cafe High5',\n",
       " \"Chili's American Grill and Bar\",\n",
       " 'The Darzi Bar & Kitchen',\n",
       " 'Station Bar',\n",
       " '38 Barracks',\n",
       " 'My Bar Square',\n",
       " 'Ardor 2.1 Restaurant and Lounge',\n",
       " 'Lord of the Drinks',\n",
       " 'Farzi Cafe',\n",
       " 'Cafe Delhi Heights',\n",
       " 'Warehouse Cafe',\n",
       " 'Lazeez Affaire']"
      ]
     },
     "execution_count": 9,
     "metadata": {},
     "output_type": "execute_result"
    }
   ],
   "source": [
    "name"
   ]
  },
  {
   "cell_type": "code",
   "execution_count": 10,
   "id": "fd2f0c37",
   "metadata": {},
   "outputs": [
    {
     "data": {
      "text/plain": [
       "21"
      ]
     },
     "execution_count": 10,
     "metadata": {},
     "output_type": "execute_result"
    }
   ],
   "source": [
    "len(name)"
   ]
  },
  {
   "cell_type": "markdown",
   "id": "3656553e",
   "metadata": {},
   "source": [
    "## (ii) Cuisine"
   ]
  },
  {
   "cell_type": "code",
   "execution_count": 11,
   "id": "84555f8e",
   "metadata": {},
   "outputs": [],
   "source": [
    "cuisine = []"
   ]
  },
  {
   "cell_type": "code",
   "execution_count": 12,
   "id": "dd2d26f4",
   "metadata": {},
   "outputs": [],
   "source": [
    "for i in bs.find_all('span',class_='double-line-ellipsis'):\n",
    "    cuisine.append(i.text.split('|')[1])"
   ]
  },
  {
   "cell_type": "code",
   "execution_count": 13,
   "id": "edd25423",
   "metadata": {},
   "outputs": [
    {
     "data": {
      "text/plain": [
       "[' Chinese, North Indian, Italian, Lebanese, Mediterranean, Mexican',\n",
       " ' Continental, Finger Food, Asian, Italian, North Indian',\n",
       " ' North Indian',\n",
       " ' North Indian, Continental',\n",
       " ' Asian, Mediterranean, North Indian, Italian, Oriental ',\n",
       " ' Finger Food, North Indian, Italian, Continental, Asian, Oriental , Fusion',\n",
       " ' Multi-Cuisine, American, Asian, Chinese, Continental, Fast Food, Italian, North Indian, Pizza',\n",
       " ' Multi-Cuisine, Asian, Italian, Mexican',\n",
       " ' South Indian, North Indian, Street Food',\n",
       " ' North Indian, Chinese, Continental, Oriental ',\n",
       " ' American, Mexican, Tex Mex',\n",
       " ' Multi-Cuisine, Asian, Continental, European, Italian, Mexican, North Indian, Oriental ',\n",
       " ' Multi-Cuisine, North Indian, Italian, Continental, Mediterranean, Oriental ',\n",
       " ' North Indian, Chinese, Continental, Italian',\n",
       " ' Finger Food, Chinese, Continental, Italian',\n",
       " ' Multi-Cuisine, Chinese, Continental, Italian, North Indian, Seafood',\n",
       " ' Multi-Cuisine, Continental, Japanese, North Indian, Oriental ',\n",
       " ' Modern Indian, Continental, Finger Food',\n",
       " ' Continental, Modern Indian, Italian, American',\n",
       " ' Fusion, North Indian, Chinese, Italian',\n",
       " ' North Indian, Mughlai']"
      ]
     },
     "execution_count": 13,
     "metadata": {},
     "output_type": "execute_result"
    }
   ],
   "source": [
    "cuisine"
   ]
  },
  {
   "cell_type": "code",
   "execution_count": 14,
   "id": "2e537af9",
   "metadata": {},
   "outputs": [
    {
     "data": {
      "text/plain": [
       "21"
      ]
     },
     "execution_count": 14,
     "metadata": {},
     "output_type": "execute_result"
    }
   ],
   "source": [
    "len(cuisine)"
   ]
  },
  {
   "cell_type": "markdown",
   "id": "1869e850",
   "metadata": {},
   "source": [
    "## (iii) Location"
   ]
  },
  {
   "cell_type": "code",
   "execution_count": 15,
   "id": "b562ecaf",
   "metadata": {},
   "outputs": [],
   "source": [
    "loc = []"
   ]
  },
  {
   "cell_type": "code",
   "execution_count": 16,
   "id": "1d256144",
   "metadata": {},
   "outputs": [],
   "source": [
    "for i in bs.find_all('div',class_='restnt-loc ellipsis'):\n",
    "    loc.append(i.text.strip())"
   ]
  },
  {
   "cell_type": "code",
   "execution_count": 17,
   "id": "acc0386c",
   "metadata": {},
   "outputs": [
    {
     "data": {
      "text/plain": [
       "['Scindia House,Connaught Place, Central Delhi',\n",
       " 'Connaught Place, Central Delhi',\n",
       " 'M-Block,Connaught Place, Central Delhi',\n",
       " 'Connaught Place, Central Delhi',\n",
       " 'Connaught Place, Central Delhi',\n",
       " 'M-Block,Connaught Place, Central Delhi',\n",
       " 'Connaught Place, Central Delhi',\n",
       " 'Janpath, Central Delhi',\n",
       " 'Janpath, Central Delhi',\n",
       " 'Connaught Place, Central Delhi',\n",
       " 'M-Block,Connaught Place, Central Delhi',\n",
       " 'Connaught Place, Central Delhi',\n",
       " 'F-Block,Connaught Place, Central Delhi',\n",
       " 'M-Block,Connaught Place, Central Delhi',\n",
       " 'Connaught Place, Central Delhi',\n",
       " 'Connaught Place, Central Delhi',\n",
       " 'Connaught Place, Central Delhi',\n",
       " 'Connaught Place, Central Delhi',\n",
       " 'Janpath, Central Delhi',\n",
       " 'Connaught Place, Central Delhi',\n",
       " 'Connaught Place, Central Delhi']"
      ]
     },
     "execution_count": 17,
     "metadata": {},
     "output_type": "execute_result"
    }
   ],
   "source": [
    "loc"
   ]
  },
  {
   "cell_type": "code",
   "execution_count": 18,
   "id": "3b17fe52",
   "metadata": {},
   "outputs": [
    {
     "data": {
      "text/plain": [
       "21"
      ]
     },
     "execution_count": 18,
     "metadata": {},
     "output_type": "execute_result"
    }
   ],
   "source": [
    "len(loc)"
   ]
  },
  {
   "cell_type": "markdown",
   "id": "8dd45d8e",
   "metadata": {},
   "source": [
    "## (iv) Ratings"
   ]
  },
  {
   "cell_type": "code",
   "execution_count": 19,
   "id": "9bc8b994",
   "metadata": {},
   "outputs": [],
   "source": [
    "rating = []"
   ]
  },
  {
   "cell_type": "code",
   "execution_count": 20,
   "id": "3a7519ac",
   "metadata": {},
   "outputs": [],
   "source": [
    "for i in bs.find_all('div',class_='restnt-rating rating-4'):\n",
    "    rating.append(i.text.strip())"
   ]
  },
  {
   "cell_type": "code",
   "execution_count": 21,
   "id": "053fe59f",
   "metadata": {},
   "outputs": [
    {
     "data": {
      "text/plain": [
       "['4',\n",
       " '4.2',\n",
       " '4.3',\n",
       " '4.1',\n",
       " '4.1',\n",
       " '4',\n",
       " '4.1',\n",
       " '4.1',\n",
       " '4.2',\n",
       " '3.8',\n",
       " '4.4',\n",
       " '4.1',\n",
       " '4.1',\n",
       " '4.3',\n",
       " '3.8',\n",
       " '3.9',\n",
       " '4.2',\n",
       " '4.2',\n",
       " '4.3',\n",
       " '4.1',\n",
       " '4.2']"
      ]
     },
     "execution_count": 21,
     "metadata": {},
     "output_type": "execute_result"
    }
   ],
   "source": [
    "rating"
   ]
  },
  {
   "cell_type": "code",
   "execution_count": 22,
   "id": "7edeccd3",
   "metadata": {},
   "outputs": [
    {
     "data": {
      "text/plain": [
       "21"
      ]
     },
     "execution_count": 22,
     "metadata": {},
     "output_type": "execute_result"
    }
   ],
   "source": [
    "len(rating)"
   ]
  },
  {
   "cell_type": "markdown",
   "id": "480b0ae3",
   "metadata": {},
   "source": [
    "## (v) Images URL"
   ]
  },
  {
   "cell_type": "code",
   "execution_count": 23,
   "id": "fbe8b801",
   "metadata": {},
   "outputs": [],
   "source": [
    "img = []"
   ]
  },
  {
   "cell_type": "code",
   "execution_count": 24,
   "id": "fcc2b6dd",
   "metadata": {},
   "outputs": [],
   "source": [
    "for i in bs.find_all('img',class_='no-img'):\n",
    "    img.append(i['data-src'])"
   ]
  },
  {
   "cell_type": "code",
   "execution_count": 25,
   "id": "824e63cd",
   "metadata": {},
   "outputs": [
    {
     "data": {
      "text/plain": [
       "['https://im1.dineout.co.in/images/uploads/restaurant/sharpen/2/b/t/p27452-15020105505986dcb6d147f.jpg?tr=tr:n-medium',\n",
       " 'https://im1.dineout.co.in/images/uploads/restaurant/sharpen/2/a/j/p20996-145631488756cd9a0796608.jpg?tr=tr:n-medium',\n",
       " 'https://im1.dineout.co.in/images/uploads/restaurant/sharpen/3/z/j/p31393-15972091445f337a38df16d.jpg?tr=tr:n-medium',\n",
       " 'https://im1.dineout.co.in/images/uploads/restaurant/sharpen/2/u/y/p20941-15700828565d959028e9f28.jpg?tr=tr:n-medium',\n",
       " 'https://im1.dineout.co.in/images/uploads/restaurant/sharpen/2/e/p/p20298-1484731590587f34c63a2a1.jpg?tr=tr:n-medium',\n",
       " 'https://im1.dineout.co.in/images/uploads/restaurant/sharpen/3/a/d/p32381-1495943585592a49a166fe7.jpg?tr=tr:n-medium',\n",
       " 'https://im1.dineout.co.in/images/uploads/restaurant/sharpen/8/x/t/p83921-16017104805f782990b9b0c.jpg?tr=tr:n-medium',\n",
       " 'https://im1.dineout.co.in/images/uploads/restaurant/sharpen/7/c/z/p77626-15833232035e5f98437554f.jpg?tr=tr:n-medium',\n",
       " 'https://im1.dineout.co.in/images/uploads/restaurant/sharpen/7/t/r/p76678-15980881015f40e3a588f73.jpg?tr=tr:n-medium',\n",
       " 'https://im1.dineout.co.in/images/uploads/restaurant/sharpen/6/q/m/p69146-163921871961b47e1f21509.jpg?tr=tr:n-medium',\n",
       " 'https://im1.dineout.co.in/images/uploads/restaurant/sharpen/2/t/x/p2823-14955313105923ff2e0621d.jpg?tr=tr:n-medium',\n",
       " 'https://im1.dineout.co.in/images/uploads/restaurant/sharpen/3/n/t/p30606-15820047025e4b79ded3e7c.jpg?tr=tr:n-medium',\n",
       " 'https://im1.dineout.co.in/images/uploads/restaurant/sharpen/9/d/t/p971-15465830125c2efbe4260ab.jpg?tr=tr:n-medium',\n",
       " 'https://im1.dineout.co.in/images/uploads/restaurant/sharpen/2/y/q/p21171-1631359509613c92152f775.jpg?tr=tr:n-medium',\n",
       " 'https://im1.dineout.co.in/images/uploads/restaurant/sharpen/1/x/q/p12709-15681189455d7798a1df342.jpg?tr=tr:n-medium',\n",
       " 'https://im1.dineout.co.in/images/uploads/restaurant/sharpen/2/a/s/p221-15968682845f2e46bc185f1.jpg?tr=tr:n-medium',\n",
       " 'https://im1.dineout.co.in/images/uploads/restaurant/sharpen/1/w/q/p19975-14634080035739d5832c089.jpg?tr=tr:n-medium',\n",
       " 'https://im1.dineout.co.in/images/uploads/restaurant/sharpen/4/k/m/p4199-16098546105ff46e92bab5b.jpg?tr=tr:n-medium',\n",
       " 'https://im1.dineout.co.in/images/uploads/restaurant/sharpen/3/m/h/p35926-15233509655acc7db5718fb.jpg?tr=tr:n-medium',\n",
       " 'https://im1.dineout.co.in/images/uploads/restaurant/sharpen/4/u/x/p420-1445945830562f61e6d8549.jpg?tr=tr:n-medium',\n",
       " 'https://im1.dineout.co.in/images/uploads/restaurant/sharpen/3/v/k/p34582-15129702825a2e182a631e4.jpg?tr=tr:n-medium']"
      ]
     },
     "execution_count": 25,
     "metadata": {},
     "output_type": "execute_result"
    }
   ],
   "source": [
    "img"
   ]
  },
  {
   "cell_type": "code",
   "execution_count": 26,
   "id": "88387591",
   "metadata": {},
   "outputs": [
    {
     "data": {
      "text/plain": [
       "21"
      ]
     },
     "execution_count": 26,
     "metadata": {},
     "output_type": "execute_result"
    }
   ],
   "source": [
    "len(img)"
   ]
  },
  {
   "cell_type": "code",
   "execution_count": null,
   "id": "ce32bc45",
   "metadata": {},
   "outputs": [],
   "source": []
  }
 ],
 "metadata": {
  "kernelspec": {
   "display_name": "Python 3",
   "language": "python",
   "name": "python3"
  },
  "language_info": {
   "codemirror_mode": {
    "name": "ipython",
    "version": 3
   },
   "file_extension": ".py",
   "mimetype": "text/x-python",
   "name": "python",
   "nbconvert_exporter": "python",
   "pygments_lexer": "ipython3",
   "version": "3.8.8"
  }
 },
 "nbformat": 4,
 "nbformat_minor": 5
}
