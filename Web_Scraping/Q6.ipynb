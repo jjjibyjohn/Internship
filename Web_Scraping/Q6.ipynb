{
 "cells": [
  {
   "cell_type": "code",
   "execution_count": 1,
   "id": "f86623c2",
   "metadata": {},
   "outputs": [],
   "source": [
    "from bs4 import BeautifulSoup"
   ]
  },
  {
   "cell_type": "code",
   "execution_count": 2,
   "id": "2ecfa201",
   "metadata": {},
   "outputs": [],
   "source": [
    "import requests"
   ]
  },
  {
   "cell_type": "code",
   "execution_count": 3,
   "id": "e8161ac9",
   "metadata": {},
   "outputs": [],
   "source": [
    "import pandas as pd"
   ]
  },
  {
   "cell_type": "markdown",
   "id": "6043261d",
   "metadata": {},
   "source": [
    "# 6.(a) Top 10 ODI teams in women’s cricket along with the records for matches, points and rating# "
   ]
  },
  {
   "cell_type": "code",
   "execution_count": 4,
   "id": "a1674adb",
   "metadata": {},
   "outputs": [],
   "source": [
    "url = 'https://www.icc-cricket.com/rankings/womens/team-rankings/odi'"
   ]
  },
  {
   "cell_type": "code",
   "execution_count": 5,
   "id": "780f941f",
   "metadata": {},
   "outputs": [],
   "source": [
    "site = requests.get(url)"
   ]
  },
  {
   "cell_type": "code",
   "execution_count": 6,
   "id": "94f12d43",
   "metadata": {},
   "outputs": [],
   "source": [
    "bs = BeautifulSoup(site.content)"
   ]
  },
  {
   "cell_type": "code",
   "execution_count": 7,
   "id": "7938c8d1",
   "metadata": {},
   "outputs": [],
   "source": [
    "teamA = []"
   ]
  },
  {
   "cell_type": "code",
   "execution_count": 8,
   "id": "cbd0f105",
   "metadata": {},
   "outputs": [],
   "source": [
    "b=0\n",
    "for i in bs.find_all('span',class_='u-hide-phablet'):\n",
    "    if(b<10):\n",
    "        teamA.append(i.text)\n",
    "        b+=1\n",
    "    else:\n",
    "        break"
   ]
  },
  {
   "cell_type": "code",
   "execution_count": 9,
   "id": "425983d3",
   "metadata": {},
   "outputs": [
    {
     "data": {
      "text/plain": [
       "['Australia',\n",
       " 'South Africa',\n",
       " 'England',\n",
       " 'India',\n",
       " 'Bangladesh',\n",
       " 'New Zealand',\n",
       " 'West Indies',\n",
       " 'Pakistan',\n",
       " 'Ireland',\n",
       " 'Sri Lanka']"
      ]
     },
     "execution_count": 9,
     "metadata": {},
     "output_type": "execute_result"
    }
   ],
   "source": [
    "teamA"
   ]
  },
  {
   "cell_type": "code",
   "execution_count": 10,
   "id": "e1d3f5dc",
   "metadata": {},
   "outputs": [],
   "source": [
    "matchesA = []"
   ]
  },
  {
   "cell_type": "code",
   "execution_count": 11,
   "id": "a3009614",
   "metadata": {},
   "outputs": [],
   "source": [
    "i = bs.find('td',class_='rankings-block__banner--matches')"
   ]
  },
  {
   "cell_type": "code",
   "execution_count": 12,
   "id": "7603f6ab",
   "metadata": {},
   "outputs": [],
   "source": [
    "matchesA.append(i.text)"
   ]
  },
  {
   "cell_type": "code",
   "execution_count": 13,
   "id": "d7ed18a0",
   "metadata": {},
   "outputs": [],
   "source": [
    "b=1\n",
    "for i in bs.find_all('tr',class_='table-body'):\n",
    "    if(b<10):\n",
    "        child = i.find_all('td',class_='table-body__cell u-center-text')\n",
    "        matchesA.append(child[0].text)\n",
    "        b+=1\n",
    "    else:\n",
    "        break"
   ]
  },
  {
   "cell_type": "code",
   "execution_count": 14,
   "id": "b1654dc1",
   "metadata": {},
   "outputs": [
    {
     "data": {
      "text/plain": [
       "['17', '19', '18', '17', '5', '19', '19', '18', '5', '5']"
      ]
     },
     "execution_count": 14,
     "metadata": {},
     "output_type": "execute_result"
    }
   ],
   "source": [
    "matchesA"
   ]
  },
  {
   "cell_type": "code",
   "execution_count": 15,
   "id": "6bce346b",
   "metadata": {},
   "outputs": [],
   "source": [
    "pointsA = []"
   ]
  },
  {
   "cell_type": "code",
   "execution_count": 16,
   "id": "5d8c590c",
   "metadata": {},
   "outputs": [],
   "source": [
    "i = bs.find('td',class_='rankings-block__banner--points')"
   ]
  },
  {
   "cell_type": "code",
   "execution_count": 17,
   "id": "eb386f9c",
   "metadata": {},
   "outputs": [],
   "source": [
    "pointsA.append(i.text)"
   ]
  },
  {
   "cell_type": "code",
   "execution_count": 18,
   "id": "2333b638",
   "metadata": {},
   "outputs": [],
   "source": [
    "b=1\n",
    "for i in bs.find_all('tr',class_='table-body'):\n",
    "    if(b<10):\n",
    "        child = i.find_all('td',class_='table-body__cell u-center-text')\n",
    "        pointsA.append(child[1].text)\n",
    "        b+=1\n",
    "    else:\n",
    "        break"
   ]
  },
  {
   "cell_type": "code",
   "execution_count": 19,
   "id": "9f0bd5df",
   "metadata": {},
   "outputs": [
    {
     "data": {
      "text/plain": [
       "['2,746',\n",
       " '2,307',\n",
       " '2,148',\n",
       " '1,899',\n",
       " '475',\n",
       " '1,668',\n",
       " '1,658',\n",
       " '1,226',\n",
       " '240',\n",
       " '233']"
      ]
     },
     "execution_count": 19,
     "metadata": {},
     "output_type": "execute_result"
    }
   ],
   "source": [
    "pointsA"
   ]
  },
  {
   "cell_type": "code",
   "execution_count": 20,
   "id": "b8e7837e",
   "metadata": {},
   "outputs": [],
   "source": [
    "ratingsA = []"
   ]
  },
  {
   "cell_type": "code",
   "execution_count": 21,
   "id": "b8b2d12e",
   "metadata": {},
   "outputs": [],
   "source": [
    "i = bs.find('td',class_='rankings-block__banner--rating u-text-right')"
   ]
  },
  {
   "cell_type": "code",
   "execution_count": 22,
   "id": "4e803749",
   "metadata": {},
   "outputs": [],
   "source": [
    "ratingsA.append(i.text.strip())"
   ]
  },
  {
   "cell_type": "code",
   "execution_count": 23,
   "id": "0290927b",
   "metadata": {},
   "outputs": [],
   "source": [
    "b=1\n",
    "for i in bs.find_all('td',class_='table-body__cell u-text-right rating'):\n",
    "    if(b<10):\n",
    "        ratingsA.append(i.text)\n",
    "        b+=1\n",
    "    else:\n",
    "        break"
   ]
  },
  {
   "cell_type": "code",
   "execution_count": 24,
   "id": "cde87e56",
   "metadata": {},
   "outputs": [
    {
     "data": {
      "text/plain": [
       "['162', '121', '119', '112', '95', '88', '87', '68', '48', '47']"
      ]
     },
     "execution_count": 24,
     "metadata": {},
     "output_type": "execute_result"
    }
   ],
   "source": [
    "ratingsA"
   ]
  },
  {
   "cell_type": "code",
   "execution_count": 25,
   "id": "482179fb",
   "metadata": {},
   "outputs": [
    {
     "name": "stdout",
     "output_type": "stream",
     "text": [
      "10 10 10 10\n"
     ]
    }
   ],
   "source": [
    "print(len(teamA),len(matchesA),len(pointsA),len(ratingsA))"
   ]
  },
  {
   "cell_type": "code",
   "execution_count": 26,
   "id": "af1b48e1",
   "metadata": {},
   "outputs": [],
   "source": [
    "df = pd.DataFrame({'Team':teamA,'Matches':matchesA,'Points':pointsA,'Rating':ratingsA})"
   ]
  },
  {
   "cell_type": "code",
   "execution_count": 27,
   "id": "d3a7f951",
   "metadata": {},
   "outputs": [
    {
     "data": {
      "text/html": [
       "<div>\n",
       "<style scoped>\n",
       "    .dataframe tbody tr th:only-of-type {\n",
       "        vertical-align: middle;\n",
       "    }\n",
       "\n",
       "    .dataframe tbody tr th {\n",
       "        vertical-align: top;\n",
       "    }\n",
       "\n",
       "    .dataframe thead th {\n",
       "        text-align: right;\n",
       "    }\n",
       "</style>\n",
       "<table border=\"1\" class=\"dataframe\">\n",
       "  <thead>\n",
       "    <tr style=\"text-align: right;\">\n",
       "      <th></th>\n",
       "      <th>Team</th>\n",
       "      <th>Matches</th>\n",
       "      <th>Points</th>\n",
       "      <th>Rating</th>\n",
       "    </tr>\n",
       "  </thead>\n",
       "  <tbody>\n",
       "    <tr>\n",
       "      <th>0</th>\n",
       "      <td>Australia</td>\n",
       "      <td>17</td>\n",
       "      <td>2,746</td>\n",
       "      <td>162</td>\n",
       "    </tr>\n",
       "    <tr>\n",
       "      <th>1</th>\n",
       "      <td>South Africa</td>\n",
       "      <td>19</td>\n",
       "      <td>2,307</td>\n",
       "      <td>121</td>\n",
       "    </tr>\n",
       "    <tr>\n",
       "      <th>2</th>\n",
       "      <td>England</td>\n",
       "      <td>18</td>\n",
       "      <td>2,148</td>\n",
       "      <td>119</td>\n",
       "    </tr>\n",
       "    <tr>\n",
       "      <th>3</th>\n",
       "      <td>India</td>\n",
       "      <td>17</td>\n",
       "      <td>1,899</td>\n",
       "      <td>112</td>\n",
       "    </tr>\n",
       "    <tr>\n",
       "      <th>4</th>\n",
       "      <td>Bangladesh</td>\n",
       "      <td>5</td>\n",
       "      <td>475</td>\n",
       "      <td>95</td>\n",
       "    </tr>\n",
       "    <tr>\n",
       "      <th>5</th>\n",
       "      <td>New Zealand</td>\n",
       "      <td>19</td>\n",
       "      <td>1,668</td>\n",
       "      <td>88</td>\n",
       "    </tr>\n",
       "    <tr>\n",
       "      <th>6</th>\n",
       "      <td>West Indies</td>\n",
       "      <td>19</td>\n",
       "      <td>1,658</td>\n",
       "      <td>87</td>\n",
       "    </tr>\n",
       "    <tr>\n",
       "      <th>7</th>\n",
       "      <td>Pakistan</td>\n",
       "      <td>18</td>\n",
       "      <td>1,226</td>\n",
       "      <td>68</td>\n",
       "    </tr>\n",
       "    <tr>\n",
       "      <th>8</th>\n",
       "      <td>Ireland</td>\n",
       "      <td>5</td>\n",
       "      <td>240</td>\n",
       "      <td>48</td>\n",
       "    </tr>\n",
       "    <tr>\n",
       "      <th>9</th>\n",
       "      <td>Sri Lanka</td>\n",
       "      <td>5</td>\n",
       "      <td>233</td>\n",
       "      <td>47</td>\n",
       "    </tr>\n",
       "  </tbody>\n",
       "</table>\n",
       "</div>"
      ],
      "text/plain": [
       "           Team Matches Points Rating\n",
       "0     Australia      17  2,746    162\n",
       "1  South Africa      19  2,307    121\n",
       "2       England      18  2,148    119\n",
       "3         India      17  1,899    112\n",
       "4    Bangladesh       5    475     95\n",
       "5   New Zealand      19  1,668     88\n",
       "6   West Indies      19  1,658     87\n",
       "7      Pakistan      18  1,226     68\n",
       "8       Ireland       5    240     48\n",
       "9     Sri Lanka       5    233     47"
      ]
     },
     "execution_count": 27,
     "metadata": {},
     "output_type": "execute_result"
    }
   ],
   "source": [
    "df"
   ]
  },
  {
   "cell_type": "markdown",
   "id": "f6d2bc0d",
   "metadata": {},
   "source": [
    "# 6.(b) Top 10 women’s ODI Batting players along with the records of their team and rating"
   ]
  },
  {
   "cell_type": "code",
   "execution_count": 28,
   "id": "b95b477a",
   "metadata": {},
   "outputs": [],
   "source": [
    "url2 = 'https://www.icc-cricket.com/rankings/womens/player-rankings/odi/batting'"
   ]
  },
  {
   "cell_type": "code",
   "execution_count": 29,
   "id": "2d55ef2f",
   "metadata": {},
   "outputs": [],
   "source": [
    "site2 = requests.get(url2)"
   ]
  },
  {
   "cell_type": "code",
   "execution_count": 30,
   "id": "7cb80891",
   "metadata": {},
   "outputs": [],
   "source": [
    "bs2 = BeautifulSoup(site2.content)"
   ]
  },
  {
   "cell_type": "code",
   "execution_count": 31,
   "id": "64ef529b",
   "metadata": {},
   "outputs": [],
   "source": [
    "nameB = []"
   ]
  },
  {
   "cell_type": "code",
   "execution_count": 32,
   "id": "d1097f30",
   "metadata": {},
   "outputs": [],
   "source": [
    "i = bs2.find('div',class_='rankings-block__banner--name-large')"
   ]
  },
  {
   "cell_type": "code",
   "execution_count": 33,
   "id": "89f38ffd",
   "metadata": {},
   "outputs": [],
   "source": [
    "nameB.append(i.text)"
   ]
  },
  {
   "cell_type": "code",
   "execution_count": 34,
   "id": "229d7e5a",
   "metadata": {},
   "outputs": [],
   "source": [
    "b=1\n",
    "for i in bs2.find_all('td',class_='table-body__cell rankings-table__name name'):\n",
    "    if(b<10):\n",
    "        nameB.append(i.text.strip())\n",
    "        b+=1\n",
    "    else:\n",
    "        break"
   ]
  },
  {
   "cell_type": "code",
   "execution_count": 35,
   "id": "8ff4d207",
   "metadata": {},
   "outputs": [
    {
     "data": {
      "text/plain": [
       "['Lizelle Lee',\n",
       " 'Alyssa Healy',\n",
       " 'Mithali Raj',\n",
       " 'Tammy Beaumont',\n",
       " 'Amy Satterthwaite',\n",
       " 'Smriti Mandhana',\n",
       " 'Meg Lanning',\n",
       " 'Beth Mooney',\n",
       " 'Stafanie Taylor',\n",
       " 'Heather Knight']"
      ]
     },
     "execution_count": 35,
     "metadata": {},
     "output_type": "execute_result"
    }
   ],
   "source": [
    "nameB"
   ]
  },
  {
   "cell_type": "code",
   "execution_count": 36,
   "id": "98000ad5",
   "metadata": {},
   "outputs": [],
   "source": [
    "teamB = []"
   ]
  },
  {
   "cell_type": "code",
   "execution_count": 37,
   "id": "ce84806e",
   "metadata": {},
   "outputs": [],
   "source": [
    "i = bs2.find('div',class_='rankings-block__banner--nationality')"
   ]
  },
  {
   "cell_type": "code",
   "execution_count": 38,
   "id": "eba90189",
   "metadata": {},
   "outputs": [],
   "source": [
    "teamB.append(i.text.strip())"
   ]
  },
  {
   "cell_type": "code",
   "execution_count": 39,
   "id": "895fbab4",
   "metadata": {},
   "outputs": [],
   "source": [
    "b=1\n",
    "for i in bs2.find_all('span',class_='table-body__logo-text'):\n",
    "    if(b<10):\n",
    "        teamB.append(i.text.strip())\n",
    "        b+=1\n",
    "    else:\n",
    "        break"
   ]
  },
  {
   "cell_type": "code",
   "execution_count": 40,
   "id": "36f8b122",
   "metadata": {},
   "outputs": [
    {
     "data": {
      "text/plain": [
       "['SA', 'AUS', 'IND', 'ENG', 'NZ', 'IND', 'AUS', 'AUS', 'WI', 'ENG']"
      ]
     },
     "execution_count": 40,
     "metadata": {},
     "output_type": "execute_result"
    }
   ],
   "source": [
    "teamB"
   ]
  },
  {
   "cell_type": "code",
   "execution_count": 41,
   "id": "5fd4e4cc",
   "metadata": {},
   "outputs": [],
   "source": [
    "ratingB = []"
   ]
  },
  {
   "cell_type": "code",
   "execution_count": 42,
   "id": "6f877400",
   "metadata": {},
   "outputs": [],
   "source": [
    "i = bs2.find('div',class_='rankings-block__banner--rating')"
   ]
  },
  {
   "cell_type": "code",
   "execution_count": 43,
   "id": "95af3485",
   "metadata": {},
   "outputs": [],
   "source": [
    "ratingB.append(i.text)"
   ]
  },
  {
   "cell_type": "code",
   "execution_count": 44,
   "id": "c5899e6f",
   "metadata": {},
   "outputs": [],
   "source": [
    "b=1\n",
    "for i in bs2.find_all('td',class_='table-body__cell rating'):\n",
    "    if(b<10):\n",
    "        ratingB.append(i.text)\n",
    "        b+=1\n",
    "    else:\n",
    "        break"
   ]
  },
  {
   "cell_type": "code",
   "execution_count": 45,
   "id": "ab9decb3",
   "metadata": {},
   "outputs": [
    {
     "data": {
      "text/plain": [
       "['761', '750', '738', '728', '717', '710', '699', '690', '676', '674']"
      ]
     },
     "execution_count": 45,
     "metadata": {},
     "output_type": "execute_result"
    }
   ],
   "source": [
    "ratingB"
   ]
  },
  {
   "cell_type": "code",
   "execution_count": 46,
   "id": "269eebe6",
   "metadata": {},
   "outputs": [
    {
     "name": "stdout",
     "output_type": "stream",
     "text": [
      "10 10 10\n"
     ]
    }
   ],
   "source": [
    "print(len(nameB),len(teamB),len(ratingB))"
   ]
  },
  {
   "cell_type": "code",
   "execution_count": 47,
   "id": "9b800109",
   "metadata": {},
   "outputs": [],
   "source": [
    "df2 = pd.DataFrame({'Name':nameB,'Team':teamB,'Rating':ratingB})"
   ]
  },
  {
   "cell_type": "code",
   "execution_count": 48,
   "id": "7904f520",
   "metadata": {},
   "outputs": [
    {
     "data": {
      "text/html": [
       "<div>\n",
       "<style scoped>\n",
       "    .dataframe tbody tr th:only-of-type {\n",
       "        vertical-align: middle;\n",
       "    }\n",
       "\n",
       "    .dataframe tbody tr th {\n",
       "        vertical-align: top;\n",
       "    }\n",
       "\n",
       "    .dataframe thead th {\n",
       "        text-align: right;\n",
       "    }\n",
       "</style>\n",
       "<table border=\"1\" class=\"dataframe\">\n",
       "  <thead>\n",
       "    <tr style=\"text-align: right;\">\n",
       "      <th></th>\n",
       "      <th>Name</th>\n",
       "      <th>Team</th>\n",
       "      <th>Rating</th>\n",
       "    </tr>\n",
       "  </thead>\n",
       "  <tbody>\n",
       "    <tr>\n",
       "      <th>0</th>\n",
       "      <td>Lizelle Lee</td>\n",
       "      <td>SA</td>\n",
       "      <td>761</td>\n",
       "    </tr>\n",
       "    <tr>\n",
       "      <th>1</th>\n",
       "      <td>Alyssa Healy</td>\n",
       "      <td>AUS</td>\n",
       "      <td>750</td>\n",
       "    </tr>\n",
       "    <tr>\n",
       "      <th>2</th>\n",
       "      <td>Mithali Raj</td>\n",
       "      <td>IND</td>\n",
       "      <td>738</td>\n",
       "    </tr>\n",
       "    <tr>\n",
       "      <th>3</th>\n",
       "      <td>Tammy Beaumont</td>\n",
       "      <td>ENG</td>\n",
       "      <td>728</td>\n",
       "    </tr>\n",
       "    <tr>\n",
       "      <th>4</th>\n",
       "      <td>Amy Satterthwaite</td>\n",
       "      <td>NZ</td>\n",
       "      <td>717</td>\n",
       "    </tr>\n",
       "    <tr>\n",
       "      <th>5</th>\n",
       "      <td>Smriti Mandhana</td>\n",
       "      <td>IND</td>\n",
       "      <td>710</td>\n",
       "    </tr>\n",
       "    <tr>\n",
       "      <th>6</th>\n",
       "      <td>Meg Lanning</td>\n",
       "      <td>AUS</td>\n",
       "      <td>699</td>\n",
       "    </tr>\n",
       "    <tr>\n",
       "      <th>7</th>\n",
       "      <td>Beth Mooney</td>\n",
       "      <td>AUS</td>\n",
       "      <td>690</td>\n",
       "    </tr>\n",
       "    <tr>\n",
       "      <th>8</th>\n",
       "      <td>Stafanie Taylor</td>\n",
       "      <td>WI</td>\n",
       "      <td>676</td>\n",
       "    </tr>\n",
       "    <tr>\n",
       "      <th>9</th>\n",
       "      <td>Heather Knight</td>\n",
       "      <td>ENG</td>\n",
       "      <td>674</td>\n",
       "    </tr>\n",
       "  </tbody>\n",
       "</table>\n",
       "</div>"
      ],
      "text/plain": [
       "                Name Team Rating\n",
       "0        Lizelle Lee   SA    761\n",
       "1       Alyssa Healy  AUS    750\n",
       "2        Mithali Raj  IND    738\n",
       "3     Tammy Beaumont  ENG    728\n",
       "4  Amy Satterthwaite   NZ    717\n",
       "5    Smriti Mandhana  IND    710\n",
       "6        Meg Lanning  AUS    699\n",
       "7        Beth Mooney  AUS    690\n",
       "8    Stafanie Taylor   WI    676\n",
       "9     Heather Knight  ENG    674"
      ]
     },
     "execution_count": 48,
     "metadata": {},
     "output_type": "execute_result"
    }
   ],
   "source": [
    "df2"
   ]
  },
  {
   "cell_type": "markdown",
   "id": "cc597fbb",
   "metadata": {},
   "source": [
    "# 6.(c) Top 10 women’s ODI all-rounder along with the records of their team and rating"
   ]
  },
  {
   "cell_type": "code",
   "execution_count": 49,
   "id": "4afcc03e",
   "metadata": {},
   "outputs": [],
   "source": [
    "url3 = 'https://www.icc-cricket.com/rankings/womens/player-rankings/odi/bowling'"
   ]
  },
  {
   "cell_type": "code",
   "execution_count": 50,
   "id": "04c9f8ec",
   "metadata": {},
   "outputs": [],
   "source": [
    "site3 = requests.get(url3)"
   ]
  },
  {
   "cell_type": "code",
   "execution_count": 51,
   "id": "49fcf9b8",
   "metadata": {},
   "outputs": [],
   "source": [
    "bs3 = BeautifulSoup(site3.content)"
   ]
  },
  {
   "cell_type": "code",
   "execution_count": 52,
   "id": "c3a4e67c",
   "metadata": {},
   "outputs": [],
   "source": [
    "i = bs3.find('div',class_='rankings-block__banner--name-large')"
   ]
  },
  {
   "cell_type": "code",
   "execution_count": 53,
   "id": "4b6c2ccd",
   "metadata": {},
   "outputs": [],
   "source": [
    "nameC= []"
   ]
  },
  {
   "cell_type": "code",
   "execution_count": 54,
   "id": "571e6617",
   "metadata": {},
   "outputs": [],
   "source": [
    "nameC.append(i.text)"
   ]
  },
  {
   "cell_type": "code",
   "execution_count": 55,
   "id": "d6e941e7",
   "metadata": {},
   "outputs": [],
   "source": [
    "b=1\n",
    "for i in bs3.find_all('td',class_='table-body__cell rankings-table__name name'):\n",
    "    if(b<10):\n",
    "        nameC.append(i.text.strip())\n",
    "        b+=1\n",
    "    else:\n",
    "        break"
   ]
  },
  {
   "cell_type": "code",
   "execution_count": 56,
   "id": "fdd3e620",
   "metadata": {},
   "outputs": [
    {
     "data": {
      "text/plain": [
       "['Jess Jonassen',\n",
       " 'Jhulan Goswami',\n",
       " 'Megan Schutt',\n",
       " 'Marizanne Kapp',\n",
       " 'Sophie Ecclestone',\n",
       " 'Shabnim Ismail',\n",
       " 'Katherine Brunt',\n",
       " 'Ayabonga Khaka',\n",
       " 'Anya Shrubsole',\n",
       " 'Kate Cross']"
      ]
     },
     "execution_count": 56,
     "metadata": {},
     "output_type": "execute_result"
    }
   ],
   "source": [
    "nameC"
   ]
  },
  {
   "cell_type": "code",
   "execution_count": 57,
   "id": "3ef2fb08",
   "metadata": {},
   "outputs": [],
   "source": [
    "teamC = []"
   ]
  },
  {
   "cell_type": "code",
   "execution_count": 58,
   "id": "03a85257",
   "metadata": {},
   "outputs": [],
   "source": [
    "i = bs3.find('div',class_='rankings-block__banner--nationality')"
   ]
  },
  {
   "cell_type": "code",
   "execution_count": 59,
   "id": "2beb6fd6",
   "metadata": {},
   "outputs": [],
   "source": [
    "teamC.append(i.text.strip())"
   ]
  },
  {
   "cell_type": "code",
   "execution_count": 60,
   "id": "9cd27475",
   "metadata": {},
   "outputs": [],
   "source": [
    "b=1\n",
    "for i in bs3.find_all('span',class_='table-body__logo-text'):\n",
    "    if(b<10):\n",
    "        teamC.append(i.text.strip())\n",
    "        b+=1\n",
    "    else:\n",
    "        break"
   ]
  },
  {
   "cell_type": "code",
   "execution_count": 61,
   "id": "71dbcea8",
   "metadata": {},
   "outputs": [
    {
     "data": {
      "text/plain": [
       "['AUS', 'IND', 'AUS', 'SA', 'ENG', 'SA', 'ENG', 'SA', 'ENG', 'ENG']"
      ]
     },
     "execution_count": 61,
     "metadata": {},
     "output_type": "execute_result"
    }
   ],
   "source": [
    "teamC"
   ]
  },
  {
   "cell_type": "code",
   "execution_count": 62,
   "id": "d9ac9770",
   "metadata": {},
   "outputs": [],
   "source": [
    "ratingC = []"
   ]
  },
  {
   "cell_type": "code",
   "execution_count": 63,
   "id": "4936a62e",
   "metadata": {},
   "outputs": [],
   "source": [
    "i = bs3.find('div',class_='rankings-block__banner--rating')"
   ]
  },
  {
   "cell_type": "code",
   "execution_count": 64,
   "id": "3c7acd9a",
   "metadata": {},
   "outputs": [],
   "source": [
    "ratingC.append(i.text)"
   ]
  },
  {
   "cell_type": "code",
   "execution_count": 65,
   "id": "82a63097",
   "metadata": {},
   "outputs": [],
   "source": [
    "b=1\n",
    "for i in bs3.find_all('td',class_='table-body__cell rating'):\n",
    "    if(b<10):\n",
    "        ratingC.append(i.text)\n",
    "        b+=1\n",
    "    else:\n",
    "        break"
   ]
  },
  {
   "cell_type": "code",
   "execution_count": 66,
   "id": "8b306f5b",
   "metadata": {},
   "outputs": [
    {
     "data": {
      "text/plain": [
       "['760', '727', '717', '715', '701', '688', '666', '643', '598', '589']"
      ]
     },
     "execution_count": 66,
     "metadata": {},
     "output_type": "execute_result"
    }
   ],
   "source": [
    "ratingC"
   ]
  },
  {
   "cell_type": "code",
   "execution_count": 67,
   "id": "615b498e",
   "metadata": {},
   "outputs": [
    {
     "name": "stdout",
     "output_type": "stream",
     "text": [
      "10 10 10\n"
     ]
    }
   ],
   "source": [
    "print(len(nameC),len(teamC),len(ratingC))"
   ]
  },
  {
   "cell_type": "code",
   "execution_count": 68,
   "id": "85417cf5",
   "metadata": {},
   "outputs": [],
   "source": [
    "df3 = pd.DataFrame({'Name':nameC,'Team':teamC,'Rating':ratingC})"
   ]
  },
  {
   "cell_type": "code",
   "execution_count": 69,
   "id": "b71612b4",
   "metadata": {},
   "outputs": [
    {
     "data": {
      "text/html": [
       "<div>\n",
       "<style scoped>\n",
       "    .dataframe tbody tr th:only-of-type {\n",
       "        vertical-align: middle;\n",
       "    }\n",
       "\n",
       "    .dataframe tbody tr th {\n",
       "        vertical-align: top;\n",
       "    }\n",
       "\n",
       "    .dataframe thead th {\n",
       "        text-align: right;\n",
       "    }\n",
       "</style>\n",
       "<table border=\"1\" class=\"dataframe\">\n",
       "  <thead>\n",
       "    <tr style=\"text-align: right;\">\n",
       "      <th></th>\n",
       "      <th>Name</th>\n",
       "      <th>Team</th>\n",
       "      <th>Rating</th>\n",
       "    </tr>\n",
       "  </thead>\n",
       "  <tbody>\n",
       "    <tr>\n",
       "      <th>0</th>\n",
       "      <td>Jess Jonassen</td>\n",
       "      <td>AUS</td>\n",
       "      <td>760</td>\n",
       "    </tr>\n",
       "    <tr>\n",
       "      <th>1</th>\n",
       "      <td>Jhulan Goswami</td>\n",
       "      <td>IND</td>\n",
       "      <td>727</td>\n",
       "    </tr>\n",
       "    <tr>\n",
       "      <th>2</th>\n",
       "      <td>Megan Schutt</td>\n",
       "      <td>AUS</td>\n",
       "      <td>717</td>\n",
       "    </tr>\n",
       "    <tr>\n",
       "      <th>3</th>\n",
       "      <td>Marizanne Kapp</td>\n",
       "      <td>SA</td>\n",
       "      <td>715</td>\n",
       "    </tr>\n",
       "    <tr>\n",
       "      <th>4</th>\n",
       "      <td>Sophie Ecclestone</td>\n",
       "      <td>ENG</td>\n",
       "      <td>701</td>\n",
       "    </tr>\n",
       "    <tr>\n",
       "      <th>5</th>\n",
       "      <td>Shabnim Ismail</td>\n",
       "      <td>SA</td>\n",
       "      <td>688</td>\n",
       "    </tr>\n",
       "    <tr>\n",
       "      <th>6</th>\n",
       "      <td>Katherine Brunt</td>\n",
       "      <td>ENG</td>\n",
       "      <td>666</td>\n",
       "    </tr>\n",
       "    <tr>\n",
       "      <th>7</th>\n",
       "      <td>Ayabonga Khaka</td>\n",
       "      <td>SA</td>\n",
       "      <td>643</td>\n",
       "    </tr>\n",
       "    <tr>\n",
       "      <th>8</th>\n",
       "      <td>Anya Shrubsole</td>\n",
       "      <td>ENG</td>\n",
       "      <td>598</td>\n",
       "    </tr>\n",
       "    <tr>\n",
       "      <th>9</th>\n",
       "      <td>Kate Cross</td>\n",
       "      <td>ENG</td>\n",
       "      <td>589</td>\n",
       "    </tr>\n",
       "  </tbody>\n",
       "</table>\n",
       "</div>"
      ],
      "text/plain": [
       "                Name Team Rating\n",
       "0      Jess Jonassen  AUS    760\n",
       "1     Jhulan Goswami  IND    727\n",
       "2       Megan Schutt  AUS    717\n",
       "3     Marizanne Kapp   SA    715\n",
       "4  Sophie Ecclestone  ENG    701\n",
       "5     Shabnim Ismail   SA    688\n",
       "6    Katherine Brunt  ENG    666\n",
       "7     Ayabonga Khaka   SA    643\n",
       "8     Anya Shrubsole  ENG    598\n",
       "9         Kate Cross  ENG    589"
      ]
     },
     "execution_count": 69,
     "metadata": {},
     "output_type": "execute_result"
    }
   ],
   "source": [
    "df3"
   ]
  },
  {
   "cell_type": "code",
   "execution_count": null,
   "id": "d1b203b0",
   "metadata": {},
   "outputs": [],
   "source": []
  }
 ],
 "metadata": {
  "kernelspec": {
   "display_name": "Python 3",
   "language": "python",
   "name": "python3"
  },
  "language_info": {
   "codemirror_mode": {
    "name": "ipython",
    "version": 3
   },
   "file_extension": ".py",
   "mimetype": "text/x-python",
   "name": "python",
   "nbconvert_exporter": "python",
   "pygments_lexer": "ipython3",
   "version": "3.8.8"
  }
 },
 "nbformat": 4,
 "nbformat_minor": 5
}
