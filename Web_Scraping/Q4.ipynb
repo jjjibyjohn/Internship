{
 "cells": [
  {
   "cell_type": "code",
   "execution_count": 1,
   "id": "3845fb36",
   "metadata": {},
   "outputs": [],
   "source": [
    "from bs4 import BeautifulSoup"
   ]
  },
  {
   "cell_type": "code",
   "execution_count": 2,
   "id": "2deade28",
   "metadata": {},
   "outputs": [],
   "source": [
    "import requests"
   ]
  },
  {
   "cell_type": "code",
   "execution_count": 3,
   "id": "53bc7ef4",
   "metadata": {},
   "outputs": [],
   "source": [
    "url = 'https://meesho.com/bags\u0002ladies/pl/p7vbp'"
   ]
  },
  {
   "cell_type": "code",
   "execution_count": 4,
   "id": "2b7de2f2",
   "metadata": {},
   "outputs": [],
   "source": [
    "site = requests.get(url)"
   ]
  },
  {
   "cell_type": "code",
   "execution_count": 5,
   "id": "91f2c7fb",
   "metadata": {},
   "outputs": [
    {
     "data": {
      "text/plain": [
       "<Response [200]>"
      ]
     },
     "execution_count": 5,
     "metadata": {},
     "output_type": "execute_result"
    }
   ],
   "source": [
    "site"
   ]
  },
  {
   "cell_type": "code",
   "execution_count": 6,
   "id": "4128a252",
   "metadata": {},
   "outputs": [],
   "source": [
    "bs = BeautifulSoup(site.content)"
   ]
  },
  {
   "cell_type": "code",
   "execution_count": 7,
   "id": "55976dea",
   "metadata": {},
   "outputs": [],
   "source": [
    "name = []"
   ]
  },
  {
   "cell_type": "code",
   "execution_count": 8,
   "id": "fd472afb",
   "metadata": {},
   "outputs": [],
   "source": [
    "for i in bs.find_all('p',class_='Text__StyledText-sc-oo0kvp-0 bWSOET NewProductCard__ProductTitle_Desktop-sc-j0e7tu-4 cQhePS NewProductCard__ProductTitle_Desktop-sc-j0e7tu-4 cQhePS'):\n",
    "    name.append(i.text)"
   ]
  },
  {
   "cell_type": "code",
   "execution_count": 9,
   "id": "16334ddc",
   "metadata": {},
   "outputs": [
    {
     "data": {
      "text/plain": [
       "['Classic Classy Women Handbags',\n",
       " 'Pristu Clear Bag Stadium Approved, Cold-Resistant, Lightweight and Waterproof, Transparent Tote Bag and Gym Clear Bag, See Through Tote Bag for Work, Sports Games and Concerts-12 x12 x6',\n",
       " 'Ravishing Fancy Women Handbags',\n",
       " 'Ravishing Fancy Women Handbags',\n",
       " 'Voguish Stylish Women Handbags',\n",
       " 'Voguish Fancy Women Handbags',\n",
       " 'Elite Versatile Women Handbags',\n",
       " 'Handbags ',\n",
       " 'Treandy Handbags',\n",
       " 'Elegant Fancy Women Handbags',\n",
       " 'Classic Alluring Women Handbags',\n",
       " 'Trendy Fashionable Women Handbags',\n",
       " 'Jute Bags',\n",
       " 'Jute handbag',\n",
       " ' Gorgeous Fashionable Women Handbags',\n",
       " 'Women hand bag shoulder bag',\n",
       " 'Ravishing Attractive Women Handbags',\n",
       " ' Gorgeous Fashionable Women Handbags',\n",
       " 'Elite Fancy Women Handbags',\n",
       " 'Elite Fashionable Women Handbags']"
      ]
     },
     "execution_count": 9,
     "metadata": {},
     "output_type": "execute_result"
    }
   ],
   "source": [
    "name"
   ]
  },
  {
   "cell_type": "code",
   "execution_count": 10,
   "id": "739182f0",
   "metadata": {},
   "outputs": [],
   "source": [
    "price = []"
   ]
  },
  {
   "cell_type": "code",
   "execution_count": 11,
   "id": "be3d909e",
   "metadata": {},
   "outputs": [],
   "source": [
    "for i in bs.find_all('div',class_='Card__BaseCard-sc-b3n78k-0 iLPHgK NewProductCard__PriceRow-sc-j0e7tu-5 eyya-Dr NewProductCard__PriceRow-sc-j0e7tu-5 eyya-Dr'):\n",
    "    price.append(i.text.split('₹')[1])"
   ]
  },
  {
   "cell_type": "code",
   "execution_count": 12,
   "id": "0dbac9b5",
   "metadata": {},
   "outputs": [
    {
     "data": {
      "text/plain": [
       "['26',\n",
       " '535',\n",
       " '21',\n",
       " '15',\n",
       " '22',\n",
       " '75',\n",
       " '45',\n",
       " '434',\n",
       " '207',\n",
       " '7',\n",
       " '21',\n",
       " '371',\n",
       " '434',\n",
       " '117',\n",
       " '193',\n",
       " '330',\n",
       " '384',\n",
       " '193',\n",
       " '99',\n",
       " '38']"
      ]
     },
     "execution_count": 12,
     "metadata": {},
     "output_type": "execute_result"
    }
   ],
   "source": [
    "price"
   ]
  },
  {
   "cell_type": "code",
   "execution_count": 13,
   "id": "b983d7d4",
   "metadata": {},
   "outputs": [],
   "source": [
    "discount = []"
   ]
  },
  {
   "cell_type": "code",
   "execution_count": 14,
   "id": "21c373c3",
   "metadata": {},
   "outputs": [],
   "source": [
    "for i in bs.find_all('p',class_='Text__StyledText-sc-oo0kvp-0 fCJVtz NewProductCard__DiscountTextParagraph-sc-j0e7tu-16 kmYsnm NewProductCard__DiscountTextParagraph-sc-j0e7tu-16 kmYsnm'):\n",
    "    discount.append(i.text.split(' ')[0].replace('₹',''))"
   ]
  },
  {
   "cell_type": "code",
   "execution_count": 15,
   "id": "27d62fba",
   "metadata": {},
   "outputs": [
    {
     "data": {
      "text/plain": [
       "['11',\n",
       " '100',\n",
       " '9',\n",
       " '6',\n",
       " '9',\n",
       " '31',\n",
       " '19',\n",
       " '100',\n",
       " '88',\n",
       " '3',\n",
       " '9',\n",
       " '100',\n",
       " '100',\n",
       " '50',\n",
       " '82',\n",
       " '100',\n",
       " '100',\n",
       " '82',\n",
       " '42',\n",
       " '15']"
      ]
     },
     "execution_count": 15,
     "metadata": {},
     "output_type": "execute_result"
    }
   ],
   "source": [
    "discount"
   ]
  },
  {
   "cell_type": "code",
   "execution_count": null,
   "id": "d0e0a655",
   "metadata": {},
   "outputs": [],
   "source": []
  }
 ],
 "metadata": {
  "kernelspec": {
   "display_name": "Python 3",
   "language": "python",
   "name": "python3"
  },
  "language_info": {
   "codemirror_mode": {
    "name": "ipython",
    "version": 3
   },
   "file_extension": ".py",
   "mimetype": "text/x-python",
   "name": "python",
   "nbconvert_exporter": "python",
   "pygments_lexer": "ipython3",
   "version": "3.8.8"
  }
 },
 "nbformat": 4,
 "nbformat_minor": 5
}
