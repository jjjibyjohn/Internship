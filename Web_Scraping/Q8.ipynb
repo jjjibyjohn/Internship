{
 "cells": [
  {
   "cell_type": "markdown",
   "id": "65489638",
   "metadata": {},
   "source": [
    "# 8. Write a python program to scrape house details from mentioned URL. It should include house title, location, area, EMI and price from https://www.nobroker.in/ .Enter three localities which are Indira Nagar, Jayanagar, Rajaji Nagar."
   ]
  },
  {
   "cell_type": "code",
   "execution_count": 1,
   "id": "2c48d183",
   "metadata": {},
   "outputs": [],
   "source": [
    "from bs4 import BeautifulSoup"
   ]
  },
  {
   "cell_type": "code",
   "execution_count": 2,
   "id": "c1819e36",
   "metadata": {},
   "outputs": [],
   "source": [
    "import requests"
   ]
  },
  {
   "cell_type": "code",
   "execution_count": 3,
   "id": "0e36cf78",
   "metadata": {},
   "outputs": [],
   "source": [
    "url = 'https://www.nobroker.in/property/sale/bangalore/multiple?searchParam=W3sibGF0IjoxMi45NzgzNjkyLCJsb24iOjc3LjY0MDgzNTYsInBsYWNlSWQiOiJDaElKa1FOM0dLUVdyanNSTmhCUUpyaEdEN1UiLCJwbGFjZU5hbWUiOiJJbmRpcmFuYWdhciJ9LHsibGF0IjoxMi45MzA3NzM1LCJsb24iOjc3LjU4MzgzMDIsInBsYWNlSWQiOiJDaElKMmRkbFo1Z1ZyanNSaDFCT0FhZi1vcnMiLCJwbGFjZU5hbWUiOiJKYXlhbmFnYXIifSx7ImxhdCI6MTIuOTk4MTczMiwibG9uIjo3Ny41NTMwNDQ1OTk5OTk5OSwicGxhY2VJZCI6IkNoSUp4Zlc0RFBNOXJqc1JLc05URy01cF9RUSIsInBsYWNlTmFtZSI6IlJhamFqaW5hZ2FyIn1d&radius=2.0&city=bangalore&locality=Indiranagar,&locality=Jayanagar,&locality=Rajajinagar'"
   ]
  },
  {
   "cell_type": "code",
   "execution_count": 4,
   "id": "e40ee42b",
   "metadata": {},
   "outputs": [],
   "source": [
    "site = requests.get(url)"
   ]
  },
  {
   "cell_type": "code",
   "execution_count": 5,
   "id": "261a41f1",
   "metadata": {},
   "outputs": [
    {
     "data": {
      "text/plain": [
       "<Response [200]>"
      ]
     },
     "execution_count": 5,
     "metadata": {},
     "output_type": "execute_result"
    }
   ],
   "source": [
    "site"
   ]
  },
  {
   "cell_type": "code",
   "execution_count": 6,
   "id": "ce5e2e71",
   "metadata": {},
   "outputs": [],
   "source": [
    "bs = BeautifulSoup(site.content)"
   ]
  },
  {
   "cell_type": "code",
   "execution_count": 7,
   "id": "53298dca",
   "metadata": {},
   "outputs": [],
   "source": [
    "title = []\n",
    "loc = []\n",
    "area = []\n",
    "emi = []\n",
    "price = []"
   ]
  },
  {
   "cell_type": "code",
   "execution_count": 8,
   "id": "96a8c5db",
   "metadata": {},
   "outputs": [],
   "source": [
    "for i in bs.find_all('div',class_='nb__2_XSE'):\n",
    "    for j in i.find_all('a',class_='nb__U5JyW'):\n",
    "        title.append(j['title'])"
   ]
  },
  {
   "cell_type": "code",
   "execution_count": 9,
   "id": "ce5dbc2e",
   "metadata": {},
   "outputs": [
    {
     "data": {
      "text/plain": [
       "['3 BHK Flat  For Sale  In Total Environment Life Is Beautiful, Jayanagar In Jayanagar',\n",
       " '4+ BHK In Independent House  For Sale  In Rajajinaga ',\n",
       " '4+ BHK In Independent House  For Sale  In Jayanagar',\n",
       " '3 BHK Flat  For Sale  In Beverly Apartments In Hal 2nd Stage, Indiranagar',\n",
       " '3 BHK Flat  For Sale  In Madhavaram Metropolitan In Jayanagar',\n",
       " '2 BHK Flat  For Sale  In Maple Apartments In Indiranagar',\n",
       " '4 BHK Flat  For Sale  In Rrbc Piccassso In Jayanagar',\n",
       " '3 BHK Flat  For Sale  In Rrbc Piccassso In Jayanagar',\n",
       " '3 BHK Flat  For Sale  In Adarsh Court Apartment In Jayanagar',\n",
       " '4+ BHK In Independent House  For Sale  In Rajaji Nagar',\n",
       " '1 BHK Flat  For Sale  In Rajajinagar In Rajaji Nagar',\n",
       " '3 BHK Flat  For Sale  In Mantri Gardens Apartment In Jayanagar',\n",
       " '2 BHK Flat  For Sale  In Sri Sai Durga Residency In Indira Nagar',\n",
       " '3 BHK Flat  For Sale  In Vaishali Residency In Indiranagar',\n",
       " '2 BHK Flat  For Sale  In Benaka Towers In Hal 2nd Stage, Indiranagar',\n",
       " '1 BHK In Independent House  For Sale  In Rajaji Nagar',\n",
       " '3 BHK Flat  For Sale  In Livintique Residence In Indiranagar',\n",
       " '2 BHK Flat  For Sale  In Team Heritage Apartments In Indiranagar',\n",
       " '4 BHK Flat  For Sale  In Phoenix  One Bangalore West In Rajajinagar',\n",
       " '4+ BHK In Independent House  For Sale  In Banashankari',\n",
       " '4+ BHK Flat  For Sale  In Tilak Nagar, Jayanagar',\n",
       " '4 BHK In Independent House  For Sale  In Mahalakshmi Metro Station',\n",
       " '3 BHK Flat  For Sale  In Indiranagar',\n",
       " '2 BHK Flat  For Sale  In Brigade Gateway In Rajaji Nagar',\n",
       " '3 BHK Flat  For Sale  In Nishant Enclave In Indiranagar']"
      ]
     },
     "execution_count": 9,
     "metadata": {},
     "output_type": "execute_result"
    }
   ],
   "source": [
    "title"
   ]
  },
  {
   "cell_type": "code",
   "execution_count": 10,
   "id": "2a741fbe",
   "metadata": {},
   "outputs": [],
   "source": [
    "for i in bs.find_all('div',class_='nb__2_XSE'):\n",
    "    for j in i.find_all('div',class_='nb__1EwQz'):\n",
    "        loc.append(j.text)"
   ]
  },
  {
   "cell_type": "code",
   "execution_count": 11,
   "id": "dcb5a1b4",
   "metadata": {},
   "outputs": [
    {
     "data": {
      "text/plain": [
       "['30th Cross Rd, 4th T Block , Jayanagar, Bengaluru, Karnataka 560041, India',\n",
       " 'Independent House, 6th Cross Rd, 2nd Block  near  SMC Enclave ',\n",
       " 'Independent House, 100ft Road, Ashoka Pillar Rd near Girias Jayanagar Branch',\n",
       " 'Road next to Manyavar showroom',\n",
       " 'Sagar Hospitals, 30th Cross Rd, Bannerughatta Approach Road Layout, 4th T Block East, Tilak Nagar, Jayanagar, Bengaluru, Karnataka, India',\n",
       " 'Maple Apartments, Michael Palaya, 4th B Cross, 80 Feet Rd, Kalyan Nagar, H Colony, Indiranagar, Bengaluru, Karnataka 560038, India',\n",
       " 'Municipal No.152, 18th main road, beside Sai Baba Temple, Jayanagara 9th Block, Jayanagar, Bengaluru, Karnataka 560056, India',\n",
       " 'Municipal No.152, 18th main road, beside Sai Baba Temple, Jayanagara 9th Block, Jayanagar, Bengaluru, Karnataka 560056, India',\n",
       " 'Adarsh Court Apartment\\xa0 Adarsh Court Apartment, 8th Cross Rd, 7th Block, Jayanagar, Bengaluru, Karnataka 560070, India',\n",
       " 'Independent House, 72 Cross, 12th Main Rd, RPA College, near chaitanya school ',\n",
       " '27th cross 2nd block rajajinagar,Behind Navrang park',\n",
       " 'Mantri Gardens Apartment, Jayanagar 1st Block, Madhavan Park,, Bengaluru, Karnataka, 1st Block, Jaya Nagar East, Jayanagar, Bengaluru, Karnataka 560011, India',\n",
       " 'Indira Nagar, Bangalore',\n",
       " 'Vaishali Residency, HAL 2nd Stage, Indiranagar, Bengaluru, Karnataka 560008, India',\n",
       " 'Benaka Towers\\xa0 16th D Main Rd, HAL 2nd Stage, Kodihalli,',\n",
       " 'Independent House, Shiv nagar Rajajinagar, Near BASE PU College',\n",
       " '100 Feet Rd near Barbeque Nation',\n",
       " 'Team Heritage Apartments\\xa0 Team Heritage Apartments, 13th main,, 2nd Cross Rd, HAL 2nd Stage, Indiranagar, Bengaluru, Karnataka 560008, India',\n",
       " 'Dr Rajkumar Rd, opposite Sheraton Hotel, Rajajinagar',\n",
       " 'Independent House, 7th main road banashankri stage 2',\n",
       " 'Standalone Building, backside of L J Iyengar Bakery and Sweets Lj.iyengar.bakery.&.sweetsShop No. 161, Opp Rajiv Gandhi University, 32., Nd. E. Cross Road Jayanagar Bengaluru, Karnataka 560041 India near to Sanjay Gandhi Hospital,',\n",
       " 'Independent House, JUST BAKE 1st main road AGB layout, saraswatipuram,nandini layout ,bangalore-86',\n",
       " 'Standalone Building, 1st Stage, 5 Main near Kairalee Niketan Education Trust',\n",
       " 'Brigade Gateway\\xa0 Dr Rajkumar Road, Rajaji Nagar, Bengaluru, Karnataka 560055, India',\n",
       " 'Nishant Enclave\\xa0 13th H Main Rd, HAL 2nd Stage, Doopanahalli, Indiranagar, Bengaluru, Karnataka 560008, India']"
      ]
     },
     "execution_count": 11,
     "metadata": {},
     "output_type": "execute_result"
    }
   ],
   "source": [
    "loc"
   ]
  },
  {
   "cell_type": "code",
   "execution_count": 12,
   "id": "b1d439f8",
   "metadata": {},
   "outputs": [],
   "source": [
    "for i in bs.find_all('div',class_='nb__2_XSE'):\n",
    "    b=1\n",
    "    for j in i.find_all('div',class_='font-semi-bold heading-6'):\n",
    "        if(b==1):\n",
    "            area.append(j.text.strip())\n",
    "        if(b==2):\n",
    "            emi.append(j.text.strip())\n",
    "        if(b==3):\n",
    "            price.append(j.text.strip())\n",
    "        b+=1"
   ]
  },
  {
   "cell_type": "code",
   "execution_count": 13,
   "id": "d2eda1fc",
   "metadata": {},
   "outputs": [
    {
     "data": {
      "text/plain": [
       "['2,628 sqft',\n",
       " '2,240 sqft',\n",
       " '2,195 sqft',\n",
       " '1,780 sqft',\n",
       " '1,455 sqft',\n",
       " '925 sqft',\n",
       " '4,859 sqft',\n",
       " '2,037 sqft',\n",
       " '1,990 sqft',\n",
       " '1,350 sqft',\n",
       " '650 sqft',\n",
       " '1,485 sqft',\n",
       " '1,500 sqft',\n",
       " '1,300 sqft',\n",
       " '1,378 sqft',\n",
       " '650 sqft',\n",
       " '2,450 sqft',\n",
       " '1,100 sqft',\n",
       " '2,901 sqft',\n",
       " '3,600 sqft',\n",
       " '2,000 sqft',\n",
       " '1,800 sqft',\n",
       " '1,400 sqft',\n",
       " '1,640 sqft',\n",
       " '2,258 sqft']"
      ]
     },
     "execution_count": 13,
     "metadata": {},
     "output_type": "execute_result"
    }
   ],
   "source": [
    "area"
   ]
  },
  {
   "cell_type": "code",
   "execution_count": 14,
   "id": "1738dec4",
   "metadata": {},
   "outputs": [
    {
     "data": {
      "text/plain": [
       "['₹1.72 Lacs/Month',\n",
       " '₹83,679/Month',\n",
       " '₹2.96 Lacs/Month',\n",
       " '₹91,703/Month',\n",
       " '₹44,705/Month',\n",
       " '₹37,254/Month',\n",
       " '₹3.91 Lacs/Month',\n",
       " '₹1.69 Lacs/Month',\n",
       " '₹2.01 Lacs/Month',\n",
       " '₹1.96 Lacs/Month',\n",
       " '₹28,657/Month',\n",
       " '₹94,568/Month',\n",
       " '₹68,777/Month',\n",
       " '₹65,911/Month',\n",
       " '₹56,168/Month',\n",
       " '₹24,072/Month',\n",
       " '₹2.01 Lacs/Month',\n",
       " '₹57,314/Month',\n",
       " '₹2.72 Lacs/Month',\n",
       " '₹3.15 Lacs/Month',\n",
       " '₹45,278/Month',\n",
       " '₹1.29 Lacs/Month',\n",
       " '₹80,240/Month',\n",
       " '₹1.43 Lacs/Month',\n",
       " '₹1.15 Lacs/Month']"
      ]
     },
     "execution_count": 14,
     "metadata": {},
     "output_type": "execute_result"
    }
   ],
   "source": [
    "emi"
   ]
  },
  {
   "cell_type": "code",
   "execution_count": 15,
   "id": "92848e36",
   "metadata": {},
   "outputs": [
    {
     "data": {
      "text/plain": [
       "['₹3 Crores',\n",
       " '₹1.46 Crores',\n",
       " '₹5.16 Crores',\n",
       " '₹1.6 Crores',\n",
       " '₹78 Lacs',\n",
       " '₹65 Lacs',\n",
       " '₹6.83 Crores',\n",
       " '₹2.94 Crores',\n",
       " '₹3.5 Crores',\n",
       " '₹3.42 Crores',\n",
       " '₹50 Lacs',\n",
       " '₹1.65 Crores',\n",
       " '₹1.2 Crores',\n",
       " '₹1.15 Crores',\n",
       " '₹98 Lacs',\n",
       " '₹42 Lacs',\n",
       " '₹3.5 Crores',\n",
       " '₹1 Crore',\n",
       " '₹4.75 Crores',\n",
       " '₹5.5 Crores',\n",
       " '₹79 Lacs',\n",
       " '₹2.25 Crores',\n",
       " '₹1.4 Crores',\n",
       " '₹2.5 Crores',\n",
       " '₹2.01 Crores']"
      ]
     },
     "execution_count": 15,
     "metadata": {},
     "output_type": "execute_result"
    }
   ],
   "source": [
    "price"
   ]
  },
  {
   "cell_type": "code",
   "execution_count": 16,
   "id": "2069b614",
   "metadata": {},
   "outputs": [
    {
     "name": "stdout",
     "output_type": "stream",
     "text": [
      "25 25 25 25 25\n"
     ]
    }
   ],
   "source": [
    "print(len(title),len(loc),len(area),len(emi),len(price))"
   ]
  },
  {
   "cell_type": "code",
   "execution_count": null,
   "id": "9b85e2e1",
   "metadata": {},
   "outputs": [],
   "source": []
  }
 ],
 "metadata": {
  "kernelspec": {
   "display_name": "Python 3",
   "language": "python",
   "name": "python3"
  },
  "language_info": {
   "codemirror_mode": {
    "name": "ipython",
    "version": 3
   },
   "file_extension": ".py",
   "mimetype": "text/x-python",
   "name": "python",
   "nbconvert_exporter": "python",
   "pygments_lexer": "ipython3",
   "version": "3.8.8"
  }
 },
 "nbformat": 4,
 "nbformat_minor": 5
}
