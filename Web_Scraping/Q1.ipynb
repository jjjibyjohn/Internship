{
 "cells": [
  {
   "cell_type": "code",
   "execution_count": 1,
   "id": "62f01328",
   "metadata": {},
   "outputs": [],
   "source": [
    "from bs4 import BeautifulSoup"
   ]
  },
  {
   "cell_type": "code",
   "execution_count": 2,
   "id": "ced3f050",
   "metadata": {},
   "outputs": [],
   "source": [
    "import requests"
   ]
  },
  {
   "cell_type": "code",
   "execution_count": 3,
   "id": "b1f73ca6",
   "metadata": {},
   "outputs": [],
   "source": [
    "url = 'https://www.wikipedia.org/'"
   ]
  },
  {
   "cell_type": "code",
   "execution_count": 4,
   "id": "960015d8",
   "metadata": {},
   "outputs": [],
   "source": [
    "site = requests.get(url)"
   ]
  },
  {
   "cell_type": "code",
   "execution_count": 5,
   "id": "3c9c0294",
   "metadata": {},
   "outputs": [
    {
     "data": {
      "text/plain": [
       "<Response [200]>"
      ]
     },
     "execution_count": 5,
     "metadata": {},
     "output_type": "execute_result"
    }
   ],
   "source": [
    "site"
   ]
  },
  {
   "cell_type": "code",
   "execution_count": 6,
   "id": "467885b1",
   "metadata": {},
   "outputs": [],
   "source": [
    "bs = BeautifulSoup(site.text)"
   ]
  },
  {
   "cell_type": "code",
   "execution_count": 7,
   "id": "1347c368",
   "metadata": {},
   "outputs": [],
   "source": [
    "header = ['h1','h2','h3','h4']"
   ]
  },
  {
   "cell_type": "code",
   "execution_count": 8,
   "id": "a5416764",
   "metadata": {},
   "outputs": [
    {
     "name": "stdout",
     "output_type": "stream",
     "text": [
      "\n",
      " h1 \t Wikipedia\n",
      "\n",
      "The Free Encyclopedia\n",
      "\n",
      " h2 \t 1 000 000+\n",
      "\n",
      "\n",
      "articles\n",
      "\n",
      " h2 \t 100 000+\n",
      "\n",
      "\n",
      "articles\n",
      "\n",
      " h2 \t 10 000+\n",
      "\n",
      "\n",
      "articles\n",
      "\n",
      " h2 \t 1 000+\n",
      "\n",
      "\n",
      "articles\n",
      "\n",
      " h2 \t 100+\n",
      "\n",
      "\n",
      "articles\n"
     ]
    }
   ],
   "source": [
    "for i in bs.find_all(header):\n",
    "    print('\\n', i.name, '\\t', i.text.strip())"
   ]
  },
  {
   "cell_type": "code",
   "execution_count": null,
   "id": "b24bb95c",
   "metadata": {},
   "outputs": [],
   "source": []
  }
 ],
 "metadata": {
  "kernelspec": {
   "display_name": "Python 3",
   "language": "python",
   "name": "python3"
  },
  "language_info": {
   "codemirror_mode": {
    "name": "ipython",
    "version": 3
   },
   "file_extension": ".py",
   "mimetype": "text/x-python",
   "name": "python",
   "nbconvert_exporter": "python",
   "pygments_lexer": "ipython3",
   "version": "3.8.8"
  }
 },
 "nbformat": 4,
 "nbformat_minor": 5
}
