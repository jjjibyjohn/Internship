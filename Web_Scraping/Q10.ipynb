{
 "cells": [
  {
   "cell_type": "markdown",
   "id": "396eafad",
   "metadata": {},
   "source": [
    "# Write a python program to scrape first 10 product details which include product name , price , Image URL from https://www.bewakoof.com/women-tshirts?ga_q=tshirts ."
   ]
  },
  {
   "cell_type": "code",
   "execution_count": 1,
   "id": "4e1143ac",
   "metadata": {},
   "outputs": [],
   "source": [
    "from bs4 import BeautifulSoup"
   ]
  },
  {
   "cell_type": "code",
   "execution_count": 2,
   "id": "f9a5bb5b",
   "metadata": {},
   "outputs": [],
   "source": [
    "import requests"
   ]
  },
  {
   "cell_type": "code",
   "execution_count": 3,
   "id": "feb7cf41",
   "metadata": {},
   "outputs": [],
   "source": [
    "url = 'https://www.bewakoof.com/women-tshirts?ga_q=tshirts'"
   ]
  },
  {
   "cell_type": "code",
   "execution_count": 4,
   "id": "318d4176",
   "metadata": {},
   "outputs": [],
   "source": [
    "site = requests.get(url)"
   ]
  },
  {
   "cell_type": "code",
   "execution_count": 5,
   "id": "0bd20267",
   "metadata": {},
   "outputs": [
    {
     "data": {
      "text/plain": [
       "<Response [200]>"
      ]
     },
     "execution_count": 5,
     "metadata": {},
     "output_type": "execute_result"
    }
   ],
   "source": [
    "site"
   ]
  },
  {
   "cell_type": "code",
   "execution_count": 6,
   "id": "3d963cd2",
   "metadata": {},
   "outputs": [],
   "source": [
    "bs = BeautifulSoup(site.content)"
   ]
  },
  {
   "cell_type": "code",
   "execution_count": 7,
   "id": "f3641127",
   "metadata": {},
   "outputs": [],
   "source": [
    "name = []\n",
    "price = []\n",
    "img = []"
   ]
  },
  {
   "cell_type": "code",
   "execution_count": 8,
   "id": "96b5e3ca",
   "metadata": {},
   "outputs": [],
   "source": [
    "b = 0\n",
    "for i in bs.find_all('h3'):\n",
    "    if(b<10):\n",
    "        name.append(i.text)\n",
    "        b+=1\n",
    "    else:\n",
    "        break"
   ]
  },
  {
   "cell_type": "code",
   "execution_count": 9,
   "id": "5f7f50c5",
   "metadata": {},
   "outputs": [
    {
     "data": {
      "text/plain": [
       "['All Day Everyday Half Sleeve T-Shirt',\n",
       " 'Travel Buddies Half Sleeve T-Shirt (DL)',\n",
       " 'Dab Marshmello Half Sleeve T-Shirt',\n",
       " 'Bonjour Paris Half Sleeve Printed Red T-Shirt',\n",
       " 'Busy Doing Nothing Half Sleeve T-shirt',\n",
       " \"I'm Amazing Half Sleeve T-Shirt (TJL)\",\n",
       " 'Climbing pocket panda Printed Red T-shirt',\n",
       " 'Minimal Believe Half Sleeve T-Shirt',\n",
       " 'Bunny Rabbit Pocket Printed Half Sleeve T-Shirt',\n",
       " 'Friends logo (FRL) Printed Half Sleeve T-shirt']"
      ]
     },
     "execution_count": 9,
     "metadata": {},
     "output_type": "execute_result"
    }
   ],
   "source": [
    "name"
   ]
  },
  {
   "cell_type": "code",
   "execution_count": 10,
   "id": "8173c6bc",
   "metadata": {},
   "outputs": [],
   "source": [
    "b = 0\n",
    "for i in bs.find_all('span',class_='discountedPriceText'):\n",
    "    if(b<10):\n",
    "        price.append(i.text)\n",
    "        b+=1\n",
    "    else:\n",
    "        break"
   ]
  },
  {
   "cell_type": "code",
   "execution_count": 11,
   "id": "76d9aa21",
   "metadata": {},
   "outputs": [
    {
     "data": {
      "text/plain": [
       "['₹ 199',\n",
       " '₹ 199',\n",
       " '₹ 149',\n",
       " '₹ 249',\n",
       " '₹ 799',\n",
       " '₹ 799',\n",
       " '₹ 199',\n",
       " '₹ 199',\n",
       " '₹ 199',\n",
       " '₹ 199']"
      ]
     },
     "execution_count": 11,
     "metadata": {},
     "output_type": "execute_result"
    }
   ],
   "source": [
    "price"
   ]
  },
  {
   "cell_type": "code",
   "execution_count": 12,
   "id": "e307ddfa",
   "metadata": {},
   "outputs": [],
   "source": [
    "b = 0\n",
    "for i in bs.find_all('img',class_='productImgTag'):\n",
    "    if(b<10):\n",
    "        img.append(i['src'])\n",
    "        b+=1\n",
    "    else:\n",
    "        break"
   ]
  },
  {
   "cell_type": "code",
   "execution_count": 13,
   "id": "1e53a754",
   "metadata": {},
   "outputs": [
    {
     "data": {
      "text/plain": [
       "['https://images.bewakoof.com/t320/all-day-everyday-half-sleeve-t-shirt-women-s-half-sleeve-printed-t-shirt-387287-1628237847.jpg',\n",
       " 'https://images.bewakoof.com/t320/travel-buddies-half-sleeve-t-shirt-women-s-half-sleeve-printed-t-shirt-376312-1626165314.jpg',\n",
       " 'https://images.bewakoof.com/t320/dab-marshmello-half-sleeve-t-shirt-women-s-half-sleeve-printed-t-shirt-284092-1602133550.jpg',\n",
       " 'https://images.bewakoof.com/t320/bonjour-paris-half-sleeve-t-shirt-women-s-half-sleeve-printed-t-shirt-363847-1623128076.jpg',\n",
       " 'https://images.bewakoof.com/t320/busy-doing-nothing-half-sleeve-t-shirt-women-s-half-sleeve-printed-t-shirt-363851-1626848542.jpg',\n",
       " 'https://images.bewakoof.com/t320/i-m-amazing-tjl-women-s-half-sleeve-printed-t-shirt-363853-1623135819.jpg',\n",
       " 'https://images.bewakoof.com/t320/climbing-pocket-panda-women-s-half-sleeve-printed-t-shirt-363858-1623136052.jpg',\n",
       " 'https://images.bewakoof.com/t320/minimal-believe-women-s-half-sleeve-printed-t-shirt-363859-1623136180.jpg',\n",
       " 'https://images.bewakoof.com/t320/bunny-rabbit-pocket-women-s-half-sleeve-printed-t-shirt-363861-1623136297.jpg',\n",
       " 'https://images.bewakoof.com/t320/friends-logo-frl-women-s-half-sleeve-printed-t-shirt-363862-1623136318.jpg']"
      ]
     },
     "execution_count": 13,
     "metadata": {},
     "output_type": "execute_result"
    }
   ],
   "source": [
    "img"
   ]
  },
  {
   "cell_type": "code",
   "execution_count": 14,
   "id": "bc55e3cf",
   "metadata": {},
   "outputs": [
    {
     "name": "stdout",
     "output_type": "stream",
     "text": [
      "10 10 10\n"
     ]
    }
   ],
   "source": [
    "print(len(name),len(price),len(img))"
   ]
  },
  {
   "cell_type": "code",
   "execution_count": 15,
   "id": "2c3f865c",
   "metadata": {},
   "outputs": [],
   "source": [
    "import pandas as pd"
   ]
  },
  {
   "cell_type": "code",
   "execution_count": 16,
   "id": "712824ba",
   "metadata": {},
   "outputs": [],
   "source": [
    "df = pd.DataFrame({'Name':name,'Price':price,'Image':img})"
   ]
  },
  {
   "cell_type": "code",
   "execution_count": 17,
   "id": "1db23bd0",
   "metadata": {},
   "outputs": [
    {
     "data": {
      "text/html": [
       "<div>\n",
       "<style scoped>\n",
       "    .dataframe tbody tr th:only-of-type {\n",
       "        vertical-align: middle;\n",
       "    }\n",
       "\n",
       "    .dataframe tbody tr th {\n",
       "        vertical-align: top;\n",
       "    }\n",
       "\n",
       "    .dataframe thead th {\n",
       "        text-align: right;\n",
       "    }\n",
       "</style>\n",
       "<table border=\"1\" class=\"dataframe\">\n",
       "  <thead>\n",
       "    <tr style=\"text-align: right;\">\n",
       "      <th></th>\n",
       "      <th>Name</th>\n",
       "      <th>Price</th>\n",
       "      <th>Image</th>\n",
       "    </tr>\n",
       "  </thead>\n",
       "  <tbody>\n",
       "    <tr>\n",
       "      <th>0</th>\n",
       "      <td>All Day Everyday Half Sleeve T-Shirt</td>\n",
       "      <td>₹ 199</td>\n",
       "      <td>https://images.bewakoof.com/t320/all-day-every...</td>\n",
       "    </tr>\n",
       "    <tr>\n",
       "      <th>1</th>\n",
       "      <td>Travel Buddies Half Sleeve T-Shirt (DL)</td>\n",
       "      <td>₹ 199</td>\n",
       "      <td>https://images.bewakoof.com/t320/travel-buddie...</td>\n",
       "    </tr>\n",
       "    <tr>\n",
       "      <th>2</th>\n",
       "      <td>Dab Marshmello Half Sleeve T-Shirt</td>\n",
       "      <td>₹ 149</td>\n",
       "      <td>https://images.bewakoof.com/t320/dab-marshmell...</td>\n",
       "    </tr>\n",
       "    <tr>\n",
       "      <th>3</th>\n",
       "      <td>Bonjour Paris Half Sleeve Printed Red T-Shirt</td>\n",
       "      <td>₹ 249</td>\n",
       "      <td>https://images.bewakoof.com/t320/bonjour-paris...</td>\n",
       "    </tr>\n",
       "    <tr>\n",
       "      <th>4</th>\n",
       "      <td>Busy Doing Nothing Half Sleeve T-shirt</td>\n",
       "      <td>₹ 799</td>\n",
       "      <td>https://images.bewakoof.com/t320/busy-doing-no...</td>\n",
       "    </tr>\n",
       "    <tr>\n",
       "      <th>5</th>\n",
       "      <td>I'm Amazing Half Sleeve T-Shirt (TJL)</td>\n",
       "      <td>₹ 799</td>\n",
       "      <td>https://images.bewakoof.com/t320/i-m-amazing-t...</td>\n",
       "    </tr>\n",
       "    <tr>\n",
       "      <th>6</th>\n",
       "      <td>Climbing pocket panda Printed Red T-shirt</td>\n",
       "      <td>₹ 199</td>\n",
       "      <td>https://images.bewakoof.com/t320/climbing-pock...</td>\n",
       "    </tr>\n",
       "    <tr>\n",
       "      <th>7</th>\n",
       "      <td>Minimal Believe Half Sleeve T-Shirt</td>\n",
       "      <td>₹ 199</td>\n",
       "      <td>https://images.bewakoof.com/t320/minimal-belie...</td>\n",
       "    </tr>\n",
       "    <tr>\n",
       "      <th>8</th>\n",
       "      <td>Bunny Rabbit Pocket Printed Half Sleeve T-Shirt</td>\n",
       "      <td>₹ 199</td>\n",
       "      <td>https://images.bewakoof.com/t320/bunny-rabbit-...</td>\n",
       "    </tr>\n",
       "    <tr>\n",
       "      <th>9</th>\n",
       "      <td>Friends logo (FRL) Printed Half Sleeve T-shirt</td>\n",
       "      <td>₹ 199</td>\n",
       "      <td>https://images.bewakoof.com/t320/friends-logo-...</td>\n",
       "    </tr>\n",
       "  </tbody>\n",
       "</table>\n",
       "</div>"
      ],
      "text/plain": [
       "                                              Name  Price  \\\n",
       "0             All Day Everyday Half Sleeve T-Shirt  ₹ 199   \n",
       "1          Travel Buddies Half Sleeve T-Shirt (DL)  ₹ 199   \n",
       "2               Dab Marshmello Half Sleeve T-Shirt  ₹ 149   \n",
       "3    Bonjour Paris Half Sleeve Printed Red T-Shirt  ₹ 249   \n",
       "4           Busy Doing Nothing Half Sleeve T-shirt  ₹ 799   \n",
       "5            I'm Amazing Half Sleeve T-Shirt (TJL)  ₹ 799   \n",
       "6        Climbing pocket panda Printed Red T-shirt  ₹ 199   \n",
       "7              Minimal Believe Half Sleeve T-Shirt  ₹ 199   \n",
       "8  Bunny Rabbit Pocket Printed Half Sleeve T-Shirt  ₹ 199   \n",
       "9   Friends logo (FRL) Printed Half Sleeve T-shirt  ₹ 199   \n",
       "\n",
       "                                               Image  \n",
       "0  https://images.bewakoof.com/t320/all-day-every...  \n",
       "1  https://images.bewakoof.com/t320/travel-buddie...  \n",
       "2  https://images.bewakoof.com/t320/dab-marshmell...  \n",
       "3  https://images.bewakoof.com/t320/bonjour-paris...  \n",
       "4  https://images.bewakoof.com/t320/busy-doing-no...  \n",
       "5  https://images.bewakoof.com/t320/i-m-amazing-t...  \n",
       "6  https://images.bewakoof.com/t320/climbing-pock...  \n",
       "7  https://images.bewakoof.com/t320/minimal-belie...  \n",
       "8  https://images.bewakoof.com/t320/bunny-rabbit-...  \n",
       "9  https://images.bewakoof.com/t320/friends-logo-...  "
      ]
     },
     "execution_count": 17,
     "metadata": {},
     "output_type": "execute_result"
    }
   ],
   "source": [
    "df"
   ]
  },
  {
   "cell_type": "code",
   "execution_count": null,
   "id": "bf3b8f42",
   "metadata": {},
   "outputs": [],
   "source": []
  }
 ],
 "metadata": {
  "kernelspec": {
   "display_name": "Python 3",
   "language": "python",
   "name": "python3"
  },
  "language_info": {
   "codemirror_mode": {
    "name": "ipython",
    "version": 3
   },
   "file_extension": ".py",
   "mimetype": "text/x-python",
   "name": "python",
   "nbconvert_exporter": "python",
   "pygments_lexer": "ipython3",
   "version": "3.8.8"
  }
 },
 "nbformat": 4,
 "nbformat_minor": 5
}
