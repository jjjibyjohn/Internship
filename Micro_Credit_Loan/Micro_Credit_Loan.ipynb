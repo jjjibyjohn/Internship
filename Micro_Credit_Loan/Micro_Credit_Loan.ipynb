{
 "cells": [
  {
   "cell_type": "code",
   "execution_count": 52,
   "id": "277e4d49",
   "metadata": {},
   "outputs": [],
   "source": [
    "import pandas as pd\n",
    "import numpy as np\n",
    "import seaborn as sns\n",
    "import matplotlib.pyplot as plt\n",
    "from sklearn.preprocessing import LabelEncoder, StandardScaler\n",
    "from scipy.stats import zscore, yeojohnson\n",
    "from sklearn.model_selection import train_test_split, cross_val_score, GridSearchCV\n",
    "from sklearn.linear_model import LogisticRegression\n",
    "from sklearn.metrics import plot_roc_curve, accuracy_score, confusion_matrix, classification_report\n",
    "from sklearn.neighbors import KNeighborsClassifier\n",
    "from xgboost import XGBClassifier\n",
    "from sklearn.tree import DecisionTreeClassifier\n",
    "from sklearn.ensemble import RandomForestClassifier\n",
    "import joblib\n",
    "\n",
    "import warnings\n",
    "warnings.filterwarnings('ignore')"
   ]
  },
  {
   "cell_type": "markdown",
   "id": "ca9ef481",
   "metadata": {},
   "source": [
    "# Data Collection"
   ]
  },
  {
   "cell_type": "code",
   "execution_count": 2,
   "id": "c646bc58",
   "metadata": {},
   "outputs": [],
   "source": [
    "df = pd.read_csv(r\"C:\\Users\\jjjib\\Desktop\\Projects\\FlipRobo\\Micro Credit Defaulter 15-04\\Micro Credit Project\\Data file.csv\")"
   ]
  },
  {
   "cell_type": "markdown",
   "id": "f35d0d2f",
   "metadata": {},
   "source": [
    "# Data Understanding"
   ]
  },
  {
   "cell_type": "code",
   "execution_count": 3,
   "id": "057cc90d",
   "metadata": {},
   "outputs": [
    {
     "data": {
      "text/html": [
       "<div>\n",
       "<style scoped>\n",
       "    .dataframe tbody tr th:only-of-type {\n",
       "        vertical-align: middle;\n",
       "    }\n",
       "\n",
       "    .dataframe tbody tr th {\n",
       "        vertical-align: top;\n",
       "    }\n",
       "\n",
       "    .dataframe thead th {\n",
       "        text-align: right;\n",
       "    }\n",
       "</style>\n",
       "<table border=\"1\" class=\"dataframe\">\n",
       "  <thead>\n",
       "    <tr style=\"text-align: right;\">\n",
       "      <th></th>\n",
       "      <th>Unnamed: 0</th>\n",
       "      <th>label</th>\n",
       "      <th>msisdn</th>\n",
       "      <th>aon</th>\n",
       "      <th>daily_decr30</th>\n",
       "      <th>daily_decr90</th>\n",
       "      <th>rental30</th>\n",
       "      <th>rental90</th>\n",
       "      <th>last_rech_date_ma</th>\n",
       "      <th>last_rech_date_da</th>\n",
       "      <th>...</th>\n",
       "      <th>maxamnt_loans30</th>\n",
       "      <th>medianamnt_loans30</th>\n",
       "      <th>cnt_loans90</th>\n",
       "      <th>amnt_loans90</th>\n",
       "      <th>maxamnt_loans90</th>\n",
       "      <th>medianamnt_loans90</th>\n",
       "      <th>payback30</th>\n",
       "      <th>payback90</th>\n",
       "      <th>pcircle</th>\n",
       "      <th>pdate</th>\n",
       "    </tr>\n",
       "  </thead>\n",
       "  <tbody>\n",
       "    <tr>\n",
       "      <th>0</th>\n",
       "      <td>1</td>\n",
       "      <td>0</td>\n",
       "      <td>21408I70789</td>\n",
       "      <td>272.0</td>\n",
       "      <td>3055.050000</td>\n",
       "      <td>3065.150000</td>\n",
       "      <td>220.13</td>\n",
       "      <td>260.13</td>\n",
       "      <td>2.0</td>\n",
       "      <td>0.0</td>\n",
       "      <td>...</td>\n",
       "      <td>6.0</td>\n",
       "      <td>0.0</td>\n",
       "      <td>2.0</td>\n",
       "      <td>12</td>\n",
       "      <td>6</td>\n",
       "      <td>0.0</td>\n",
       "      <td>29.000000</td>\n",
       "      <td>29.000000</td>\n",
       "      <td>UPW</td>\n",
       "      <td>2016-07-20</td>\n",
       "    </tr>\n",
       "    <tr>\n",
       "      <th>1</th>\n",
       "      <td>2</td>\n",
       "      <td>1</td>\n",
       "      <td>76462I70374</td>\n",
       "      <td>712.0</td>\n",
       "      <td>12122.000000</td>\n",
       "      <td>12124.750000</td>\n",
       "      <td>3691.26</td>\n",
       "      <td>3691.26</td>\n",
       "      <td>20.0</td>\n",
       "      <td>0.0</td>\n",
       "      <td>...</td>\n",
       "      <td>12.0</td>\n",
       "      <td>0.0</td>\n",
       "      <td>1.0</td>\n",
       "      <td>12</td>\n",
       "      <td>12</td>\n",
       "      <td>0.0</td>\n",
       "      <td>0.000000</td>\n",
       "      <td>0.000000</td>\n",
       "      <td>UPW</td>\n",
       "      <td>2016-08-10</td>\n",
       "    </tr>\n",
       "    <tr>\n",
       "      <th>2</th>\n",
       "      <td>3</td>\n",
       "      <td>1</td>\n",
       "      <td>17943I70372</td>\n",
       "      <td>535.0</td>\n",
       "      <td>1398.000000</td>\n",
       "      <td>1398.000000</td>\n",
       "      <td>900.13</td>\n",
       "      <td>900.13</td>\n",
       "      <td>3.0</td>\n",
       "      <td>0.0</td>\n",
       "      <td>...</td>\n",
       "      <td>6.0</td>\n",
       "      <td>0.0</td>\n",
       "      <td>1.0</td>\n",
       "      <td>6</td>\n",
       "      <td>6</td>\n",
       "      <td>0.0</td>\n",
       "      <td>0.000000</td>\n",
       "      <td>0.000000</td>\n",
       "      <td>UPW</td>\n",
       "      <td>2016-08-19</td>\n",
       "    </tr>\n",
       "    <tr>\n",
       "      <th>3</th>\n",
       "      <td>4</td>\n",
       "      <td>1</td>\n",
       "      <td>55773I70781</td>\n",
       "      <td>241.0</td>\n",
       "      <td>21.228000</td>\n",
       "      <td>21.228000</td>\n",
       "      <td>159.42</td>\n",
       "      <td>159.42</td>\n",
       "      <td>41.0</td>\n",
       "      <td>0.0</td>\n",
       "      <td>...</td>\n",
       "      <td>6.0</td>\n",
       "      <td>0.0</td>\n",
       "      <td>2.0</td>\n",
       "      <td>12</td>\n",
       "      <td>6</td>\n",
       "      <td>0.0</td>\n",
       "      <td>0.000000</td>\n",
       "      <td>0.000000</td>\n",
       "      <td>UPW</td>\n",
       "      <td>2016-06-06</td>\n",
       "    </tr>\n",
       "    <tr>\n",
       "      <th>4</th>\n",
       "      <td>5</td>\n",
       "      <td>1</td>\n",
       "      <td>03813I82730</td>\n",
       "      <td>947.0</td>\n",
       "      <td>150.619333</td>\n",
       "      <td>150.619333</td>\n",
       "      <td>1098.90</td>\n",
       "      <td>1098.90</td>\n",
       "      <td>4.0</td>\n",
       "      <td>0.0</td>\n",
       "      <td>...</td>\n",
       "      <td>6.0</td>\n",
       "      <td>0.0</td>\n",
       "      <td>7.0</td>\n",
       "      <td>42</td>\n",
       "      <td>6</td>\n",
       "      <td>0.0</td>\n",
       "      <td>2.333333</td>\n",
       "      <td>2.333333</td>\n",
       "      <td>UPW</td>\n",
       "      <td>2016-06-22</td>\n",
       "    </tr>\n",
       "  </tbody>\n",
       "</table>\n",
       "<p>5 rows × 37 columns</p>\n",
       "</div>"
      ],
      "text/plain": [
       "   Unnamed: 0  label       msisdn    aon  daily_decr30  daily_decr90  \\\n",
       "0           1      0  21408I70789  272.0   3055.050000   3065.150000   \n",
       "1           2      1  76462I70374  712.0  12122.000000  12124.750000   \n",
       "2           3      1  17943I70372  535.0   1398.000000   1398.000000   \n",
       "3           4      1  55773I70781  241.0     21.228000     21.228000   \n",
       "4           5      1  03813I82730  947.0    150.619333    150.619333   \n",
       "\n",
       "   rental30  rental90  last_rech_date_ma  last_rech_date_da  ...  \\\n",
       "0    220.13    260.13                2.0                0.0  ...   \n",
       "1   3691.26   3691.26               20.0                0.0  ...   \n",
       "2    900.13    900.13                3.0                0.0  ...   \n",
       "3    159.42    159.42               41.0                0.0  ...   \n",
       "4   1098.90   1098.90                4.0                0.0  ...   \n",
       "\n",
       "   maxamnt_loans30  medianamnt_loans30  cnt_loans90  amnt_loans90  \\\n",
       "0              6.0                 0.0          2.0            12   \n",
       "1             12.0                 0.0          1.0            12   \n",
       "2              6.0                 0.0          1.0             6   \n",
       "3              6.0                 0.0          2.0            12   \n",
       "4              6.0                 0.0          7.0            42   \n",
       "\n",
       "   maxamnt_loans90  medianamnt_loans90  payback30  payback90  pcircle  \\\n",
       "0                6                 0.0  29.000000  29.000000      UPW   \n",
       "1               12                 0.0   0.000000   0.000000      UPW   \n",
       "2                6                 0.0   0.000000   0.000000      UPW   \n",
       "3                6                 0.0   0.000000   0.000000      UPW   \n",
       "4                6                 0.0   2.333333   2.333333      UPW   \n",
       "\n",
       "        pdate  \n",
       "0  2016-07-20  \n",
       "1  2016-08-10  \n",
       "2  2016-08-19  \n",
       "3  2016-06-06  \n",
       "4  2016-06-22  \n",
       "\n",
       "[5 rows x 37 columns]"
      ]
     },
     "execution_count": 3,
     "metadata": {},
     "output_type": "execute_result"
    }
   ],
   "source": [
    "#Visualizing the dataset \n",
    "df.head()"
   ]
  },
  {
   "cell_type": "code",
   "execution_count": 4,
   "id": "2fe604f9",
   "metadata": {},
   "outputs": [
    {
     "name": "stdout",
     "output_type": "stream",
     "text": [
      "<class 'pandas.core.frame.DataFrame'>\n",
      "RangeIndex: 209593 entries, 0 to 209592\n",
      "Data columns (total 37 columns):\n",
      " #   Column                Non-Null Count   Dtype  \n",
      "---  ------                --------------   -----  \n",
      " 0   Unnamed: 0            209593 non-null  int64  \n",
      " 1   label                 209593 non-null  int64  \n",
      " 2   msisdn                209593 non-null  object \n",
      " 3   aon                   209593 non-null  float64\n",
      " 4   daily_decr30          209593 non-null  float64\n",
      " 5   daily_decr90          209593 non-null  float64\n",
      " 6   rental30              209593 non-null  float64\n",
      " 7   rental90              209593 non-null  float64\n",
      " 8   last_rech_date_ma     209593 non-null  float64\n",
      " 9   last_rech_date_da     209593 non-null  float64\n",
      " 10  last_rech_amt_ma      209593 non-null  int64  \n",
      " 11  cnt_ma_rech30         209593 non-null  int64  \n",
      " 12  fr_ma_rech30          209593 non-null  float64\n",
      " 13  sumamnt_ma_rech30     209593 non-null  float64\n",
      " 14  medianamnt_ma_rech30  209593 non-null  float64\n",
      " 15  medianmarechprebal30  209593 non-null  float64\n",
      " 16  cnt_ma_rech90         209593 non-null  int64  \n",
      " 17  fr_ma_rech90          209593 non-null  int64  \n",
      " 18  sumamnt_ma_rech90     209593 non-null  int64  \n",
      " 19  medianamnt_ma_rech90  209593 non-null  float64\n",
      " 20  medianmarechprebal90  209593 non-null  float64\n",
      " 21  cnt_da_rech30         209593 non-null  float64\n",
      " 22  fr_da_rech30          209593 non-null  float64\n",
      " 23  cnt_da_rech90         209593 non-null  int64  \n",
      " 24  fr_da_rech90          209593 non-null  int64  \n",
      " 25  cnt_loans30           209593 non-null  int64  \n",
      " 26  amnt_loans30          209593 non-null  int64  \n",
      " 27  maxamnt_loans30       209593 non-null  float64\n",
      " 28  medianamnt_loans30    209593 non-null  float64\n",
      " 29  cnt_loans90           209593 non-null  float64\n",
      " 30  amnt_loans90          209593 non-null  int64  \n",
      " 31  maxamnt_loans90       209593 non-null  int64  \n",
      " 32  medianamnt_loans90    209593 non-null  float64\n",
      " 33  payback30             209593 non-null  float64\n",
      " 34  payback90             209593 non-null  float64\n",
      " 35  pcircle               209593 non-null  object \n",
      " 36  pdate                 209593 non-null  object \n",
      "dtypes: float64(21), int64(13), object(3)\n",
      "memory usage: 59.2+ MB\n"
     ]
    }
   ],
   "source": [
    "#Basic info of the dataset\n",
    "df.info()"
   ]
  },
  {
   "cell_type": "markdown",
   "id": "1eab7fb4",
   "metadata": {},
   "source": [
    "Here we note that, there are no null values present in the data set."
   ]
  },
  {
   "cell_type": "code",
   "execution_count": 5,
   "id": "cfb9aa3b",
   "metadata": {},
   "outputs": [
    {
     "data": {
      "text/plain": [
       "Unnamed: 0              0\n",
       "label                   0\n",
       "msisdn                  0\n",
       "aon                     0\n",
       "daily_decr30            0\n",
       "daily_decr90            0\n",
       "rental30                0\n",
       "rental90                0\n",
       "last_rech_date_ma       0\n",
       "last_rech_date_da       0\n",
       "last_rech_amt_ma        0\n",
       "cnt_ma_rech30           0\n",
       "fr_ma_rech30            0\n",
       "sumamnt_ma_rech30       0\n",
       "medianamnt_ma_rech30    0\n",
       "medianmarechprebal30    0\n",
       "cnt_ma_rech90           0\n",
       "fr_ma_rech90            0\n",
       "sumamnt_ma_rech90       0\n",
       "medianamnt_ma_rech90    0\n",
       "medianmarechprebal90    0\n",
       "cnt_da_rech30           0\n",
       "fr_da_rech30            0\n",
       "cnt_da_rech90           0\n",
       "fr_da_rech90            0\n",
       "cnt_loans30             0\n",
       "amnt_loans30            0\n",
       "maxamnt_loans30         0\n",
       "medianamnt_loans30      0\n",
       "cnt_loans90             0\n",
       "amnt_loans90            0\n",
       "maxamnt_loans90         0\n",
       "medianamnt_loans90      0\n",
       "payback30               0\n",
       "payback90               0\n",
       "pcircle                 0\n",
       "pdate                   0\n",
       "dtype: int64"
      ]
     },
     "execution_count": 5,
     "metadata": {},
     "output_type": "execute_result"
    }
   ],
   "source": [
    "df.isnull().sum()"
   ]
  },
  {
   "cell_type": "code",
   "execution_count": 6,
   "id": "b8656897",
   "metadata": {},
   "outputs": [
    {
     "data": {
      "text/plain": [
       "Index(['Unnamed: 0', 'label', 'msisdn', 'aon', 'daily_decr30', 'daily_decr90',\n",
       "       'rental30', 'rental90', 'last_rech_date_ma', 'last_rech_date_da',\n",
       "       'last_rech_amt_ma', 'cnt_ma_rech30', 'fr_ma_rech30',\n",
       "       'sumamnt_ma_rech30', 'medianamnt_ma_rech30', 'medianmarechprebal30',\n",
       "       'cnt_ma_rech90', 'fr_ma_rech90', 'sumamnt_ma_rech90',\n",
       "       'medianamnt_ma_rech90', 'medianmarechprebal90', 'cnt_da_rech30',\n",
       "       'fr_da_rech30', 'cnt_da_rech90', 'fr_da_rech90', 'cnt_loans30',\n",
       "       'amnt_loans30', 'maxamnt_loans30', 'medianamnt_loans30', 'cnt_loans90',\n",
       "       'amnt_loans90', 'maxamnt_loans90', 'medianamnt_loans90', 'payback30',\n",
       "       'payback90', 'pcircle', 'pdate'],\n",
       "      dtype='object')"
      ]
     },
     "execution_count": 6,
     "metadata": {},
     "output_type": "execute_result"
    }
   ],
   "source": [
    "df.columns #Calling all the column names of the dataset"
   ]
  },
  {
   "cell_type": "markdown",
   "id": "55b7e626",
   "metadata": {},
   "source": [
    "- label\t: Flag indicating whether the user paid back the credit amount within 5 days of issuing the loan{1:success, 0:failure}\n",
    "- msisdn\t: mobile number of user\n",
    "- aon\t: age on cellular network in days\n",
    "- daily_decr30\t: Daily amount spent from main account, averaged over last 30 days (in Indonesian Rupiah)\n",
    "- daily_decr90\t: Daily amount spent from main account, averaged over last 90 days (in Indonesian Rupiah)\n",
    "- rental30\t: Average main account balance over last 30 days\n",
    "- rental90\t: Average main account balance over last 90 days\n",
    "- last_rech_date_ma\t: Number of days till last recharge of main account\n",
    "- last_rech_date_da\t: Number of days till last recharge of data account\n",
    "- last_rech_amt_ma\t: Amount of last recharge of main account (in Indonesian Rupiah)\n",
    "- cnt_ma_rech30\t: Number of times main account got recharged in last 30 days\n",
    "- fr_ma_rech30\t: Frequency of main account recharged in last 30 days\n",
    "- sumamnt_ma_rech30\t: Total amount of recharge in main account over last 30 days (in Indonesian Rupiah)\n",
    "- medianamnt_ma_rech30\t: Median of amount of recharges done in main account over last 30 days at user level (in Indonesian Rupiah)\n",
    "- medianmarechprebal30\t: Median of main account balance just before recharge in last 30 days at user level (in Indonesian Rupiah)\n",
    "- cnt_ma_rech90\t: Number of times main account got recharged in last 90 days\n",
    "- fr_ma_rech90\t: Frequency of main account recharged in last 90 days\n",
    "- sumamnt_ma_rech90\t: Total amount of recharge in main account over last 90 days (in Indonasian Rupiah)\n",
    "- medianamnt_ma_rech90\t: Median of amount of recharges done in main account over last 90 days at user level (in Indonasian Rupiah)\n",
    "- medianmarechprebal90\t: Median of main account balance just before recharge in last 90 days at user level (in Indonasian Rupiah)\n",
    "- cnt_da_rech30\t: Number of times data account got recharged in last 30 days\n",
    "- fr_da_rech30\t: Frequency of data account recharged in last 30 days\n",
    "- cnt_da_rech90\t: Number of times data account got recharged in last 90 days\n",
    "- fr_da_rech90\t: Frequency of data account recharged in last 90 days\n",
    "- cnt_loans30\t: Number of loans taken by user in last 30 days\n",
    "- amnt_loans30\t: Total amount of loans taken by user in last 30 days\n",
    "- maxamnt_loans30\t: maximum amount of loan taken by the user in last 30 days\n",
    "- medianamnt_loans30\t: Median of amounts of loan taken by the user in last 30 days\n",
    "- cnt_loans90\t: Number of loans taken by user in last 90 days\n",
    "- amnt_loans90\t: Total amount of loans taken by user in last 90 days\n",
    "- maxamnt_loans90\t: maximum amount of loan taken by the user in last 90 days\n",
    "- medianamnt_loans90\t: Median of amounts of loan taken by the user in last 90 days\n",
    "- payback30\t: Average payback time in days over last 30 days\n",
    "- payback90\t: Average payback time in days over last 90 days\n",
    "- pcircle\t: telecom circle\n",
    "- pdate\t: date"
   ]
  },
  {
   "cell_type": "code",
   "execution_count": 7,
   "id": "83fd65a8",
   "metadata": {},
   "outputs": [
    {
     "data": {
      "text/plain": [
       "(209593, 37)"
      ]
     },
     "execution_count": 7,
     "metadata": {},
     "output_type": "execute_result"
    }
   ],
   "source": [
    "df.shape #Looking into the shape of the dataset"
   ]
  },
  {
   "cell_type": "code",
   "execution_count": 8,
   "id": "5ad891e5",
   "metadata": {},
   "outputs": [
    {
     "data": {
      "text/plain": [
       "<AxesSubplot:>"
      ]
     },
     "execution_count": 8,
     "metadata": {},
     "output_type": "execute_result"
    },
    {
     "data": {
      "image/png": "[encoded data removed]",
      "text/plain": [
       "<Figure size 432x288 with 2 Axes>"
      ]
     },
     "metadata": {
      "needs_background": "light"
     },
     "output_type": "display_data"
    }
   ],
   "source": [
    "sns.heatmap(df.isnull(), annot=False) #Visualization of null values"
   ]
  },
  {
   "cell_type": "markdown",
   "id": "d2d86249",
   "metadata": {},
   "source": [
    "# Exploratory Data Analysis"
   ]
  },
  {
   "cell_type": "markdown",
   "id": "1e518a24",
   "metadata": {},
   "source": [
    "We drop the unnamed column as it is just present as an index"
   ]
  },
  {
   "cell_type": "code",
   "execution_count": 9,
   "id": "393ea691",
   "metadata": {},
   "outputs": [],
   "source": [
    "df.drop(columns='Unnamed: 0',inplace=True)"
   ]
  },
  {
   "cell_type": "markdown",
   "id": "41ec6a1f",
   "metadata": {},
   "source": [
    "We know that there are no null values present in the dataset. Let us treat the data for object type columns which are 'pcircle' ,'pdate' and 'msisdn'."
   ]
  },
  {
   "cell_type": "code",
   "execution_count": 10,
   "id": "03552c88",
   "metadata": {},
   "outputs": [
    {
     "data": {
      "text/plain": [
       "UPW    209593\n",
       "Name: pcircle, dtype: int64"
      ]
     },
     "execution_count": 10,
     "metadata": {},
     "output_type": "execute_result"
    }
   ],
   "source": [
    "df['pcircle'].value_counts()"
   ]
  },
  {
   "cell_type": "markdown",
   "id": "a6851d38",
   "metadata": {},
   "source": [
    "We see that there is only one unique value for the column and hence does not provide much value to the machine learning. We shall drop the column.  "
   ]
  },
  {
   "cell_type": "code",
   "execution_count": 11,
   "id": "f2a21010",
   "metadata": {},
   "outputs": [],
   "source": [
    "df.drop(columns='pcircle',inplace=True)"
   ]
  },
  {
   "cell_type": "markdown",
   "id": "985a85fa",
   "metadata": {},
   "source": [
    "We know that the data is collected from the year 2006, also the date feature does not seem important for the prediction model of micro credit and hence we shall drop this column too. "
   ]
  },
  {
   "cell_type": "code",
   "execution_count": 12,
   "id": "2d0a94f7",
   "metadata": {},
   "outputs": [],
   "source": [
    "df.drop(columns='pdate',inplace=True)"
   ]
  },
  {
   "cell_type": "markdown",
   "id": "716add0a",
   "metadata": {},
   "source": [
    "Next column we look into is the 'msisdn' column, which is simply the mobile number of the client supporting the data. We also find that there are more than 1 row of data for the same contact number. Also this contact information provides us with value for the model, we treat it for compatibility before moving forward with the model."
   ]
  },
  {
   "cell_type": "code",
   "execution_count": 13,
   "id": "d815a131",
   "metadata": {},
   "outputs": [],
   "source": [
    "le = LabelEncoder()\n",
    "df['msisdn'] = le.fit_transform(df['msisdn'])"
   ]
  },
  {
   "cell_type": "markdown",
   "id": "001f2ac9",
   "metadata": {},
   "source": [
    "Now that the all object type columns present in the dataset has been treated, we can for a statistic view of the dataset"
   ]
  },
  {
   "cell_type": "code",
   "execution_count": 14,
   "id": "de006612",
   "metadata": {},
   "outputs": [
    {
     "data": {
      "text/html": [
       "<div>\n",
       "<style scoped>\n",
       "    .dataframe tbody tr th:only-of-type {\n",
       "        vertical-align: middle;\n",
       "    }\n",
       "\n",
       "    .dataframe tbody tr th {\n",
       "        vertical-align: top;\n",
       "    }\n",
       "\n",
       "    .dataframe thead th {\n",
       "        text-align: right;\n",
       "    }\n",
       "</style>\n",
       "<table border=\"1\" class=\"dataframe\">\n",
       "  <thead>\n",
       "    <tr style=\"text-align: right;\">\n",
       "      <th></th>\n",
       "      <th>label</th>\n",
       "      <th>msisdn</th>\n",
       "      <th>aon</th>\n",
       "      <th>daily_decr30</th>\n",
       "      <th>daily_decr90</th>\n",
       "      <th>rental30</th>\n",
       "      <th>rental90</th>\n",
       "      <th>last_rech_date_ma</th>\n",
       "      <th>last_rech_date_da</th>\n",
       "      <th>last_rech_amt_ma</th>\n",
       "      <th>cnt_ma_rech30</th>\n",
       "      <th>fr_ma_rech30</th>\n",
       "      <th>sumamnt_ma_rech30</th>\n",
       "      <th>medianamnt_ma_rech30</th>\n",
       "      <th>medianmarechprebal30</th>\n",
       "      <th>cnt_ma_rech90</th>\n",
       "      <th>fr_ma_rech90</th>\n",
       "      <th>sumamnt_ma_rech90</th>\n",
       "      <th>medianamnt_ma_rech90</th>\n",
       "      <th>medianmarechprebal90</th>\n",
       "      <th>cnt_da_rech30</th>\n",
       "      <th>fr_da_rech30</th>\n",
       "      <th>cnt_da_rech90</th>\n",
       "      <th>fr_da_rech90</th>\n",
       "      <th>cnt_loans30</th>\n",
       "      <th>amnt_loans30</th>\n",
       "      <th>maxamnt_loans30</th>\n",
       "      <th>medianamnt_loans30</th>\n",
       "      <th>cnt_loans90</th>\n",
       "      <th>amnt_loans90</th>\n",
       "      <th>maxamnt_loans90</th>\n",
       "      <th>medianamnt_loans90</th>\n",
       "      <th>payback30</th>\n",
       "      <th>payback90</th>\n",
       "    </tr>\n",
       "  </thead>\n",
       "  <tbody>\n",
       "    <tr>\n",
       "      <th>count</th>\n",
       "      <td>209593.000000</td>\n",
       "      <td>209593.000000</td>\n",
       "      <td>209593.000000</td>\n",
       "      <td>209593.000000</td>\n",
       "      <td>209593.000000</td>\n",
       "      <td>209593.000000</td>\n",
       "      <td>209593.000000</td>\n",
       "      <td>209593.000000</td>\n",
       "      <td>209593.000000</td>\n",
       "      <td>209593.000000</td>\n",
       "      <td>209593.000000</td>\n",
       "      <td>209593.000000</td>\n",
       "      <td>209593.000000</td>\n",
       "      <td>209593.000000</td>\n",
       "      <td>209593.000000</td>\n",
       "      <td>209593.00000</td>\n",
       "      <td>209593.000000</td>\n",
       "      <td>209593.000000</td>\n",
       "      <td>209593.000000</td>\n",
       "      <td>209593.000000</td>\n",
       "      <td>209593.000000</td>\n",
       "      <td>209593.000000</td>\n",
       "      <td>209593.000000</td>\n",
       "      <td>209593.000000</td>\n",
       "      <td>209593.000000</td>\n",
       "      <td>209593.000000</td>\n",
       "      <td>209593.000000</td>\n",
       "      <td>209593.000000</td>\n",
       "      <td>209593.000000</td>\n",
       "      <td>209593.000000</td>\n",
       "      <td>209593.000000</td>\n",
       "      <td>209593.000000</td>\n",
       "      <td>209593.000000</td>\n",
       "      <td>209593.000000</td>\n",
       "    </tr>\n",
       "    <tr>\n",
       "      <th>mean</th>\n",
       "      <td>0.875177</td>\n",
       "      <td>93100.650179</td>\n",
       "      <td>8112.343445</td>\n",
       "      <td>5381.402289</td>\n",
       "      <td>6082.515068</td>\n",
       "      <td>2692.581910</td>\n",
       "      <td>3483.406534</td>\n",
       "      <td>3755.847800</td>\n",
       "      <td>3712.202921</td>\n",
       "      <td>2064.452797</td>\n",
       "      <td>3.978057</td>\n",
       "      <td>3737.355121</td>\n",
       "      <td>7704.501157</td>\n",
       "      <td>1812.817952</td>\n",
       "      <td>3851.927942</td>\n",
       "      <td>6.31543</td>\n",
       "      <td>7.716780</td>\n",
       "      <td>12396.218352</td>\n",
       "      <td>1864.595821</td>\n",
       "      <td>92.025541</td>\n",
       "      <td>262.578110</td>\n",
       "      <td>3749.494447</td>\n",
       "      <td>0.041495</td>\n",
       "      <td>0.045712</td>\n",
       "      <td>2.758981</td>\n",
       "      <td>17.952021</td>\n",
       "      <td>274.658747</td>\n",
       "      <td>0.054029</td>\n",
       "      <td>18.520919</td>\n",
       "      <td>23.645398</td>\n",
       "      <td>6.703134</td>\n",
       "      <td>0.046077</td>\n",
       "      <td>3.398826</td>\n",
       "      <td>4.321485</td>\n",
       "    </tr>\n",
       "    <tr>\n",
       "      <th>std</th>\n",
       "      <td>0.330519</td>\n",
       "      <td>53758.461427</td>\n",
       "      <td>75696.082531</td>\n",
       "      <td>9220.623400</td>\n",
       "      <td>10918.812767</td>\n",
       "      <td>4308.586781</td>\n",
       "      <td>5770.461279</td>\n",
       "      <td>53905.892230</td>\n",
       "      <td>53374.833430</td>\n",
       "      <td>2370.786034</td>\n",
       "      <td>4.256090</td>\n",
       "      <td>53643.625172</td>\n",
       "      <td>10139.621714</td>\n",
       "      <td>2070.864620</td>\n",
       "      <td>54006.374433</td>\n",
       "      <td>7.19347</td>\n",
       "      <td>12.590251</td>\n",
       "      <td>16857.793882</td>\n",
       "      <td>2081.680664</td>\n",
       "      <td>369.215658</td>\n",
       "      <td>4183.897978</td>\n",
       "      <td>53885.414979</td>\n",
       "      <td>0.397556</td>\n",
       "      <td>0.951386</td>\n",
       "      <td>2.554502</td>\n",
       "      <td>17.379741</td>\n",
       "      <td>4245.264648</td>\n",
       "      <td>0.218039</td>\n",
       "      <td>224.797423</td>\n",
       "      <td>26.469861</td>\n",
       "      <td>2.103864</td>\n",
       "      <td>0.200692</td>\n",
       "      <td>8.813729</td>\n",
       "      <td>10.308108</td>\n",
       "    </tr>\n",
       "    <tr>\n",
       "      <th>min</th>\n",
       "      <td>0.000000</td>\n",
       "      <td>0.000000</td>\n",
       "      <td>-48.000000</td>\n",
       "      <td>-93.012667</td>\n",
       "      <td>-93.012667</td>\n",
       "      <td>-23737.140000</td>\n",
       "      <td>-24720.580000</td>\n",
       "      <td>-29.000000</td>\n",
       "      <td>-29.000000</td>\n",
       "      <td>0.000000</td>\n",
       "      <td>0.000000</td>\n",
       "      <td>0.000000</td>\n",
       "      <td>0.000000</td>\n",
       "      <td>0.000000</td>\n",
       "      <td>-200.000000</td>\n",
       "      <td>0.00000</td>\n",
       "      <td>0.000000</td>\n",
       "      <td>0.000000</td>\n",
       "      <td>0.000000</td>\n",
       "      <td>-200.000000</td>\n",
       "      <td>0.000000</td>\n",
       "      <td>0.000000</td>\n",
       "      <td>0.000000</td>\n",
       "      <td>0.000000</td>\n",
       "      <td>0.000000</td>\n",
       "      <td>0.000000</td>\n",
       "      <td>0.000000</td>\n",
       "      <td>0.000000</td>\n",
       "      <td>0.000000</td>\n",
       "      <td>0.000000</td>\n",
       "      <td>0.000000</td>\n",
       "      <td>0.000000</td>\n",
       "      <td>0.000000</td>\n",
       "      <td>0.000000</td>\n",
       "    </tr>\n",
       "    <tr>\n",
       "      <th>25%</th>\n",
       "      <td>1.000000</td>\n",
       "      <td>46506.000000</td>\n",
       "      <td>246.000000</td>\n",
       "      <td>42.440000</td>\n",
       "      <td>42.692000</td>\n",
       "      <td>280.420000</td>\n",
       "      <td>300.260000</td>\n",
       "      <td>1.000000</td>\n",
       "      <td>0.000000</td>\n",
       "      <td>770.000000</td>\n",
       "      <td>1.000000</td>\n",
       "      <td>0.000000</td>\n",
       "      <td>1540.000000</td>\n",
       "      <td>770.000000</td>\n",
       "      <td>11.000000</td>\n",
       "      <td>2.00000</td>\n",
       "      <td>0.000000</td>\n",
       "      <td>2317.000000</td>\n",
       "      <td>773.000000</td>\n",
       "      <td>14.600000</td>\n",
       "      <td>0.000000</td>\n",
       "      <td>0.000000</td>\n",
       "      <td>0.000000</td>\n",
       "      <td>0.000000</td>\n",
       "      <td>1.000000</td>\n",
       "      <td>6.000000</td>\n",
       "      <td>6.000000</td>\n",
       "      <td>0.000000</td>\n",
       "      <td>1.000000</td>\n",
       "      <td>6.000000</td>\n",
       "      <td>6.000000</td>\n",
       "      <td>0.000000</td>\n",
       "      <td>0.000000</td>\n",
       "      <td>0.000000</td>\n",
       "    </tr>\n",
       "    <tr>\n",
       "      <th>50%</th>\n",
       "      <td>1.000000</td>\n",
       "      <td>93073.000000</td>\n",
       "      <td>527.000000</td>\n",
       "      <td>1469.175667</td>\n",
       "      <td>1500.000000</td>\n",
       "      <td>1083.570000</td>\n",
       "      <td>1334.000000</td>\n",
       "      <td>3.000000</td>\n",
       "      <td>0.000000</td>\n",
       "      <td>1539.000000</td>\n",
       "      <td>3.000000</td>\n",
       "      <td>2.000000</td>\n",
       "      <td>4628.000000</td>\n",
       "      <td>1539.000000</td>\n",
       "      <td>33.900000</td>\n",
       "      <td>4.00000</td>\n",
       "      <td>2.000000</td>\n",
       "      <td>7226.000000</td>\n",
       "      <td>1539.000000</td>\n",
       "      <td>36.000000</td>\n",
       "      <td>0.000000</td>\n",
       "      <td>0.000000</td>\n",
       "      <td>0.000000</td>\n",
       "      <td>0.000000</td>\n",
       "      <td>2.000000</td>\n",
       "      <td>12.000000</td>\n",
       "      <td>6.000000</td>\n",
       "      <td>0.000000</td>\n",
       "      <td>2.000000</td>\n",
       "      <td>12.000000</td>\n",
       "      <td>6.000000</td>\n",
       "      <td>0.000000</td>\n",
       "      <td>0.000000</td>\n",
       "      <td>1.666667</td>\n",
       "    </tr>\n",
       "    <tr>\n",
       "      <th>75%</th>\n",
       "      <td>1.000000</td>\n",
       "      <td>139626.000000</td>\n",
       "      <td>982.000000</td>\n",
       "      <td>7244.000000</td>\n",
       "      <td>7802.790000</td>\n",
       "      <td>3356.940000</td>\n",
       "      <td>4201.790000</td>\n",
       "      <td>7.000000</td>\n",
       "      <td>0.000000</td>\n",
       "      <td>2309.000000</td>\n",
       "      <td>5.000000</td>\n",
       "      <td>6.000000</td>\n",
       "      <td>10010.000000</td>\n",
       "      <td>1924.000000</td>\n",
       "      <td>83.000000</td>\n",
       "      <td>8.00000</td>\n",
       "      <td>8.000000</td>\n",
       "      <td>16000.000000</td>\n",
       "      <td>1924.000000</td>\n",
       "      <td>79.310000</td>\n",
       "      <td>0.000000</td>\n",
       "      <td>0.000000</td>\n",
       "      <td>0.000000</td>\n",
       "      <td>0.000000</td>\n",
       "      <td>4.000000</td>\n",
       "      <td>24.000000</td>\n",
       "      <td>6.000000</td>\n",
       "      <td>0.000000</td>\n",
       "      <td>5.000000</td>\n",
       "      <td>30.000000</td>\n",
       "      <td>6.000000</td>\n",
       "      <td>0.000000</td>\n",
       "      <td>3.750000</td>\n",
       "      <td>4.500000</td>\n",
       "    </tr>\n",
       "    <tr>\n",
       "      <th>max</th>\n",
       "      <td>1.000000</td>\n",
       "      <td>186242.000000</td>\n",
       "      <td>999860.755168</td>\n",
       "      <td>265926.000000</td>\n",
       "      <td>320630.000000</td>\n",
       "      <td>198926.110000</td>\n",
       "      <td>200148.110000</td>\n",
       "      <td>998650.377733</td>\n",
       "      <td>999171.809410</td>\n",
       "      <td>55000.000000</td>\n",
       "      <td>203.000000</td>\n",
       "      <td>999606.368132</td>\n",
       "      <td>810096.000000</td>\n",
       "      <td>55000.000000</td>\n",
       "      <td>999479.419319</td>\n",
       "      <td>336.00000</td>\n",
       "      <td>88.000000</td>\n",
       "      <td>953036.000000</td>\n",
       "      <td>55000.000000</td>\n",
       "      <td>41456.500000</td>\n",
       "      <td>99914.441420</td>\n",
       "      <td>999809.240107</td>\n",
       "      <td>38.000000</td>\n",
       "      <td>64.000000</td>\n",
       "      <td>50.000000</td>\n",
       "      <td>306.000000</td>\n",
       "      <td>99864.560864</td>\n",
       "      <td>3.000000</td>\n",
       "      <td>4997.517944</td>\n",
       "      <td>438.000000</td>\n",
       "      <td>12.000000</td>\n",
       "      <td>3.000000</td>\n",
       "      <td>171.500000</td>\n",
       "      <td>171.500000</td>\n",
       "    </tr>\n",
       "  </tbody>\n",
       "</table>\n",
       "</div>"
      ],
      "text/plain": [
       "               label         msisdn            aon   daily_decr30  \\\n",
       "count  209593.000000  209593.000000  209593.000000  209593.000000   \n",
       "mean        0.875177   93100.650179    8112.343445    5381.402289   \n",
       "std         0.330519   53758.461427   75696.082531    9220.623400   \n",
       "min         0.000000       0.000000     -48.000000     -93.012667   \n",
       "25%         1.000000   46506.000000     246.000000      42.440000   \n",
       "50%         1.000000   93073.000000     527.000000    1469.175667   \n",
       "75%         1.000000  139626.000000     982.000000    7244.000000   \n",
       "max         1.000000  186242.000000  999860.755168  265926.000000   \n",
       "\n",
       "        daily_decr90       rental30       rental90  last_rech_date_ma  \\\n",
       "count  209593.000000  209593.000000  209593.000000      209593.000000   \n",
       "mean     6082.515068    2692.581910    3483.406534        3755.847800   \n",
       "std     10918.812767    4308.586781    5770.461279       53905.892230   \n",
       "min       -93.012667  -23737.140000  -24720.580000         -29.000000   \n",
       "25%        42.692000     280.420000     300.260000           1.000000   \n",
       "50%      1500.000000    1083.570000    1334.000000           3.000000   \n",
       "75%      7802.790000    3356.940000    4201.790000           7.000000   \n",
       "max    320630.000000  198926.110000  200148.110000      998650.377733   \n",
       "\n",
       "       last_rech_date_da  last_rech_amt_ma  cnt_ma_rech30   fr_ma_rech30  \\\n",
       "count      209593.000000     209593.000000  209593.000000  209593.000000   \n",
       "mean         3712.202921       2064.452797       3.978057    3737.355121   \n",
       "std         53374.833430       2370.786034       4.256090   53643.625172   \n",
       "min           -29.000000          0.000000       0.000000       0.000000   \n",
       "25%             0.000000        770.000000       1.000000       0.000000   \n",
       "50%             0.000000       1539.000000       3.000000       2.000000   \n",
       "75%             0.000000       2309.000000       5.000000       6.000000   \n",
       "max        999171.809410      55000.000000     203.000000  999606.368132   \n",
       "\n",
       "       sumamnt_ma_rech30  medianamnt_ma_rech30  medianmarechprebal30  \\\n",
       "count      209593.000000         209593.000000         209593.000000   \n",
       "mean         7704.501157           1812.817952           3851.927942   \n",
       "std         10139.621714           2070.864620          54006.374433   \n",
       "min             0.000000              0.000000           -200.000000   \n",
       "25%          1540.000000            770.000000             11.000000   \n",
       "50%          4628.000000           1539.000000             33.900000   \n",
       "75%         10010.000000           1924.000000             83.000000   \n",
       "max        810096.000000          55000.000000         999479.419319   \n",
       "\n",
       "       cnt_ma_rech90   fr_ma_rech90  sumamnt_ma_rech90  medianamnt_ma_rech90  \\\n",
       "count   209593.00000  209593.000000      209593.000000         209593.000000   \n",
       "mean         6.31543       7.716780       12396.218352           1864.595821   \n",
       "std          7.19347      12.590251       16857.793882           2081.680664   \n",
       "min          0.00000       0.000000           0.000000              0.000000   \n",
       "25%          2.00000       0.000000        2317.000000            773.000000   \n",
       "50%          4.00000       2.000000        7226.000000           1539.000000   \n",
       "75%          8.00000       8.000000       16000.000000           1924.000000   \n",
       "max        336.00000      88.000000      953036.000000          55000.000000   \n",
       "\n",
       "       medianmarechprebal90  cnt_da_rech30   fr_da_rech30  cnt_da_rech90  \\\n",
       "count         209593.000000  209593.000000  209593.000000  209593.000000   \n",
       "mean              92.025541     262.578110    3749.494447       0.041495   \n",
       "std              369.215658    4183.897978   53885.414979       0.397556   \n",
       "min             -200.000000       0.000000       0.000000       0.000000   \n",
       "25%               14.600000       0.000000       0.000000       0.000000   \n",
       "50%               36.000000       0.000000       0.000000       0.000000   \n",
       "75%               79.310000       0.000000       0.000000       0.000000   \n",
       "max            41456.500000   99914.441420  999809.240107      38.000000   \n",
       "\n",
       "        fr_da_rech90    cnt_loans30   amnt_loans30  maxamnt_loans30  \\\n",
       "count  209593.000000  209593.000000  209593.000000    209593.000000   \n",
       "mean        0.045712       2.758981      17.952021       274.658747   \n",
       "std         0.951386       2.554502      17.379741      4245.264648   \n",
       "min         0.000000       0.000000       0.000000         0.000000   \n",
       "25%         0.000000       1.000000       6.000000         6.000000   \n",
       "50%         0.000000       2.000000      12.000000         6.000000   \n",
       "75%         0.000000       4.000000      24.000000         6.000000   \n",
       "max        64.000000      50.000000     306.000000     99864.560864   \n",
       "\n",
       "       medianamnt_loans30    cnt_loans90   amnt_loans90  maxamnt_loans90  \\\n",
       "count       209593.000000  209593.000000  209593.000000    209593.000000   \n",
       "mean             0.054029      18.520919      23.645398         6.703134   \n",
       "std              0.218039     224.797423      26.469861         2.103864   \n",
       "min              0.000000       0.000000       0.000000         0.000000   \n",
       "25%              0.000000       1.000000       6.000000         6.000000   \n",
       "50%              0.000000       2.000000      12.000000         6.000000   \n",
       "75%              0.000000       5.000000      30.000000         6.000000   \n",
       "max              3.000000    4997.517944     438.000000        12.000000   \n",
       "\n",
       "       medianamnt_loans90      payback30      payback90  \n",
       "count       209593.000000  209593.000000  209593.000000  \n",
       "mean             0.046077       3.398826       4.321485  \n",
       "std              0.200692       8.813729      10.308108  \n",
       "min              0.000000       0.000000       0.000000  \n",
       "25%              0.000000       0.000000       0.000000  \n",
       "50%              0.000000       0.000000       1.666667  \n",
       "75%              0.000000       3.750000       4.500000  \n",
       "max              3.000000     171.500000     171.500000  "
      ]
     },
     "execution_count": 14,
     "metadata": {},
     "output_type": "execute_result"
    }
   ],
   "source": [
    "pd.set_option(\"display.max_columns\",None)\n",
    "df.describe()"
   ]
  },
  {
   "cell_type": "markdown",
   "id": "879a8173",
   "metadata": {},
   "source": [
    "We see that there are a lot of outliers in the dataset, let us treat for them using zscore method."
   ]
  },
  {
   "cell_type": "code",
   "execution_count": 15,
   "id": "10773824",
   "metadata": {},
   "outputs": [],
   "source": [
    "z = np.abs(zscore(df))"
   ]
  },
  {
   "cell_type": "markdown",
   "id": "655cbc3b",
   "metadata": {},
   "source": [
    "We take a zscore threshold of range(-6,6)"
   ]
  },
  {
   "cell_type": "code",
   "execution_count": 16,
   "id": "5dc1c659",
   "metadata": {},
   "outputs": [],
   "source": [
    "df2 = df[(z<6).all(axis=1)]"
   ]
  },
  {
   "cell_type": "code",
   "execution_count": 17,
   "id": "925f0763",
   "metadata": {},
   "outputs": [
    {
     "name": "stdout",
     "output_type": "stream",
     "text": [
      "Percentage loss of data:\t 7.48450568482726 %\n"
     ]
    }
   ],
   "source": [
    "print(\"Percentage loss of data:\\t\", ((df.shape[0]-df2.shape[0])*100)/df.shape[0], \"%\")"
   ]
  },
  {
   "cell_type": "markdown",
   "id": "c63e4aa9",
   "metadata": {},
   "source": [
    "Now that the outliers are dealt with, we do feature selection using filter method. Hence, we start with correlation matrix of the dataset"
   ]
  },
  {
   "cell_type": "code",
   "execution_count": 36,
   "id": "5fd8f1a7",
   "metadata": {},
   "outputs": [
    {
     "data": {
      "text/plain": [
       "<AxesSubplot:>"
      ]
     },
     "execution_count": 36,
     "metadata": {},
     "output_type": "execute_result"
    },
    {
     "data": {
      "image/png": "[encoded data removed]",
      "text/plain": [
       "<Figure size 432x288 with 2 Axes>"
      ]
     },
     "metadata": {
      "needs_background": "light"
     },
     "output_type": "display_data"
    }
   ],
   "source": [
    "sns.heatmap(df2.corr(), annot=True) #Correlation matrix"
   ]
  },
  {
   "cell_type": "code",
   "execution_count": 19,
   "id": "5dcc8bbc",
   "metadata": {},
   "outputs": [
    {
     "data": {
      "text/plain": [
       "last_rech_date_ma      -0.094410\n",
       "maxamnt_loans30        -0.000610\n",
       "fr_da_rech90            0.000414\n",
       "fr_da_rech30            0.000552\n",
       "msisdn                  0.001355\n",
       "cnt_da_rech30           0.002688\n",
       "cnt_da_rech90           0.023704\n",
       "last_rech_date_da       0.026469\n",
       "medianamnt_loans90      0.032321\n",
       "cnt_loans90             0.032412\n",
       "medianamnt_loans30      0.041273\n",
       "rental30                0.061570\n",
       "rental90                0.080478\n",
       "maxamnt_loans90         0.081262\n",
       "aon                     0.081729\n",
       "fr_ma_rech90            0.088360\n",
       "payback90               0.089661\n",
       "payback30               0.091757\n",
       "medianmarechprebal30    0.098729\n",
       "medianmarechprebal90    0.100233\n",
       "medianamnt_ma_rech90    0.133294\n",
       "last_rech_amt_ma        0.143221\n",
       "fr_ma_rech30            0.147609\n",
       "medianamnt_ma_rech30    0.152548\n",
       "daily_decr90            0.181288\n",
       "daily_decr30            0.182122\n",
       "cnt_loans30             0.206074\n",
       "amnt_loans30            0.209998\n",
       "amnt_loans90            0.212642\n",
       "sumamnt_ma_rech30       0.235307\n",
       "sumamnt_ma_rech90       0.236439\n",
       "cnt_ma_rech30           0.255135\n",
       "cnt_ma_rech90           0.255809\n",
       "label                   1.000000\n",
       "Name: label, dtype: float64"
      ]
     },
     "execution_count": 19,
     "metadata": {},
     "output_type": "execute_result"
    }
   ],
   "source": [
    "df2.corr()['label'].sort_values() #Correlation matrix wrt to target variable"
   ]
  },
  {
   "cell_type": "markdown",
   "id": "83099f82",
   "metadata": {},
   "source": [
    "We see that there are few columns that produce a very small correlation to the target variable, while some produce inverse correlation. However, we will use all the features present in the dataset. "
   ]
  },
  {
   "cell_type": "markdown",
   "id": "6e9ecf90",
   "metadata": {},
   "source": [
    "Before we move forward, let us first split the dataset into target and feature variables"
   ]
  },
  {
   "cell_type": "code",
   "execution_count": 20,
   "id": "2fe58a00",
   "metadata": {},
   "outputs": [],
   "source": [
    "x = df2.drop(columns='label')\n",
    "y = df2['label']"
   ]
  },
  {
   "cell_type": "markdown",
   "id": "44461427",
   "metadata": {},
   "source": [
    "Now the next step is to check for skewness in the feature variables"
   ]
  },
  {
   "cell_type": "code",
   "execution_count": 21,
   "id": "8f5f47b1",
   "metadata": {},
   "outputs": [],
   "source": [
    "#Treating for skewness using sqrt method\n",
    "for i in x.columns:\n",
    "    x[i] = np.sqrt(x[i])"
   ]
  },
  {
   "cell_type": "markdown",
   "id": "94a6cb0a",
   "metadata": {},
   "source": [
    "The next step is the scaling of data making it fit for modelling"
   ]
  },
  {
   "cell_type": "code",
   "execution_count": 22,
   "id": "85559c64",
   "metadata": {},
   "outputs": [],
   "source": [
    "sc = StandardScaler()\n",
    "x = sc.fit_transform(x)"
   ]
  },
  {
   "cell_type": "markdown",
   "id": "11bf3ad5",
   "metadata": {},
   "source": [
    "# Best Random State"
   ]
  },
  {
   "cell_type": "code",
   "execution_count": 23,
   "id": "af92ce74",
   "metadata": {},
   "outputs": [
    {
     "name": "stdout",
     "output_type": "stream",
     "text": [
      "Max accuracy: \t 0.8767211593007065\n",
      "Random State: \t 61\n"
     ]
    }
   ],
   "source": [
    "maxRS = 0\n",
    "maxAcc = 0\n",
    "for i in range(0,100):\n",
    "    x_train, x_test, y_train, y_test = train_test_split(x, y, stratify=y, test_size=0.20, random_state=i)\n",
    "    lr = LogisticRegression()\n",
    "    lr.fit(x_train,y_train)\n",
    "    pred = lr.predict(x_test)\n",
    "    acc = accuracy_score(y_test, pred)\n",
    "    if acc>maxAcc:\n",
    "        maxAcc = acc\n",
    "        maxRS = i\n",
    "print(\"Max accuracy: \\t\", maxAcc)\n",
    "print(\"Random State: \\t\", maxRS)"
   ]
  },
  {
   "cell_type": "markdown",
   "id": "a536962f",
   "metadata": {},
   "source": [
    "Now since we got the best random state for data modelling, we create the test train models"
   ]
  },
  {
   "cell_type": "code",
   "execution_count": 24,
   "id": "e7ce7806",
   "metadata": {},
   "outputs": [],
   "source": [
    "x_train, x_test, y_train, y_test = train_test_split(x, y, stratify=y, test_size=0.20, random_state=maxRS)"
   ]
  },
  {
   "cell_type": "markdown",
   "id": "490da97f",
   "metadata": {},
   "source": [
    "# Model Predictions"
   ]
  },
  {
   "cell_type": "markdown",
   "id": "c8e0c463",
   "metadata": {},
   "source": [
    "Logistic Regression"
   ]
  },
  {
   "cell_type": "code",
   "execution_count": 25,
   "id": "27099269",
   "metadata": {},
   "outputs": [
    {
     "name": "stdout",
     "output_type": "stream",
     "text": [
      "Accuracy: \t 87.67211593007065\n",
      "[[  329  4554]\n",
      " [  227 33672]]\n",
      "              precision    recall  f1-score   support\n",
      "\n",
      "           0       0.59      0.07      0.12      4883\n",
      "           1       0.88      0.99      0.93     33899\n",
      "\n",
      "    accuracy                           0.88     38782\n",
      "   macro avg       0.74      0.53      0.53     38782\n",
      "weighted avg       0.84      0.88      0.83     38782\n",
      "\n"
     ]
    }
   ],
   "source": [
    "lr = LogisticRegression()\n",
    "lr.fit(x_train,y_train)\n",
    "pred = lr.predict(x_test)\n",
    "print(\"Accuracy: \\t\", accuracy_score(y_test,pred)*100)\n",
    "print(confusion_matrix(y_test,pred))\n",
    "print(classification_report(y_test,pred))"
   ]
  },
  {
   "cell_type": "markdown",
   "id": "58368673",
   "metadata": {},
   "source": [
    "K-Nearest Neighbors"
   ]
  },
  {
   "cell_type": "code",
   "execution_count": 26,
   "id": "7cecdb8b",
   "metadata": {},
   "outputs": [
    {
     "name": "stdout",
     "output_type": "stream",
     "text": [
      "Accuracy: \t 87.00428033623847\n",
      "[[ 1548  3335]\n",
      " [ 1705 32194]]\n",
      "              precision    recall  f1-score   support\n",
      "\n",
      "           0       0.48      0.32      0.38      4883\n",
      "           1       0.91      0.95      0.93     33899\n",
      "\n",
      "    accuracy                           0.87     38782\n",
      "   macro avg       0.69      0.63      0.65     38782\n",
      "weighted avg       0.85      0.87      0.86     38782\n",
      "\n"
     ]
    }
   ],
   "source": [
    "knn = KNeighborsClassifier()\n",
    "knn.fit(x_train, y_train)\n",
    "pred = knn.predict(x_test)\n",
    "print(\"Accuracy: \\t\", accuracy_score(y_test,pred)*100)\n",
    "print(confusion_matrix(y_test,pred))\n",
    "print(classification_report(y_test,pred))"
   ]
  },
  {
   "cell_type": "markdown",
   "id": "e2f5cdf0",
   "metadata": {},
   "source": [
    "Decision Tree Classifier"
   ]
  },
  {
   "cell_type": "code",
   "execution_count": 27,
   "id": "6b544c31",
   "metadata": {},
   "outputs": [
    {
     "name": "stdout",
     "output_type": "stream",
     "text": [
      "Accuracy: \t 86.21525449951008\n",
      "[[ 2396  2487]\n",
      " [ 2859 31040]]\n",
      "              precision    recall  f1-score   support\n",
      "\n",
      "           0       0.46      0.49      0.47      4883\n",
      "           1       0.93      0.92      0.92     33899\n",
      "\n",
      "    accuracy                           0.86     38782\n",
      "   macro avg       0.69      0.70      0.70     38782\n",
      "weighted avg       0.87      0.86      0.86     38782\n",
      "\n"
     ]
    }
   ],
   "source": [
    "dt = DecisionTreeClassifier()\n",
    "dt.fit(x_train,y_train)\n",
    "pred = dt.predict(x_test)\n",
    "print(\"Accuracy: \\t\", accuracy_score(y_test,pred)*100)\n",
    "print(confusion_matrix(y_test,pred))\n",
    "print(classification_report(y_test,pred))"
   ]
  },
  {
   "cell_type": "markdown",
   "id": "5fecb3eb",
   "metadata": {},
   "source": [
    "Random Forest Classifier"
   ]
  },
  {
   "cell_type": "code",
   "execution_count": 28,
   "id": "3020e996",
   "metadata": {},
   "outputs": [
    {
     "name": "stdout",
     "output_type": "stream",
     "text": [
      "Accuracy: \t 91.25367438502397\n",
      "[[ 2157  2726]\n",
      " [  666 33233]]\n",
      "              precision    recall  f1-score   support\n",
      "\n",
      "           0       0.76      0.44      0.56      4883\n",
      "           1       0.92      0.98      0.95     33899\n",
      "\n",
      "    accuracy                           0.91     38782\n",
      "   macro avg       0.84      0.71      0.76     38782\n",
      "weighted avg       0.90      0.91      0.90     38782\n",
      "\n"
     ]
    }
   ],
   "source": [
    "rf = RandomForestClassifier()\n",
    "rf.fit(x_train,y_train)\n",
    "pred = rf.predict(x_test)\n",
    "print(\"Accuracy: \\t\", accuracy_score(y_test,pred)*100)\n",
    "print(confusion_matrix(y_test,pred))\n",
    "print(classification_report(y_test,pred))"
   ]
  },
  {
   "cell_type": "markdown",
   "id": "883fa9d1",
   "metadata": {},
   "source": [
    "XGBoost Classifier"
   ]
  },
  {
   "cell_type": "code",
   "execution_count": 30,
   "id": "09129fa1",
   "metadata": {},
   "outputs": [
    {
     "name": "stdout",
     "output_type": "stream",
     "text": [
      "[19:02:41] WARNING: C:/Users/Administrator/workspace/xgboost-win64_release_1.5.1/src/learner.cc:1115: Starting in XGBoost 1.3.0, the default evaluation metric used with the objective 'binary:logistic' was changed from 'error' to 'logloss'. Explicitly set eval_metric if you'd like to restore the old behavior.\n",
      "Accuracy: \t 91.44448455469032\n",
      "[[ 2231  2652]\n",
      " [  666 33233]]\n",
      "              precision    recall  f1-score   support\n",
      "\n",
      "           0       0.77      0.46      0.57      4883\n",
      "           1       0.93      0.98      0.95     33899\n",
      "\n",
      "    accuracy                           0.91     38782\n",
      "   macro avg       0.85      0.72      0.76     38782\n",
      "weighted avg       0.91      0.91      0.90     38782\n",
      "\n"
     ]
    }
   ],
   "source": [
    "xgb = XGBClassifier()\n",
    "xgb.fit(x_train,y_train)\n",
    "pred = xgb.predict(x_test)\n",
    "print(\"Accuracy: \\t\", accuracy_score(y_test,pred)*100)\n",
    "print(confusion_matrix(y_test,pred))\n",
    "print(classification_report(y_test,pred))"
   ]
  },
  {
   "cell_type": "markdown",
   "id": "5d5b9a44",
   "metadata": {},
   "source": [
    "We see that the XGBoost gives the most efficiency of 91.44%"
   ]
  },
  {
   "cell_type": "markdown",
   "id": "93abe1f8",
   "metadata": {},
   "source": [
    "# Cross Validation"
   ]
  },
  {
   "cell_type": "code",
   "execution_count": 31,
   "id": "c11c75c3",
   "metadata": {},
   "outputs": [
    {
     "name": "stdout",
     "output_type": "stream",
     "text": [
      "Cross validation score of Logistic Regression is: \t 0.8753210344598766\n"
     ]
    }
   ],
   "source": [
    "scr1 = cross_val_score(lr, x, y, cv=5)\n",
    "print(\"Cross validation score of Logistic Regression is: \\t\", scr1.mean())"
   ]
  },
  {
   "cell_type": "code",
   "execution_count": 32,
   "id": "a5bceb1b",
   "metadata": {},
   "outputs": [
    {
     "name": "stdout",
     "output_type": "stream",
     "text": [
      "Cross validation score of KNN is: \t 0.871442874214023\n"
     ]
    }
   ],
   "source": [
    "scr2 = cross_val_score(knn, x, y, cv=5)\n",
    "print(\"Cross validation score of KNN is: \\t\", scr2.mean())"
   ]
  },
  {
   "cell_type": "code",
   "execution_count": 33,
   "id": "b5973e0d",
   "metadata": {},
   "outputs": [
    {
     "name": "stdout",
     "output_type": "stream",
     "text": [
      "Cross validation score of Decision Tree is: \t 0.8649861256886915\n"
     ]
    }
   ],
   "source": [
    "scr3 = cross_val_score(dt, x, y, cv=5)\n",
    "print(\"Cross validation score of Decision Tree is: \\t\", scr3.mean())"
   ]
  },
  {
   "cell_type": "code",
   "execution_count": 34,
   "id": "b6107979",
   "metadata": {},
   "outputs": [
    {
     "name": "stdout",
     "output_type": "stream",
     "text": [
      "Cross validation score of Random Forest is: \t 0.9128598392411185\n"
     ]
    }
   ],
   "source": [
    "scr4 = cross_val_score(rf, x, y, cv=5)\n",
    "print(\"Cross validation score of Random Forest is: \\t\", scr4.mean())"
   ]
  },
  {
   "cell_type": "code",
   "execution_count": 35,
   "id": "a98798b0",
   "metadata": {},
   "outputs": [
    {
     "name": "stdout",
     "output_type": "stream",
     "text": [
      "[19:34:18] WARNING: C:/Users/Administrator/workspace/xgboost-win64_release_1.5.1/src/learner.cc:1115: Starting in XGBoost 1.3.0, the default evaluation metric used with the objective 'binary:logistic' was changed from 'error' to 'logloss'. Explicitly set eval_metric if you'd like to restore the old behavior.\n",
      "[19:34:58] WARNING: C:/Users/Administrator/workspace/xgboost-win64_release_1.5.1/src/learner.cc:1115: Starting in XGBoost 1.3.0, the default evaluation metric used with the objective 'binary:logistic' was changed from 'error' to 'logloss'. Explicitly set eval_metric if you'd like to restore the old behavior.\n",
      "[19:35:38] WARNING: C:/Users/Administrator/workspace/xgboost-win64_release_1.5.1/src/learner.cc:1115: Starting in XGBoost 1.3.0, the default evaluation metric used with the objective 'binary:logistic' was changed from 'error' to 'logloss'. Explicitly set eval_metric if you'd like to restore the old behavior.\n",
      "[19:36:20] WARNING: C:/Users/Administrator/workspace/xgboost-win64_release_1.5.1/src/learner.cc:1115: Starting in XGBoost 1.3.0, the default evaluation metric used with the objective 'binary:logistic' was changed from 'error' to 'logloss'. Explicitly set eval_metric if you'd like to restore the old behavior.\n",
      "[19:37:02] WARNING: C:/Users/Administrator/workspace/xgboost-win64_release_1.5.1/src/learner.cc:1115: Starting in XGBoost 1.3.0, the default evaluation metric used with the objective 'binary:logistic' was changed from 'error' to 'logloss'. Explicitly set eval_metric if you'd like to restore the old behavior.\n",
      "Cross validation score of XGB is: \t 0.9144018237410585\n"
     ]
    }
   ],
   "source": [
    "scr5 = cross_val_score(xgb, x, y, cv=5)\n",
    "print(\"Cross validation score of XGB is: \\t\", scr5.mean())"
   ]
  },
  {
   "cell_type": "markdown",
   "id": "08f1624a",
   "metadata": {},
   "source": [
    "We can see that XGBoost performs the best among others"
   ]
  },
  {
   "cell_type": "markdown",
   "id": "a19fce4a",
   "metadata": {},
   "source": [
    "# Hyper Parameter Tuning"
   ]
  },
  {
   "cell_type": "code",
   "execution_count": 39,
   "id": "0b122fbb",
   "metadata": {},
   "outputs": [],
   "source": [
    "gcv = GridSearchCV"
   ]
  },
  {
   "cell_type": "code",
   "execution_count": 41,
   "id": "0a5b9b8e",
   "metadata": {},
   "outputs": [
    {
     "data": {
      "text/plain": [
       "{'objective': 'binary:logistic', 'use_label_encoder': True}"
      ]
     },
     "execution_count": 41,
     "metadata": {},
     "output_type": "execute_result"
    }
   ],
   "source": [
    "gcv.get_params(xgb)"
   ]
  },
  {
   "cell_type": "code",
   "execution_count": 45,
   "id": "452349c4",
   "metadata": {},
   "outputs": [],
   "source": [
    "params = {'objective': ['binary:logistic','multi:softmax','multi:softprob'],\n",
    "              'use_label_encoder': [True,False],\n",
    "              'seed':[0,2,4,6]}"
   ]
  },
  {
   "cell_type": "code",
   "execution_count": 46,
   "id": "11af31be",
   "metadata": {},
   "outputs": [],
   "source": [
    "gcv = GridSearchCV(xgb, params, scoring='accuracy', cv=5)"
   ]
  },
  {
   "cell_type": "code",
   "execution_count": 47,
   "id": "aa6e432b",
   "metadata": {},
   "outputs": [
    {
     "name": "stdout",
     "output_type": "stream",
     "text": [
      "[21:10:25] WARNING: C:/Users/Administrator/workspace/xgboost-win64_release_1.5.1/src/learner.cc:1115: Starting in XGBoost 1.3.0, the default evaluation metric used with the objective 'binary:logistic' was changed from 'error' to 'logloss'. Explicitly set eval_metric if you'd like to restore the old behavior.\n",
      "[21:10:48] WARNING: C:/Users/Administrator/workspace/xgboost-win64_release_1.5.1/src/learner.cc:1115: Starting in XGBoost 1.3.0, the default evaluation metric used with the objective 'binary:logistic' was changed from 'error' to 'logloss'. Explicitly set eval_metric if you'd like to restore the old behavior.\n",
      "[21:11:11] WARNING: C:/Users/Administrator/workspace/xgboost-win64_release_1.5.1/src/learner.cc:1115: Starting in XGBoost 1.3.0, the default evaluation metric used with the objective 'binary:logistic' was changed from 'error' to 'logloss'. Explicitly set eval_metric if you'd like to restore the old behavior.\n",
      "[21:11:34] WARNING: C:/Users/Administrator/workspace/xgboost-win64_release_1.5.1/src/learner.cc:1115: Starting in XGBoost 1.3.0, the default evaluation metric used with the objective 'binary:logistic' was changed from 'error' to 'logloss'. Explicitly set eval_metric if you'd like to restore the old behavior.\n",
      "[21:11:58] WARNING: C:/Users/Administrator/workspace/xgboost-win64_release_1.5.1/src/learner.cc:1115: Starting in XGBoost 1.3.0, the default evaluation metric used with the objective 'binary:logistic' was changed from 'error' to 'logloss'. Explicitly set eval_metric if you'd like to restore the old behavior.\n",
      "[21:12:24] WARNING: C:/Users/Administrator/workspace/xgboost-win64_release_1.5.1/src/learner.cc:1115: Starting in XGBoost 1.3.0, the default evaluation metric used with the objective 'binary:logistic' was changed from 'error' to 'logloss'. Explicitly set eval_metric if you'd like to restore the old behavior.\n",
      "[21:12:56] WARNING: C:/Users/Administrator/workspace/xgboost-win64_release_1.5.1/src/learner.cc:1115: Starting in XGBoost 1.3.0, the default evaluation metric used with the objective 'binary:logistic' was changed from 'error' to 'logloss'. Explicitly set eval_metric if you'd like to restore the old behavior.\n",
      "[21:13:25] WARNING: C:/Users/Administrator/workspace/xgboost-win64_release_1.5.1/src/learner.cc:1115: Starting in XGBoost 1.3.0, the default evaluation metric used with the objective 'binary:logistic' was changed from 'error' to 'logloss'. Explicitly set eval_metric if you'd like to restore the old behavior.\n",
      "[21:13:53] WARNING: C:/Users/Administrator/workspace/xgboost-win64_release_1.5.1/src/learner.cc:1115: Starting in XGBoost 1.3.0, the default evaluation metric used with the objective 'binary:logistic' was changed from 'error' to 'logloss'. Explicitly set eval_metric if you'd like to restore the old behavior.\n",
      "[21:14:21] WARNING: C:/Users/Administrator/workspace/xgboost-win64_release_1.5.1/src/learner.cc:1115: Starting in XGBoost 1.3.0, the default evaluation metric used with the objective 'binary:logistic' was changed from 'error' to 'logloss'. Explicitly set eval_metric if you'd like to restore the old behavior.\n",
      "[21:14:48] WARNING: C:/Users/Administrator/workspace/xgboost-win64_release_1.5.1/src/learner.cc:1115: Starting in XGBoost 1.3.0, the default evaluation metric used with the objective 'binary:logistic' was changed from 'error' to 'logloss'. Explicitly set eval_metric if you'd like to restore the old behavior.\n",
      "[21:15:18] WARNING: C:/Users/Administrator/workspace/xgboost-win64_release_1.5.1/src/learner.cc:1115: Starting in XGBoost 1.3.0, the default evaluation metric used with the objective 'binary:logistic' was changed from 'error' to 'logloss'. Explicitly set eval_metric if you'd like to restore the old behavior.\n",
      "[21:15:48] WARNING: C:/Users/Administrator/workspace/xgboost-win64_release_1.5.1/src/learner.cc:1115: Starting in XGBoost 1.3.0, the default evaluation metric used with the objective 'binary:logistic' was changed from 'error' to 'logloss'. Explicitly set eval_metric if you'd like to restore the old behavior.\n",
      "[21:16:26] WARNING: C:/Users/Administrator/workspace/xgboost-win64_release_1.5.1/src/learner.cc:1115: Starting in XGBoost 1.3.0, the default evaluation metric used with the objective 'binary:logistic' was changed from 'error' to 'logloss'. Explicitly set eval_metric if you'd like to restore the old behavior.\n",
      "[21:17:03] WARNING: C:/Users/Administrator/workspace/xgboost-win64_release_1.5.1/src/learner.cc:1115: Starting in XGBoost 1.3.0, the default evaluation metric used with the objective 'binary:logistic' was changed from 'error' to 'logloss'. Explicitly set eval_metric if you'd like to restore the old behavior.\n",
      "[21:17:35] WARNING: C:/Users/Administrator/workspace/xgboost-win64_release_1.5.1/src/learner.cc:1115: Starting in XGBoost 1.3.0, the default evaluation metric used with the objective 'binary:logistic' was changed from 'error' to 'logloss'. Explicitly set eval_metric if you'd like to restore the old behavior.\n",
      "[21:18:05] WARNING: C:/Users/Administrator/workspace/xgboost-win64_release_1.5.1/src/learner.cc:1115: Starting in XGBoost 1.3.0, the default evaluation metric used with the objective 'binary:logistic' was changed from 'error' to 'logloss'. Explicitly set eval_metric if you'd like to restore the old behavior.\n",
      "[21:18:40] WARNING: C:/Users/Administrator/workspace/xgboost-win64_release_1.5.1/src/learner.cc:1115: Starting in XGBoost 1.3.0, the default evaluation metric used with the objective 'binary:logistic' was changed from 'error' to 'logloss'. Explicitly set eval_metric if you'd like to restore the old behavior.\n",
      "[21:19:13] WARNING: C:/Users/Administrator/workspace/xgboost-win64_release_1.5.1/src/learner.cc:1115: Starting in XGBoost 1.3.0, the default evaluation metric used with the objective 'binary:logistic' was changed from 'error' to 'logloss'. Explicitly set eval_metric if you'd like to restore the old behavior.\n",
      "[21:19:58] WARNING: C:/Users/Administrator/workspace/xgboost-win64_release_1.5.1/src/learner.cc:1115: Starting in XGBoost 1.3.0, the default evaluation metric used with the objective 'binary:logistic' was changed from 'error' to 'logloss'. Explicitly set eval_metric if you'd like to restore the old behavior.\n",
      "[21:20:31] WARNING: C:/Users/Administrator/workspace/xgboost-win64_release_1.5.1/src/learner.cc:1115: Starting in XGBoost 1.3.0, the default evaluation metric used with the objective 'binary:logistic' was changed from 'error' to 'logloss'. Explicitly set eval_metric if you'd like to restore the old behavior.\n",
      "[21:21:06] WARNING: C:/Users/Administrator/workspace/xgboost-win64_release_1.5.1/src/learner.cc:1115: Starting in XGBoost 1.3.0, the default evaluation metric used with the objective 'binary:logistic' was changed from 'error' to 'logloss'. Explicitly set eval_metric if you'd like to restore the old behavior.\n",
      "[21:21:46] WARNING: C:/Users/Administrator/workspace/xgboost-win64_release_1.5.1/src/learner.cc:1115: Starting in XGBoost 1.3.0, the default evaluation metric used with the objective 'binary:logistic' was changed from 'error' to 'logloss'. Explicitly set eval_metric if you'd like to restore the old behavior.\n",
      "[21:22:22] WARNING: C:/Users/Administrator/workspace/xgboost-win64_release_1.5.1/src/learner.cc:1115: Starting in XGBoost 1.3.0, the default evaluation metric used with the objective 'binary:logistic' was changed from 'error' to 'logloss'. Explicitly set eval_metric if you'd like to restore the old behavior.\n",
      "[21:22:59] WARNING: C:/Users/Administrator/workspace/xgboost-win64_release_1.5.1/src/learner.cc:1115: Starting in XGBoost 1.3.0, the default evaluation metric used with the objective 'binary:logistic' was changed from 'error' to 'logloss'. Explicitly set eval_metric if you'd like to restore the old behavior.\n",
      "[21:23:31] WARNING: C:/Users/Administrator/workspace/xgboost-win64_release_1.5.1/src/learner.cc:1115: Starting in XGBoost 1.3.0, the default evaluation metric used with the objective 'binary:logistic' was changed from 'error' to 'logloss'. Explicitly set eval_metric if you'd like to restore the old behavior.\n",
      "[21:24:03] WARNING: C:/Users/Administrator/workspace/xgboost-win64_release_1.5.1/src/learner.cc:1115: Starting in XGBoost 1.3.0, the default evaluation metric used with the objective 'binary:logistic' was changed from 'error' to 'logloss'. Explicitly set eval_metric if you'd like to restore the old behavior.\n",
      "[21:24:35] WARNING: C:/Users/Administrator/workspace/xgboost-win64_release_1.5.1/src/learner.cc:1115: Starting in XGBoost 1.3.0, the default evaluation metric used with the objective 'binary:logistic' was changed from 'error' to 'logloss'. Explicitly set eval_metric if you'd like to restore the old behavior.\n",
      "[21:25:06] WARNING: C:/Users/Administrator/workspace/xgboost-win64_release_1.5.1/src/learner.cc:1115: Starting in XGBoost 1.3.0, the default evaluation metric used with the objective 'binary:logistic' was changed from 'error' to 'logloss'. Explicitly set eval_metric if you'd like to restore the old behavior.\n",
      "[21:25:38] WARNING: C:/Users/Administrator/workspace/xgboost-win64_release_1.5.1/src/learner.cc:1115: Starting in XGBoost 1.3.0, the default evaluation metric used with the objective 'binary:logistic' was changed from 'error' to 'logloss'. Explicitly set eval_metric if you'd like to restore the old behavior.\n",
      "[21:26:10] WARNING: C:/Users/Administrator/workspace/xgboost-win64_release_1.5.1/src/learner.cc:1115: Starting in XGBoost 1.3.0, the default evaluation metric used with the objective 'binary:logistic' was changed from 'error' to 'logloss'. Explicitly set eval_metric if you'd like to restore the old behavior.\n",
      "[21:26:43] WARNING: C:/Users/Administrator/workspace/xgboost-win64_release_1.5.1/src/learner.cc:1115: Starting in XGBoost 1.3.0, the default evaluation metric used with the objective 'binary:logistic' was changed from 'error' to 'logloss'. Explicitly set eval_metric if you'd like to restore the old behavior.\n",
      "[21:27:16] WARNING: C:/Users/Administrator/workspace/xgboost-win64_release_1.5.1/src/learner.cc:1115: Starting in XGBoost 1.3.0, the default evaluation metric used with the objective 'binary:logistic' was changed from 'error' to 'logloss'. Explicitly set eval_metric if you'd like to restore the old behavior.\n",
      "[21:27:47] WARNING: C:/Users/Administrator/workspace/xgboost-win64_release_1.5.1/src/learner.cc:1115: Starting in XGBoost 1.3.0, the default evaluation metric used with the objective 'binary:logistic' was changed from 'error' to 'logloss'. Explicitly set eval_metric if you'd like to restore the old behavior.\n",
      "[21:28:23] WARNING: C:/Users/Administrator/workspace/xgboost-win64_release_1.5.1/src/learner.cc:1115: Starting in XGBoost 1.3.0, the default evaluation metric used with the objective 'binary:logistic' was changed from 'error' to 'logloss'. Explicitly set eval_metric if you'd like to restore the old behavior.\n",
      "[21:28:56] WARNING: C:/Users/Administrator/workspace/xgboost-win64_release_1.5.1/src/learner.cc:1115: Starting in XGBoost 1.3.0, the default evaluation metric used with the objective 'binary:logistic' was changed from 'error' to 'logloss'. Explicitly set eval_metric if you'd like to restore the old behavior.\n",
      "[21:29:36] WARNING: C:/Users/Administrator/workspace/xgboost-win64_release_1.5.1/src/learner.cc:1115: Starting in XGBoost 1.3.0, the default evaluation metric used with the objective 'binary:logistic' was changed from 'error' to 'logloss'. Explicitly set eval_metric if you'd like to restore the old behavior.\n",
      "[21:30:25] WARNING: C:/Users/Administrator/workspace/xgboost-win64_release_1.5.1/src/learner.cc:1115: Starting in XGBoost 1.3.0, the default evaluation metric used with the objective 'binary:logistic' was changed from 'error' to 'logloss'. Explicitly set eval_metric if you'd like to restore the old behavior.\n",
      "[21:31:04] WARNING: C:/Users/Administrator/workspace/xgboost-win64_release_1.5.1/src/learner.cc:1115: Starting in XGBoost 1.3.0, the default evaluation metric used with the objective 'binary:logistic' was changed from 'error' to 'logloss'. Explicitly set eval_metric if you'd like to restore the old behavior.\n",
      "[21:31:45] WARNING: C:/Users/Administrator/workspace/xgboost-win64_release_1.5.1/src/learner.cc:1115: Starting in XGBoost 1.3.0, the default evaluation metric used with the objective 'binary:logistic' was changed from 'error' to 'logloss'. Explicitly set eval_metric if you'd like to restore the old behavior.\n",
      "[21:32:51] WARNING: C:/Users/Administrator/workspace/xgboost-win64_release_1.5.1/src/learner.cc:1115: Starting in XGBoost 1.3.0, the default evaluation metric used with the objective 'binary:logistic' was changed from 'error' to 'logloss'. Explicitly set eval_metric if you'd like to restore the old behavior.\n"
     ]
    },
    {
     "data": {
      "text/plain": [
       "GridSearchCV(cv=5,\n",
       "             estimator=XGBClassifier(base_score=0.5, booster='gbtree',\n",
       "                                     colsample_bylevel=1, colsample_bynode=1,\n",
       "                                     colsample_bytree=1,\n",
       "                                     enable_categorical=False, gamma=0,\n",
       "                                     gpu_id=-1, importance_type=None,\n",
       "                                     interaction_constraints='',\n",
       "                                     learning_rate=0.300000012,\n",
       "                                     max_delta_step=0, max_depth=6,\n",
       "                                     min_child_weight=1, missing=nan,\n",
       "                                     monotone_constraints='()',\n",
       "                                     n_estimators=100, n_jobs=8,\n",
       "                                     num_parallel_tree=1, predictor='auto',\n",
       "                                     random_state=0, reg_alpha=0, reg_lambda=1,\n",
       "                                     scale_pos_weight=1, subsample=1,\n",
       "                                     tree_method='exact', validate_parameters=1,\n",
       "                                     verbosity=None),\n",
       "             param_grid={'objective': ['binary:logistic', 'multi:softmax',\n",
       "                                       'multi:softprob'],\n",
       "                         'seed': [0, 2, 4, 6],\n",
       "                         'use_label_encoder': [True, False]},\n",
       "             scoring='accuracy')"
      ]
     },
     "execution_count": 47,
     "metadata": {},
     "output_type": "execute_result"
    }
   ],
   "source": [
    "gcv.fit(x_train,y_train)"
   ]
  },
  {
   "cell_type": "code",
   "execution_count": 48,
   "id": "9f6cb549",
   "metadata": {},
   "outputs": [
    {
     "name": "stdout",
     "output_type": "stream",
     "text": [
      "Tuned Hyperparameters : {'objective': 'binary:logistic', 'seed': 0, 'use_label_encoder': True}\n",
      "Accuracy : 0.9143137105987243\n"
     ]
    }
   ],
   "source": [
    "print(\"Tuned Hyperparameters :\", gcv.best_params_)\n",
    "print(\"Accuracy :\",gcv.best_score_)"
   ]
  },
  {
   "cell_type": "code",
   "execution_count": 49,
   "id": "1aa4d547",
   "metadata": {},
   "outputs": [
    {
     "data": {
      "text/plain": [
       "0.9144448455469032"
      ]
     },
     "execution_count": 49,
     "metadata": {},
     "output_type": "execute_result"
    }
   ],
   "source": [
    "gcv_pred = gcv.best_estimator_.predict(x_test)\n",
    "accuracy_score(y_test,gcv_pred)"
   ]
  },
  {
   "cell_type": "markdown",
   "id": "b594dfa1",
   "metadata": {},
   "source": [
    "The best estimator gives the accuracy of 91.44% which is not better than the original 91.44% and hence we shall save the default"
   ]
  },
  {
   "cell_type": "markdown",
   "id": "2ac1d82f",
   "metadata": {},
   "source": [
    "# ROC AUC Plot"
   ]
  },
  {
   "cell_type": "code",
   "execution_count": 50,
   "id": "7cf7b78a",
   "metadata": {},
   "outputs": [
    {
     "data": {
      "image/png": "[encoded data removed]",
      "text/plain": [
       "<Figure size 432x288 with 1 Axes>"
      ]
     },
     "metadata": {
      "needs_background": "light"
     },
     "output_type": "display_data"
    }
   ],
   "source": [
    "plot_roc_curve(gcv.best_estimator_,x_test,y_test)\n",
    "plt.title(\"ROC AUC plot\")\n",
    "plt.show()"
   ]
  },
  {
   "cell_type": "markdown",
   "id": "439a8275",
   "metadata": {},
   "source": [
    "The AUC score of 91% is very good"
   ]
  },
  {
   "cell_type": "markdown",
   "id": "b1265413",
   "metadata": {},
   "source": [
    "# Saving the best model"
   ]
  },
  {
   "cell_type": "code",
   "execution_count": 53,
   "id": "ec575348",
   "metadata": {},
   "outputs": [
    {
     "data": {
      "text/plain": [
       "['micro_credit.pkl']"
      ]
     },
     "execution_count": 53,
     "metadata": {},
     "output_type": "execute_result"
    }
   ],
   "source": [
    "joblib.dump(gcv.best_estimator_,\"micro_credit.pkl\")"
   ]
  },
  {
   "cell_type": "code",
   "execution_count": null,
   "id": "165ef6be",
   "metadata": {},
   "outputs": [],
   "source": []
  }
 ],
 "metadata": {
  "kernelspec": {
   "display_name": "Python 3",
   "language": "python",
   "name": "python3"
  },
  "language_info": {
   "codemirror_mode": {
    "name": "ipython",
    "version": 3
   },
   "file_extension": ".py",
   "mimetype": "text/x-python",
   "name": "python",
   "nbconvert_exporter": "python",
   "pygments_lexer": "ipython3",
   "version": "3.8.8"
  }
 },
 "nbformat": 4,
 "nbformat_minor": 5
}
