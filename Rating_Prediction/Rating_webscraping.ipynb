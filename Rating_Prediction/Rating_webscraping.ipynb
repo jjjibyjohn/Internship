{
 "cells": [
  {
   "cell_type": "code",
   "execution_count": 73,
   "id": "6bbbf5f1",
   "metadata": {},
   "outputs": [],
   "source": [
    "import selenium\n",
    "from selenium import webdriver\n",
    "from selenium.webdriver.common.action_chains import ActionChains as ac\n",
    "from selenium.webdriver.common.keys import Keys\n",
    "from selenium.webdriver.common.by import By\n",
    "from selenium.webdriver.support.ui import WebDriverWait\n",
    "from selenium.webdriver.support import expected_conditions as EC\n",
    "import time\n",
    "import pandas as pd\n",
    "\n",
    "import warnings\n",
    "warnings.filterwarnings(\"ignore\")"
   ]
  },
  {
   "cell_type": "markdown",
   "id": "4754dd22",
   "metadata": {},
   "source": [
    "# Scraping"
   ]
  },
  {
   "cell_type": "markdown",
   "id": "d0c489aa",
   "metadata": {},
   "source": [
    "Now we will first collect the links for various products"
   ]
  },
  {
   "cell_type": "markdown",
   "id": "57a07da9",
   "metadata": {},
   "source": [
    "## Flipkart"
   ]
  },
  {
   "cell_type": "code",
   "execution_count": 74,
   "id": "41b1f070",
   "metadata": {},
   "outputs": [],
   "source": [
    "# Calling the webdriver exe file\n",
    "driver = webdriver.Chrome(r\"C:\\Users\\jjjib\\Desktop\\Projects\\FlipRobo\\chromedriver.exe\") "
   ]
  },
  {
   "cell_type": "code",
   "execution_count": 92,
   "id": "9bbb8054",
   "metadata": {},
   "outputs": [],
   "source": [
    "# Defining empty arrays for the data to be scraped\n",
    "c = []\n",
    "r1 = []\n",
    "c1 = []\n",
    "r2 = []\n",
    "c2 = []\n",
    "r3 = []\n",
    "c3 = []\n",
    "r4 = []\n",
    "c4 = []\n",
    "r5 = []\n",
    "c5 = []\n",
    "#link = []"
   ]
  },
  {
   "cell_type": "code",
   "execution_count": 76,
   "id": "e4307d97",
   "metadata": {},
   "outputs": [],
   "source": [
    "# Calling the url in the webdriver\n",
    "driver.get('https://www.flipkart.com/') "
   ]
  },
  {
   "cell_type": "code",
   "execution_count": 77,
   "id": "7a21fe5c",
   "metadata": {},
   "outputs": [],
   "source": [
    "#Creating hover action to list drop down menu\n",
    "ele = driver.find_element_by_xpath('/html/body/div[1]/div/div[2]/div/div/div[5]')\n",
    "hover = ac(driver).move_to_element(ele)\n",
    "hover.perform()"
   ]
  },
  {
   "cell_type": "code",
   "execution_count": 78,
   "id": "cbb99281",
   "metadata": {},
   "outputs": [],
   "source": [
    "#Selecting the option in the drop down menu\n",
    "btn = driver.find_element_by_xpath('/html/body/div[1]/div/div[2]/div/div/div[5]/a/div[2]/div[2]/div[2]/div/div/div[1]/a[8]')\n",
    "btn.click()"
   ]
  },
  {
   "cell_type": "code",
   "execution_count": 79,
   "id": "dd5595ac",
   "metadata": {},
   "outputs": [],
   "source": [
    "#Collecting all the links to the products\n",
    "for i in range(1,42):\n",
    "    tag = driver.find_elements_by_xpath('//a[@class=\"_1fQZEK\"]')\n",
    "    for j in tag:\n",
    "        link.append(j.get_attribute('href'))\n",
    "    if i<2:\n",
    "        nxt = driver.find_element_by_xpath('//a[@class=\"_1LKTO3\"]')\n",
    "    else:\n",
    "        nxt = driver.find_element_by_xpath('/html/body/div/div/div[3]/div[1]/div[2]/div[26]/div/div/nav/a[12]')\n",
    "    pge = nxt.get_attribute('href')\n",
    "    driver.get(pge) "
   ]
  },
  {
   "cell_type": "code",
   "execution_count": 93,
   "id": "06b84cf8",
   "metadata": {},
   "outputs": [],
   "source": [
    "#Scraping the reviews from each collected link\n",
    "p=0\n",
    "for url in link:\n",
    "    p+=1\n",
    "    driver.get(url)    \n",
    "    try:\n",
    "        rev = driver.find_element_by_xpath('//div[@class=\"col JOpGWq\"]/a')\n",
    "        surl = rev.get_attribute('href')\n",
    "        driver.get(surl)        \n",
    "        k=1\n",
    "        while True:\n",
    "            tag = driver.find_elements_by_xpath('//div[@class=\"col _2wzgFH K0kLPL\"]')\n",
    "            for i in tag:\n",
    "                r = i.text.split('\\n')[0]\n",
    "                c = \"\".join(i.text.split('\\n')[2:-4])\n",
    "                if(int(r)==1):\n",
    "                    if(len(r1)<2000):\n",
    "                        r1.append(int(r))\n",
    "                        c1.append(c)\n",
    "                    else:\n",
    "                        pass\n",
    "                if(int(r)==2):\n",
    "                    if(len(r2)<2000):\n",
    "                        r2.append(int(r))\n",
    "                        c2.append(c)\n",
    "                    else:\n",
    "                        pass\n",
    "                if(int(r)==3):\n",
    "                    if(len(r3)<2000):\n",
    "                        r3.append(int(r))\n",
    "                        c3.append(c)\n",
    "                    else:\n",
    "                        pass\n",
    "                if(int(r)==4):\n",
    "                    if(len(r4)<2000):\n",
    "                        r4.append(int(r))\n",
    "                        c4.append(c)\n",
    "                    else:\n",
    "                        pass\n",
    "                if(int(r)==5):\n",
    "                    if(len(r5)<2000):\n",
    "                        r5.append(int(r))\n",
    "                        c5.append(c)\n",
    "                    else:\n",
    "                        pass\n",
    "            if k<2:\n",
    "                nxt = driver.find_element_by_xpath('//a[@class=\"_1LKTO3\"]')\n",
    "                k+=1\n",
    "                pge = nxt.get_attribute('href')\n",
    "                driver.get(pge)\n",
    "            else:\n",
    "                try:\n",
    "                    nxt = driver.find_elements_by_xpath('//a[@class=\"_1LKTO3\"]')\n",
    "                    n = nxt[1]\n",
    "                    pge = n.get_attribute('href')\n",
    "                    driver.get(pge)\n",
    "                except:\n",
    "                    break\n",
    "                       \n",
    "    except:\n",
    "        try:\n",
    "            tag = driver.find_elements_by_xpath('//div[@class=\"col _2wzgFH\"]')\n",
    "            for i in tag:\n",
    "                r = i.text.split('\\n')[0]\n",
    "                c = \"\".join(i.text.split('\\n')[2:-4])\n",
    "                if(int(r)==1):\n",
    "                    if(len(r1)<2000):\n",
    "                        r1.append(int(r))\n",
    "                        c1.append(c)\n",
    "                    else:\n",
    "                        pass\n",
    "                if(int(r)==2):\n",
    "                    if(len(r2)<2000):\n",
    "                        r2.append(int(r))\n",
    "                        c2.append(c)\n",
    "                    else:\n",
    "                        pass\n",
    "                if(int(r)==3):\n",
    "                    if(len(r3)<2000):\n",
    "                        r3.append(int(r))\n",
    "                        c3.append(c)\n",
    "                    else:\n",
    "                        pass\n",
    "                if(int(r)==4):\n",
    "                    if(len(r4)<2000):\n",
    "                        r4.append(int(r))\n",
    "                        c4.append(c)\n",
    "                    else:\n",
    "                        pass\n",
    "                if(int(r)==5):\n",
    "                    if(len(r5)<2000):\n",
    "                        r5.append(int(r))\n",
    "                        c5.append(c)\n",
    "                    else:\n",
    "                        pass\n",
    "                        \n",
    "        except:\n",
    "            pass"
   ]
  },
  {
   "cell_type": "markdown",
   "id": "d1637ff2",
   "metadata": {},
   "source": [
    "## Amazon"
   ]
  },
  {
   "cell_type": "code",
   "execution_count": 280,
   "id": "ca1c7817",
   "metadata": {},
   "outputs": [],
   "source": [
    "# Calling the webdriver exe file\n",
    "driver = webdriver.Chrome(r\"C:\\Users\\jjjib\\Desktop\\Projects\\FlipRobo\\chromedriver.exe\") "
   ]
  },
  {
   "cell_type": "code",
   "execution_count": 255,
   "id": "c973bb36",
   "metadata": {},
   "outputs": [],
   "source": [
    "# Defining empty arrays for the data to be scraped\n",
    "c = []\n",
    "r11 = []\n",
    "c11 = []\n",
    "r12 = []\n",
    "c12 = []\n",
    "r13 = []\n",
    "c13 = []\n",
    "r14 = []\n",
    "c14 = []\n",
    "r15 = []\n",
    "c15 = []\n",
    "link1 = []"
   ]
  },
  {
   "cell_type": "code",
   "execution_count": 281,
   "id": "950be8d3",
   "metadata": {},
   "outputs": [],
   "source": [
    "# Calling the url in the webdriver\n",
    "driver.get('https://www.amazon.in/') "
   ]
  },
  {
   "cell_type": "code",
   "execution_count": 283,
   "id": "2faff8e6",
   "metadata": {},
   "outputs": [],
   "source": [
    "btn = driver.find_element_by_xpath('//a[@id=\"nav-hamburger-menu\"]')\n",
    "btn.click()\n",
    "driver.implicitly_wait(10)\n",
    "\n",
    "btn1 = driver.find_element_by_xpath('/html/body/div[3]/div[2]/div/ul[1]/li[15]/a')\n",
    "btn1.click()\n",
    "driver.implicitly_wait(10)\n",
    "\n",
    "btn2 = driver.find_element_by_xpath('/html/body/div[3]/div[2]/div/ul[8]/li[16]/a')\n",
    "url = btn2.get_attribute('href')\n",
    "\n",
    "# Calling the url in the webdriver\n",
    "driver.get(url) "
   ]
  },
  {
   "cell_type": "code",
   "execution_count": 284,
   "id": "7765a8fd",
   "metadata": {},
   "outputs": [],
   "source": [
    "#Selecting show all results menu\n",
    "btn = driver.find_element_by_xpath('/html/body/div[1]/div[2]/div[2]/div[1]/div[15]/div/div/div[3]/div/div/a/span')\n",
    "btn.click()"
   ]
  },
  {
   "cell_type": "code",
   "execution_count": 285,
   "id": "0a04dbe9",
   "metadata": {},
   "outputs": [],
   "source": [
    "#Collecting all the links to the products\n",
    "for i in range(1,40):\n",
    "    tag = driver.find_elements_by_xpath('//a[@class=\"a-link-normal s-underline-text s-underline-link-text s-link-style a-text-normal\"]')\n",
    "    for j in tag:\n",
    "        link1.append(j.get_attribute('href'))\n",
    "    nxt = driver.find_element_by_xpath('//a[@class=\"s-pagination-item s-pagination-next s-pagination-button s-pagination-separator\"]')\n",
    "    pge = nxt.get_attribute('href')\n",
    "    driver.get(pge) "
   ]
  },
  {
   "cell_type": "code",
   "execution_count": 291,
   "id": "843d6c87",
   "metadata": {},
   "outputs": [],
   "source": [
    "#Scraping the reviews from each collected link\n",
    "for url in link1:\n",
    "    driver.get(url)    \n",
    "    try:\n",
    "        rev = driver.find_element_by_xpath('//a[@class=\"a-link-emphasis a-text-bold\"]')\n",
    "        surl = rev.get_attribute('href')\n",
    "        driver.get(surl)\n",
    "        while True:\n",
    "            tag = driver.find_elements_by_xpath('//div[@data-hook=\"review\"]')\n",
    "            for i in tag:\n",
    "                tagr = i.find_element_by_xpath('//i[@data-hook=\"review-star-rating\"]')\n",
    "                tagc = i.find_element_by_xpath('//span[@data-hook=\"review-body\"]')\n",
    "                r = tagr.get_attribute('class').split('-')[-2].split()[0]\n",
    "                c = tagc.text\n",
    "                if(int(r)==1):\n",
    "                    if(len(r11)<2000):\n",
    "                        r11.append(int(r))\n",
    "                        c11.append(c)\n",
    "                    else:\n",
    "                        pass\n",
    "                if(int(r)==2):\n",
    "                    if(len(r12)<2000):\n",
    "                        r12.append(int(r))\n",
    "                        c12.append(c)\n",
    "                    else:\n",
    "                        pass\n",
    "                if(int(r)==3):\n",
    "                    if(len(r13)<2000):\n",
    "                        r13.append(int(r))\n",
    "                        c13.append(c)\n",
    "                    else:\n",
    "                        pass\n",
    "                if(int(r)==4):\n",
    "                    if(len(r14)<2000):\n",
    "                        r14.append(int(r))\n",
    "                        c14.append(c)\n",
    "                    else:\n",
    "                        pass\n",
    "                if(int(r)==5):\n",
    "                    if(len(r15)<2000):\n",
    "                        r15.append(int(r))\n",
    "                        c15.append(c)\n",
    "                    else:\n",
    "                        pass\n",
    "            try:\n",
    "                nxt = driver.find_element_by_xpath('//li[@class=\"a-last\"]/a')\n",
    "                pge = nxt.get_attribute('href')\n",
    "                driver.get(pge)\n",
    "            except:\n",
    "                break\n",
    "                       \n",
    "    except:\n",
    "        pass"
   ]
  },
  {
   "cell_type": "markdown",
   "id": "63685651",
   "metadata": {},
   "source": [
    "# Creating Dataframe"
   ]
  },
  {
   "cell_type": "code",
   "execution_count": 292,
   "id": "3dd49a72",
   "metadata": {},
   "outputs": [],
   "source": [
    "#Joining the scraped data into one\n",
    "rat = r1+r11+r2+r12+r3+r13+r4+r14+r5+r15\n",
    "rev = c1+c11+c2+c12+c3+c13+c4+c14+c5+c15"
   ]
  },
  {
   "cell_type": "code",
   "execution_count": 293,
   "id": "546d5594",
   "metadata": {},
   "outputs": [
    {
     "name": "stdout",
     "output_type": "stream",
     "text": [
      "Rating length:  20000\n",
      "Review length:  20000\n"
     ]
    }
   ],
   "source": [
    "#Check for the length of scraped data\n",
    "print('Rating length: ',len(rat))\n",
    "print('Review length: ',len(rev))"
   ]
  },
  {
   "cell_type": "code",
   "execution_count": 294,
   "id": "ff1dc8a5",
   "metadata": {},
   "outputs": [],
   "source": [
    "#Creating a DataFrame of the scraped data\n",
    "Review = pd.DataFrame({\"Rating\"                :  rat,\n",
    "                       \"Review\"                :  rev\n",
    "                     })"
   ]
  },
  {
   "cell_type": "code",
   "execution_count": 295,
   "id": "47f4bc49",
   "metadata": {},
   "outputs": [
    {
     "data": {
      "text/html": [
       "<div>\n",
       "<style scoped>\n",
       "    .dataframe tbody tr th:only-of-type {\n",
       "        vertical-align: middle;\n",
       "    }\n",
       "\n",
       "    .dataframe tbody tr th {\n",
       "        vertical-align: top;\n",
       "    }\n",
       "\n",
       "    .dataframe thead th {\n",
       "        text-align: right;\n",
       "    }\n",
       "</style>\n",
       "<table border=\"1\" class=\"dataframe\">\n",
       "  <thead>\n",
       "    <tr style=\"text-align: right;\">\n",
       "      <th></th>\n",
       "      <th>Rating</th>\n",
       "      <th>Review</th>\n",
       "    </tr>\n",
       "  </thead>\n",
       "  <tbody>\n",
       "    <tr>\n",
       "      <th>0</th>\n",
       "      <td>1</td>\n",
       "      <td>Display has failed in just 19 days. Never expe...</td>\n",
       "    </tr>\n",
       "    <tr>\n",
       "      <th>1</th>\n",
       "      <td>1</td>\n",
       "      <td>Worst experience everDay 1 dead pixelTechnicia...</td>\n",
       "    </tr>\n",
       "    <tr>\n",
       "      <th>2</th>\n",
       "      <td>1</td>\n",
       "      <td>Display failed just after 3 months of usage. B...</td>\n",
       "    </tr>\n",
       "    <tr>\n",
       "      <th>3</th>\n",
       "      <td>1</td>\n",
       "      <td>Very poor performance .......mother board is d...</td>\n",
       "    </tr>\n",
       "    <tr>\n",
       "      <th>4</th>\n",
       "      <td>1</td>\n",
       "      <td>Screen didnot turn on the second time after pu...</td>\n",
       "    </tr>\n",
       "    <tr>\n",
       "      <th>...</th>\n",
       "      <td>...</td>\n",
       "      <td>...</td>\n",
       "    </tr>\n",
       "    <tr>\n",
       "      <th>19995</th>\n",
       "      <td>5</td>\n",
       "      <td>today only delivered , packaging wsa quite goo...</td>\n",
       "    </tr>\n",
       "    <tr>\n",
       "      <th>19996</th>\n",
       "      <td>5</td>\n",
       "      <td>today only delivered , packaging wsa quite goo...</td>\n",
       "    </tr>\n",
       "    <tr>\n",
       "      <th>19997</th>\n",
       "      <td>5</td>\n",
       "      <td>today only delivered , packaging wsa quite goo...</td>\n",
       "    </tr>\n",
       "    <tr>\n",
       "      <th>19998</th>\n",
       "      <td>5</td>\n",
       "      <td>today only delivered , packaging wsa quite goo...</td>\n",
       "    </tr>\n",
       "    <tr>\n",
       "      <th>19999</th>\n",
       "      <td>5</td>\n",
       "      <td>today only delivered , packaging wsa quite goo...</td>\n",
       "    </tr>\n",
       "  </tbody>\n",
       "</table>\n",
       "<p>20000 rows × 2 columns</p>\n",
       "</div>"
      ],
      "text/plain": [
       "       Rating                                             Review\n",
       "0           1  Display has failed in just 19 days. Never expe...\n",
       "1           1  Worst experience everDay 1 dead pixelTechnicia...\n",
       "2           1  Display failed just after 3 months of usage. B...\n",
       "3           1  Very poor performance .......mother board is d...\n",
       "4           1  Screen didnot turn on the second time after pu...\n",
       "...       ...                                                ...\n",
       "19995       5  today only delivered , packaging wsa quite goo...\n",
       "19996       5  today only delivered , packaging wsa quite goo...\n",
       "19997       5  today only delivered , packaging wsa quite goo...\n",
       "19998       5  today only delivered , packaging wsa quite goo...\n",
       "19999       5  today only delivered , packaging wsa quite goo...\n",
       "\n",
       "[20000 rows x 2 columns]"
      ]
     },
     "execution_count": 295,
     "metadata": {},
     "output_type": "execute_result"
    }
   ],
   "source": [
    "#Calling the DataFrame for a visual check\n",
    "Review"
   ]
  },
  {
   "cell_type": "code",
   "execution_count": 296,
   "id": "a825287e",
   "metadata": {},
   "outputs": [],
   "source": [
    "#Saving to a .csv file\n",
    "Review.to_csv(\"Review.csv\")"
   ]
  },
  {
   "cell_type": "code",
   "execution_count": null,
   "id": "190c7cd8",
   "metadata": {},
   "outputs": [],
   "source": []
  }
 ],
 "metadata": {
  "kernelspec": {
   "display_name": "Python 3",
   "language": "python",
   "name": "python3"
  },
  "language_info": {
   "codemirror_mode": {
    "name": "ipython",
    "version": 3
   },
   "file_extension": ".py",
   "mimetype": "text/x-python",
   "name": "python",
   "nbconvert_exporter": "python",
   "pygments_lexer": "ipython3",
   "version": "3.8.8"
  }
 },
 "nbformat": 4,
 "nbformat_minor": 5
}
